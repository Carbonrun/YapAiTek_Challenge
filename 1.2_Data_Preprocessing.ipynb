{
 "cells": [
  {
   "cell_type": "code",
   "execution_count": 1,
   "metadata": {},
   "outputs": [],
   "source": [
    "# loading libraries\n",
    "import numpy as np\n",
    "import pandas as pd\n",
    "import matplotlib.pyplot as plt\n",
    "import seaborn as sns\n",
    "from fastai.tabular import *\n",
    "import os\n",
    "from tqdm import tqdm\n",
    "import pdb"
   ]
  },
  {
   "cell_type": "code",
   "execution_count": 2,
   "metadata": {},
   "outputs": [
    {
     "data": {
      "text/plain": [
       "['data.csv', 'data_no_missing.csv', 'test.csv']"
      ]
     },
     "execution_count": 2,
     "metadata": {},
     "output_type": "execute_result"
    }
   ],
   "source": [
    "# setting paths\n",
    "data_dir = os.path.abspath('./_data')\n",
    "train_data_fp = os.path.join(data_dir, 'data.csv')\n",
    "test_data_fp = os.path.join(data_dir, 'test.csv')\n",
    "data_no_missing_fp = os.path.join(data_dir, 'data_no_missing.csv')\n",
    "os.listdir(data_dir)"
   ]
  },
  {
   "cell_type": "code",
   "execution_count": 5,
   "metadata": {},
   "outputs": [],
   "source": [
    "# loading data-set\n",
    "train_data = pd.read_csv(train_data_fp)\n",
    "test_data = pd.read_csv(test_data_fp)\n",
    "data = pd.read_csv(data_no_missing_fp)\n",
    "n_train = len(train_data)\n",
    "n_test = len(test_data)"
   ]
  },
  {
   "cell_type": "code",
   "execution_count": 6,
   "metadata": {},
   "outputs": [
    {
     "name": "stdout",
     "output_type": "stream",
     "text": [
      "Training data-set consists of 616656 rows and 20 columns\n",
      "Test data-set consists of 154165 rows and 19 columns\n"
     ]
    }
   ],
   "source": [
    "print(f'Training data-set consists of {train_data.shape[0]} rows and {train_data.shape[1]} columns')\n",
    "print(f'Test data-set consists of {test_data.shape[0]} rows and {test_data.shape[1]} columns')"
   ]
  },
  {
   "cell_type": "code",
   "execution_count": 7,
   "metadata": {},
   "outputs": [
    {
     "data": {
      "text/html": [
       "<div>\n",
       "<style scoped>\n",
       "    .dataframe tbody tr th:only-of-type {\n",
       "        vertical-align: middle;\n",
       "    }\n",
       "\n",
       "    .dataframe tbody tr th {\n",
       "        vertical-align: top;\n",
       "    }\n",
       "\n",
       "    .dataframe thead th {\n",
       "        text-align: right;\n",
       "    }\n",
       "</style>\n",
       "<table border=\"1\" class=\"dataframe\">\n",
       "  <thead>\n",
       "    <tr style=\"text-align: right;\">\n",
       "      <th></th>\n",
       "      <th>Unnamed: 0</th>\n",
       "      <th>Episode</th>\n",
       "      <th>Station</th>\n",
       "      <th>Channel Type</th>\n",
       "      <th>Season</th>\n",
       "      <th>Year</th>\n",
       "      <th>Date</th>\n",
       "      <th>Day of week</th>\n",
       "      <th>Start_time</th>\n",
       "      <th>End_time</th>\n",
       "      <th>Length</th>\n",
       "      <th>Name of show</th>\n",
       "      <th>Name of episode</th>\n",
       "      <th>Genre</th>\n",
       "      <th>First time or rerun</th>\n",
       "      <th># of episode in the season</th>\n",
       "      <th>Movie?</th>\n",
       "      <th>Game of the Canadiens during episode?</th>\n",
       "      <th>Temperature in Montreal during episode</th>\n",
       "    </tr>\n",
       "  </thead>\n",
       "  <tbody>\n",
       "    <tr>\n",
       "      <th>0</th>\n",
       "      <td>1</td>\n",
       "      <td>Vidéoclips V</td>\n",
       "      <td>V Total</td>\n",
       "      <td>General Channel</td>\n",
       "      <td>Fall</td>\n",
       "      <td>2016</td>\n",
       "      <td>2016-08-29</td>\n",
       "      <td>Monday</td>\n",
       "      <td>2016-08-29 06:00:00</td>\n",
       "      <td>2016-08-29 08:00:00</td>\n",
       "      <td>8</td>\n",
       "      <td>Vidéoclips V</td>\n",
       "      <td>NaN</td>\n",
       "      <td>Music Video Clips</td>\n",
       "      <td>No</td>\n",
       "      <td>Yes</td>\n",
       "      <td>No</td>\n",
       "      <td>No</td>\n",
       "      <td>20.4</td>\n",
       "    </tr>\n",
       "  </tbody>\n",
       "</table>\n",
       "</div>"
      ],
      "text/plain": [
       "   Unnamed: 0       Episode  Station     Channel Type Season  Year  \\\n",
       "0           1  Vidéoclips V  V Total  General Channel   Fall  2016   \n",
       "\n",
       "         Date Day of week           Start_time             End_time  Length  \\\n",
       "0  2016-08-29      Monday  2016-08-29 06:00:00  2016-08-29 08:00:00       8   \n",
       "\n",
       "   Name of show Name of episode              Genre First time or rerun  \\\n",
       "0  Vidéoclips V             NaN  Music Video Clips                  No   \n",
       "\n",
       "  # of episode in the season Movie? Game of the Canadiens during episode?  \\\n",
       "0                        Yes     No                                    No   \n",
       "\n",
       "   Temperature in Montreal during episode  \n",
       "0                                    20.4  "
      ]
     },
     "execution_count": 7,
     "metadata": {},
     "output_type": "execute_result"
    }
   ],
   "source": [
    "# store target value and drop it from 'train_data'\n",
    "market_share = train_data.loc[:, 'Market Share_total'].values\n",
    "train_data.drop(columns=['Market Share_total'], inplace=True)\n",
    "train_data.head(1)"
   ]
  },
  {
   "cell_type": "code",
   "execution_count": 14,
   "metadata": {},
   "outputs": [
    {
     "data": {
      "text/html": [
       "<div>\n",
       "<style scoped>\n",
       "    .dataframe tbody tr th:only-of-type {\n",
       "        vertical-align: middle;\n",
       "    }\n",
       "\n",
       "    .dataframe tbody tr th {\n",
       "        vertical-align: top;\n",
       "    }\n",
       "\n",
       "    .dataframe thead th {\n",
       "        text-align: right;\n",
       "    }\n",
       "</style>\n",
       "<table border=\"1\" class=\"dataframe\">\n",
       "  <thead>\n",
       "    <tr style=\"text-align: right;\">\n",
       "      <th></th>\n",
       "      <th>0</th>\n",
       "      <th>1</th>\n",
       "      <th>2</th>\n",
       "      <th>3</th>\n",
       "      <th>4</th>\n",
       "    </tr>\n",
       "  </thead>\n",
       "  <tbody>\n",
       "    <tr>\n",
       "      <th>station</th>\n",
       "      <td>V Total</td>\n",
       "      <td>V Total</td>\n",
       "      <td>V Total</td>\n",
       "      <td>V Total</td>\n",
       "      <td>V Total</td>\n",
       "    </tr>\n",
       "    <tr>\n",
       "      <th>ch_type</th>\n",
       "      <td>General Channel</td>\n",
       "      <td>General Channel</td>\n",
       "      <td>General Channel</td>\n",
       "      <td>General Channel</td>\n",
       "      <td>General Channel</td>\n",
       "    </tr>\n",
       "    <tr>\n",
       "      <th>length</th>\n",
       "      <td>8</td>\n",
       "      <td>2</td>\n",
       "      <td>2</td>\n",
       "      <td>4</td>\n",
       "      <td>2</td>\n",
       "    </tr>\n",
       "    <tr>\n",
       "      <th>show_name</th>\n",
       "      <td>Vidéoclips V</td>\n",
       "      <td>Apollo dans l'frigo</td>\n",
       "      <td>Infopublicité</td>\n",
       "      <td>Infos, Les</td>\n",
       "      <td>Souper presque parfait, Un</td>\n",
       "    </tr>\n",
       "    <tr>\n",
       "      <th>genre</th>\n",
       "      <td>Music Video Clips</td>\n",
       "      <td>Informal Education and Recreation and Leisure</td>\n",
       "      <td>Infomercials, Promotional and Corporate Videos</td>\n",
       "      <td>News</td>\n",
       "      <td>Reality Programs</td>\n",
       "    </tr>\n",
       "    <tr>\n",
       "      <th>first_or_rerun</th>\n",
       "      <td>No</td>\n",
       "      <td>No</td>\n",
       "      <td>No</td>\n",
       "      <td>No</td>\n",
       "      <td>No</td>\n",
       "    </tr>\n",
       "    <tr>\n",
       "      <th>episodes_in_season</th>\n",
       "      <td>Yes</td>\n",
       "      <td>Yes</td>\n",
       "      <td>Yes</td>\n",
       "      <td>Yes</td>\n",
       "      <td>Yes</td>\n",
       "    </tr>\n",
       "    <tr>\n",
       "      <th>is_movie</th>\n",
       "      <td>No</td>\n",
       "      <td>No</td>\n",
       "      <td>No</td>\n",
       "      <td>No</td>\n",
       "      <td>No</td>\n",
       "    </tr>\n",
       "    <tr>\n",
       "      <th>overlaped_with_game</th>\n",
       "      <td>No</td>\n",
       "      <td>No</td>\n",
       "      <td>No</td>\n",
       "      <td>No</td>\n",
       "      <td>No</td>\n",
       "    </tr>\n",
       "    <tr>\n",
       "      <th>temperature</th>\n",
       "      <td>20.4</td>\n",
       "      <td>19.125</td>\n",
       "      <td>19.125</td>\n",
       "      <td>18.125</td>\n",
       "      <td>18.25</td>\n",
       "    </tr>\n",
       "    <tr>\n",
       "      <th>Year</th>\n",
       "      <td>2016</td>\n",
       "      <td>2016</td>\n",
       "      <td>2016</td>\n",
       "      <td>2016</td>\n",
       "      <td>2016</td>\n",
       "    </tr>\n",
       "    <tr>\n",
       "      <th>Month</th>\n",
       "      <td>8</td>\n",
       "      <td>8</td>\n",
       "      <td>8</td>\n",
       "      <td>8</td>\n",
       "      <td>8</td>\n",
       "    </tr>\n",
       "    <tr>\n",
       "      <th>Week</th>\n",
       "      <td>35</td>\n",
       "      <td>35</td>\n",
       "      <td>35</td>\n",
       "      <td>35</td>\n",
       "      <td>35</td>\n",
       "    </tr>\n",
       "    <tr>\n",
       "      <th>Day</th>\n",
       "      <td>29</td>\n",
       "      <td>29</td>\n",
       "      <td>29</td>\n",
       "      <td>29</td>\n",
       "      <td>29</td>\n",
       "    </tr>\n",
       "    <tr>\n",
       "      <th>Dayofweek</th>\n",
       "      <td>0</td>\n",
       "      <td>0</td>\n",
       "      <td>0</td>\n",
       "      <td>0</td>\n",
       "      <td>0</td>\n",
       "    </tr>\n",
       "    <tr>\n",
       "      <th>Dayofyear</th>\n",
       "      <td>242</td>\n",
       "      <td>242</td>\n",
       "      <td>242</td>\n",
       "      <td>242</td>\n",
       "      <td>242</td>\n",
       "    </tr>\n",
       "    <tr>\n",
       "      <th>Is_month_end</th>\n",
       "      <td>False</td>\n",
       "      <td>False</td>\n",
       "      <td>False</td>\n",
       "      <td>False</td>\n",
       "      <td>False</td>\n",
       "    </tr>\n",
       "    <tr>\n",
       "      <th>Is_month_start</th>\n",
       "      <td>False</td>\n",
       "      <td>False</td>\n",
       "      <td>False</td>\n",
       "      <td>False</td>\n",
       "      <td>False</td>\n",
       "    </tr>\n",
       "    <tr>\n",
       "      <th>Is_quarter_end</th>\n",
       "      <td>False</td>\n",
       "      <td>False</td>\n",
       "      <td>False</td>\n",
       "      <td>False</td>\n",
       "      <td>False</td>\n",
       "    </tr>\n",
       "    <tr>\n",
       "      <th>Is_quarter_start</th>\n",
       "      <td>False</td>\n",
       "      <td>False</td>\n",
       "      <td>False</td>\n",
       "      <td>False</td>\n",
       "      <td>False</td>\n",
       "    </tr>\n",
       "    <tr>\n",
       "      <th>Is_year_end</th>\n",
       "      <td>False</td>\n",
       "      <td>False</td>\n",
       "      <td>False</td>\n",
       "      <td>False</td>\n",
       "      <td>False</td>\n",
       "    </tr>\n",
       "    <tr>\n",
       "      <th>Is_year_start</th>\n",
       "      <td>False</td>\n",
       "      <td>False</td>\n",
       "      <td>False</td>\n",
       "      <td>False</td>\n",
       "      <td>False</td>\n",
       "    </tr>\n",
       "    <tr>\n",
       "      <th>Elapsed</th>\n",
       "      <td>1472428800</td>\n",
       "      <td>1472428800</td>\n",
       "      <td>1472428800</td>\n",
       "      <td>1472428800</td>\n",
       "      <td>1472428800</td>\n",
       "    </tr>\n",
       "    <tr>\n",
       "      <th>running_time</th>\n",
       "      <td>120</td>\n",
       "      <td>30</td>\n",
       "      <td>30</td>\n",
       "      <td>60</td>\n",
       "      <td>30</td>\n",
       "    </tr>\n",
       "    <tr>\n",
       "      <th>episode_name_na</th>\n",
       "      <td>1</td>\n",
       "      <td>1</td>\n",
       "      <td>1</td>\n",
       "      <td>1</td>\n",
       "      <td>1</td>\n",
       "    </tr>\n",
       "    <tr>\n",
       "      <th>temperature_na</th>\n",
       "      <td>0</td>\n",
       "      <td>0</td>\n",
       "      <td>0</td>\n",
       "      <td>0</td>\n",
       "      <td>0</td>\n",
       "    </tr>\n",
       "  </tbody>\n",
       "</table>\n",
       "</div>"
      ],
      "text/plain": [
       "                                     0  \\\n",
       "station                        V Total   \n",
       "ch_type                General Channel   \n",
       "length                               8   \n",
       "show_name                 Vidéoclips V   \n",
       "genre                Music Video Clips   \n",
       "first_or_rerun                      No   \n",
       "episodes_in_season                 Yes   \n",
       "is_movie                            No   \n",
       "overlaped_with_game                 No   \n",
       "temperature                       20.4   \n",
       "Year                              2016   \n",
       "Month                                8   \n",
       "Week                                35   \n",
       "Day                                 29   \n",
       "Dayofweek                            0   \n",
       "Dayofyear                          242   \n",
       "Is_month_end                     False   \n",
       "Is_month_start                   False   \n",
       "Is_quarter_end                   False   \n",
       "Is_quarter_start                 False   \n",
       "Is_year_end                      False   \n",
       "Is_year_start                    False   \n",
       "Elapsed                     1472428800   \n",
       "running_time                       120   \n",
       "episode_name_na                      1   \n",
       "temperature_na                       0   \n",
       "\n",
       "                                                                 1  \\\n",
       "station                                                    V Total   \n",
       "ch_type                                            General Channel   \n",
       "length                                                           2   \n",
       "show_name                                      Apollo dans l'frigo   \n",
       "genre                Informal Education and Recreation and Leisure   \n",
       "first_or_rerun                                                  No   \n",
       "episodes_in_season                                             Yes   \n",
       "is_movie                                                        No   \n",
       "overlaped_with_game                                             No   \n",
       "temperature                                                 19.125   \n",
       "Year                                                          2016   \n",
       "Month                                                            8   \n",
       "Week                                                            35   \n",
       "Day                                                             29   \n",
       "Dayofweek                                                        0   \n",
       "Dayofyear                                                      242   \n",
       "Is_month_end                                                 False   \n",
       "Is_month_start                                               False   \n",
       "Is_quarter_end                                               False   \n",
       "Is_quarter_start                                             False   \n",
       "Is_year_end                                                  False   \n",
       "Is_year_start                                                False   \n",
       "Elapsed                                                 1472428800   \n",
       "running_time                                                    30   \n",
       "episode_name_na                                                  1   \n",
       "temperature_na                                                   0   \n",
       "\n",
       "                                                                  2  \\\n",
       "station                                                     V Total   \n",
       "ch_type                                             General Channel   \n",
       "length                                                            2   \n",
       "show_name                                             Infopublicité   \n",
       "genre                Infomercials, Promotional and Corporate Videos   \n",
       "first_or_rerun                                                   No   \n",
       "episodes_in_season                                              Yes   \n",
       "is_movie                                                         No   \n",
       "overlaped_with_game                                              No   \n",
       "temperature                                                  19.125   \n",
       "Year                                                           2016   \n",
       "Month                                                             8   \n",
       "Week                                                             35   \n",
       "Day                                                              29   \n",
       "Dayofweek                                                         0   \n",
       "Dayofyear                                                       242   \n",
       "Is_month_end                                                  False   \n",
       "Is_month_start                                                False   \n",
       "Is_quarter_end                                                False   \n",
       "Is_quarter_start                                              False   \n",
       "Is_year_end                                                   False   \n",
       "Is_year_start                                                 False   \n",
       "Elapsed                                                  1472428800   \n",
       "running_time                                                     30   \n",
       "episode_name_na                                                   1   \n",
       "temperature_na                                                    0   \n",
       "\n",
       "                                   3                           4  \n",
       "station                      V Total                     V Total  \n",
       "ch_type              General Channel             General Channel  \n",
       "length                             4                           2  \n",
       "show_name                 Infos, Les  Souper presque parfait, Un  \n",
       "genre                           News            Reality Programs  \n",
       "first_or_rerun                    No                          No  \n",
       "episodes_in_season               Yes                         Yes  \n",
       "is_movie                          No                          No  \n",
       "overlaped_with_game               No                          No  \n",
       "temperature                   18.125                       18.25  \n",
       "Year                            2016                        2016  \n",
       "Month                              8                           8  \n",
       "Week                              35                          35  \n",
       "Day                               29                          29  \n",
       "Dayofweek                          0                           0  \n",
       "Dayofyear                        242                         242  \n",
       "Is_month_end                   False                       False  \n",
       "Is_month_start                 False                       False  \n",
       "Is_quarter_end                 False                       False  \n",
       "Is_quarter_start               False                       False  \n",
       "Is_year_end                    False                       False  \n",
       "Is_year_start                  False                       False  \n",
       "Elapsed                   1472428800                  1472428800  \n",
       "running_time                      60                          30  \n",
       "episode_name_na                    1                           1  \n",
       "temperature_na                     0                           0  "
      ]
     },
     "execution_count": 14,
     "metadata": {},
     "output_type": "execute_result"
    }
   ],
   "source": [
    "data.head().T"
   ]
  },
  {
   "cell_type": "markdown",
   "metadata": {},
   "source": [
    "## Dealling with categorical features"
   ]
  },
  {
   "cell_type": "code",
   "execution_count": 10,
   "metadata": {},
   "outputs": [
    {
     "data": {
      "text/plain": [
       "Index(['station', 'ch_type', 'length', 'show_name', 'genre', 'first_or_rerun',\n",
       "       'episodes_in_season', 'is_movie', 'overlaped_with_game', 'temperature',\n",
       "       'Year', 'Month', 'Week', 'Day', 'Dayofweek', 'Dayofyear',\n",
       "       'Is_month_end', 'Is_month_start', 'Is_quarter_end', 'Is_quarter_start',\n",
       "       'Is_year_end', 'Is_year_start', 'Elapsed', 'running_time',\n",
       "       'episode_name_na', 'temperature_na'],\n",
       "      dtype='object')"
      ]
     },
     "execution_count": 10,
     "metadata": {},
     "output_type": "execute_result"
    }
   ],
   "source": [
    "data.columns"
   ]
  },
  {
   "cell_type": "code",
   "execution_count": 15,
   "metadata": {},
   "outputs": [],
   "source": [
    "to_drop = ['show_name', 'Week', 'Day', 'Dayofyear']\n",
    "\n",
    "cat_names = ['station', 'ch_type', 'genre', 'first_or_rerun', 'episodes_in_season', 'is_movie',\n",
    "             'overlaped_with_game', 'Year', 'Month', 'Dayofweek', 'Is_month_end', 'Is_month_start', 'Is_quarter_end',\n",
    "             'Is_quarter_start', 'Is_year_end', 'Is_year_start', 'episode_name_na', 'temperature_na']\n",
    "\n",
    "cont_names = ['length', 'temperature', 'Elapsed', 'running_time']"
   ]
  },
  {
   "cell_type": "code",
   "execution_count": 17,
   "metadata": {},
   "outputs": [
    {
     "data": {
      "text/plain": [
       "True"
      ]
     },
     "execution_count": 17,
     "metadata": {},
     "output_type": "execute_result"
    }
   ],
   "source": [
    "len(to_drop) + len(cat_names) + len(cont_names) == len(data.columns)"
   ]
  },
  {
   "cell_type": "code",
   "execution_count": 18,
   "metadata": {},
   "outputs": [],
   "source": [
    "data.drop(columns=to_drop, inplace=True)"
   ]
  },
  {
   "cell_type": "code",
   "execution_count": 23,
   "metadata": {},
   "outputs": [
    {
     "name": "stdout",
     "output_type": "stream",
     "text": [
      "Number of unique entries in categorical columns:\n",
      "station: 24\n",
      "ch_type: 2\n",
      "genre: 27\n",
      "first_or_rerun: 2\n",
      "episodes_in_season: 2\n",
      "is_movie: 2\n",
      "overlaped_with_game: 2\n",
      "Year: 4\n",
      "Month: 12\n",
      "Dayofweek: 7\n",
      "Is_month_end: 2\n",
      "Is_month_start: 2\n",
      "Is_quarter_end: 2\n",
      "Is_quarter_start: 2\n",
      "Is_year_end: 2\n",
      "Is_year_start: 2\n",
      "episode_name_na: 2\n",
      "temperature_na: 2\n"
     ]
    }
   ],
   "source": [
    "print('Number of unique entries in categorical columns:')\n",
    "for col in cat_names:\n",
    "    print(f'{col}: {len(data[col].unique())}')"
   ]
  },
  {
   "cell_type": "code",
   "execution_count": 24,
   "metadata": {},
   "outputs": [
    {
     "data": {
      "text/plain": [
       "0                                         Music Video Clips\n",
       "1             Informal Education and Recreation and Leisure\n",
       "2            Infomercials, Promotional and Corporate Videos\n",
       "3                                                      News\n",
       "4                                          Reality Programs\n",
       "                                ...                        \n",
       "770816             General Entertainment and Human Interest\n",
       "770817    Music and Dance other than Music Video Program...\n",
       "770818                    Theatre Feature Films Aired on TV\n",
       "770819                    Theatre Feature Films Aired on TV\n",
       "770820                    Theatre Feature Films Aired on TV\n",
       "Name: genre, Length: 770821, dtype: object"
      ]
     },
     "execution_count": 24,
     "metadata": {},
     "output_type": "execute_result"
    }
   ],
   "source": [
    "data['genre']"
   ]
  },
  {
   "cell_type": "code",
   "execution_count": null,
   "metadata": {},
   "outputs": [],
   "source": []
  },
  {
   "cell_type": "code",
   "execution_count": null,
   "metadata": {},
   "outputs": [],
   "source": []
  },
  {
   "cell_type": "code",
   "execution_count": null,
   "metadata": {},
   "outputs": [],
   "source": []
  },
  {
   "cell_type": "code",
   "execution_count": null,
   "metadata": {},
   "outputs": [],
   "source": []
  },
  {
   "cell_type": "code",
   "execution_count": null,
   "metadata": {},
   "outputs": [],
   "source": []
  },
  {
   "cell_type": "code",
   "execution_count": null,
   "metadata": {},
   "outputs": [],
   "source": []
  },
  {
   "cell_type": "code",
   "execution_count": null,
   "metadata": {},
   "outputs": [],
   "source": []
  },
  {
   "cell_type": "code",
   "execution_count": null,
   "metadata": {},
   "outputs": [],
   "source": []
  },
  {
   "cell_type": "code",
   "execution_count": null,
   "metadata": {},
   "outputs": [],
   "source": []
  },
  {
   "cell_type": "code",
   "execution_count": null,
   "metadata": {},
   "outputs": [],
   "source": []
  },
  {
   "cell_type": "code",
   "execution_count": null,
   "metadata": {},
   "outputs": [],
   "source": []
  },
  {
   "cell_type": "code",
   "execution_count": null,
   "metadata": {},
   "outputs": [],
   "source": []
  },
  {
   "cell_type": "code",
   "execution_count": null,
   "metadata": {},
   "outputs": [],
   "source": []
  },
  {
   "cell_type": "code",
   "execution_count": null,
   "metadata": {},
   "outputs": [],
   "source": []
  },
  {
   "cell_type": "code",
   "execution_count": null,
   "metadata": {},
   "outputs": [],
   "source": []
  },
  {
   "cell_type": "code",
   "execution_count": null,
   "metadata": {},
   "outputs": [],
   "source": []
  },
  {
   "cell_type": "code",
   "execution_count": null,
   "metadata": {},
   "outputs": [],
   "source": []
  },
  {
   "cell_type": "code",
   "execution_count": null,
   "metadata": {},
   "outputs": [],
   "source": []
  },
  {
   "cell_type": "code",
   "execution_count": null,
   "metadata": {},
   "outputs": [],
   "source": []
  },
  {
   "cell_type": "code",
   "execution_count": null,
   "metadata": {},
   "outputs": [],
   "source": []
  },
  {
   "cell_type": "code",
   "execution_count": null,
   "metadata": {},
   "outputs": [],
   "source": []
  },
  {
   "cell_type": "code",
   "execution_count": null,
   "metadata": {},
   "outputs": [],
   "source": []
  },
  {
   "cell_type": "code",
   "execution_count": null,
   "metadata": {},
   "outputs": [],
   "source": []
  },
  {
   "cell_type": "code",
   "execution_count": null,
   "metadata": {},
   "outputs": [],
   "source": []
  },
  {
   "cell_type": "code",
   "execution_count": null,
   "metadata": {},
   "outputs": [],
   "source": []
  },
  {
   "cell_type": "code",
   "execution_count": null,
   "metadata": {},
   "outputs": [],
   "source": []
  },
  {
   "cell_type": "code",
   "execution_count": null,
   "metadata": {},
   "outputs": [],
   "source": []
  },
  {
   "cell_type": "code",
   "execution_count": null,
   "metadata": {},
   "outputs": [],
   "source": []
  },
  {
   "cell_type": "code",
   "execution_count": null,
   "metadata": {},
   "outputs": [],
   "source": []
  },
  {
   "cell_type": "code",
   "execution_count": null,
   "metadata": {},
   "outputs": [],
   "source": []
  }
 ],
 "metadata": {
  "kernelspec": {
   "display_name": "Python 3",
   "language": "python",
   "name": "python3"
  },
  "language_info": {
   "codemirror_mode": {
    "name": "ipython",
    "version": 3
   },
   "file_extension": ".py",
   "mimetype": "text/x-python",
   "name": "python",
   "nbconvert_exporter": "python",
   "pygments_lexer": "ipython3",
   "version": "3.7.5"
  }
 },
 "nbformat": 4,
 "nbformat_minor": 4
}
