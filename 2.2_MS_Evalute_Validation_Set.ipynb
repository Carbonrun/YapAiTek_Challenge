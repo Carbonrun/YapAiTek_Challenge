{
  "nbformat": 4,
  "nbformat_minor": 0,
  "metadata": {
    "kernelspec": {
      "display_name": "Python 3",
      "language": "python",
      "name": "python3"
    },
    "language_info": {
      "codemirror_mode": {
        "name": "ipython",
        "version": 3
      },
      "file_extension": ".py",
      "mimetype": "text/x-python",
      "name": "python",
      "nbconvert_exporter": "python",
      "pygments_lexer": "ipython3",
      "version": "3.7.6"
    },
    "colab": {
      "name": "2.2_MS_Evalute-Validation-Set.ipynb",
      "provenance": [],
      "collapsed_sections": [
        "PZ1NeVE8yd_u",
        "0S5GPKNbyoII",
        "RlRDr6lrwQXC",
        "rn2LkHgHyX1j"
      ]
    }
  },
  "cells": [
    {
      "cell_type": "code",
      "metadata": {
        "id": "s98HihTld_dL",
        "colab_type": "code",
        "colab": {}
      },
      "source": [
        "%matplotlib inline\n",
        "%load_ext autoreload\n",
        "%autoreload 2"
      ],
      "execution_count": 0,
      "outputs": []
    },
    {
      "cell_type": "code",
      "metadata": {
        "id": "0E--rQkFd_dQ",
        "colab_type": "code",
        "colab": {}
      },
      "source": [
        "## loading libraries\n",
        "import numpy as np\n",
        "import pandas as pd\n",
        "import matplotlib.pyplot as plt\n",
        "import os\n",
        "import time\n",
        "# import zipfile \n",
        "\n",
        "from sklearn.ensemble import RandomForestRegressor, GradientBoostingRegressor\n",
        "from xgboost import XGBRegressor\n",
        "from sklearn.model_selection import train_test_split, cross_val_score\n",
        "from sklearn.metrics import mean_absolute_error, mean_squared_error, r2_score\n",
        "\n",
        "from transform import TargetTransform   # custom class for handling target value transformation"
      ],
      "execution_count": 0,
      "outputs": []
    },
    {
      "cell_type": "code",
      "metadata": {
        "id": "f_9QxeQFeY9I",
        "colab_type": "code",
        "colab": {}
      },
      "source": [
        "# with zipfile.ZipFile('data.zip', 'r') as z:\n",
        "#     z.extractall()"
      ],
      "execution_count": 0,
      "outputs": []
    },
    {
      "cell_type": "code",
      "metadata": {
        "id": "j6uCp2cxd_dT",
        "colab_type": "code",
        "colab": {
          "base_uri": "https://localhost:8080/",
          "height": 151
        },
        "outputId": "9ed90ea3-7d59-4f2a-f88a-c4bc4a123a63"
      },
      "source": [
        "# setting paths\n",
        "data_dir = os.path.abspath('./_data')\n",
        "train_data_fp = os.path.join(data_dir, 'train_clean.csv')\n",
        "test_data_fp = os.path.join(data_dir, 'test_clean.csv')\n",
        "data_fp = os.path.join(data_dir, 'data_clean.csv')\n",
        "os.listdir(data_dir)"
      ],
      "execution_count": 7,
      "outputs": [
        {
          "output_type": "execute_result",
          "data": {
            "text/plain": [
              "['.config',\n",
              " 'test_clean.csv',\n",
              " 'train_clean.csv',\n",
              " 'data_clean.csv',\n",
              " '__pycache__',\n",
              " 'data.zip',\n",
              " 'transform.py',\n",
              " 'sample_data']"
            ]
          },
          "metadata": {
            "tags": []
          },
          "execution_count": 7
        }
      ]
    },
    {
      "cell_type": "code",
      "metadata": {
        "id": "OkiLCGI-d_dX",
        "colab_type": "code",
        "colab": {
          "base_uri": "https://localhost:8080/",
          "height": 210
        },
        "outputId": "7e8c7a90-dabd-41c0-ec02-19fcaed1bdb4"
      },
      "source": [
        "# load the training set\n",
        "train_set = pd.read_csv(train_data_fp)\n",
        "train_set.head(1)"
      ],
      "execution_count": 21,
      "outputs": [
        {
          "output_type": "execute_result",
          "data": {
            "text/html": [
              "<div>\n",
              "<style scoped>\n",
              "    .dataframe tbody tr th:only-of-type {\n",
              "        vertical-align: middle;\n",
              "    }\n",
              "\n",
              "    .dataframe tbody tr th {\n",
              "        vertical-align: top;\n",
              "    }\n",
              "\n",
              "    .dataframe thead th {\n",
              "        text-align: right;\n",
              "    }\n",
              "</style>\n",
              "<table border=\"1\" class=\"dataframe\">\n",
              "  <thead>\n",
              "    <tr style=\"text-align: right;\">\n",
              "      <th></th>\n",
              "      <th>ch_type</th>\n",
              "      <th>length</th>\n",
              "      <th>first_or_rerun</th>\n",
              "      <th>episodes_in_season</th>\n",
              "      <th>is_movie</th>\n",
              "      <th>overlaped_with_game</th>\n",
              "      <th>temperature</th>\n",
              "      <th>Is_month_end</th>\n",
              "      <th>Is_month_start</th>\n",
              "      <th>Is_quarter_end</th>\n",
              "      <th>Is_quarter_start</th>\n",
              "      <th>Is_year_end</th>\n",
              "      <th>Is_year_start</th>\n",
              "      <th>Elapsed</th>\n",
              "      <th>running_time</th>\n",
              "      <th>episode_name_na</th>\n",
              "      <th>temperature_na</th>\n",
              "      <th>station_ARTV+</th>\n",
              "      <th>station_Canal D+</th>\n",
              "      <th>station_Canal Vie+</th>\n",
              "      <th>station_Evasion+</th>\n",
              "      <th>station_Historia+</th>\n",
              "      <th>station_LCN+</th>\n",
              "      <th>station_MAX+</th>\n",
              "      <th>station_Meteomedia+</th>\n",
              "      <th>station_MusiquePlus+ (retired Aug 25, 2019)</th>\n",
              "      <th>station_PYC Online Stream Fr CBC-8+</th>\n",
              "      <th>station_PYC Online Stream Fr CBC-9+</th>\n",
              "      <th>station_RDI+</th>\n",
              "      <th>station_RDS+</th>\n",
              "      <th>station_RDS2+</th>\n",
              "      <th>station_SRC Total</th>\n",
              "      <th>station_Series++</th>\n",
              "      <th>station_TQ Total</th>\n",
              "      <th>station_TV5+</th>\n",
              "      <th>station_TVA Total</th>\n",
              "      <th>station_Teletoon Fr.+</th>\n",
              "      <th>station_Unis TV+</th>\n",
              "      <th>station_V Total</th>\n",
              "      <th>station_VRAK+</th>\n",
              "      <th>...</th>\n",
              "      <th>genre_Music Video Programs</th>\n",
              "      <th>genre_Music and Dance other than Music Video Programs or Clips</th>\n",
              "      <th>genre_News</th>\n",
              "      <th>genre_Ongoing Comedy Series (Sitcoms)</th>\n",
              "      <th>genre_Ongoing Dramatic Series</th>\n",
              "      <th>genre_Other Drama</th>\n",
              "      <th>genre_Professional Sports</th>\n",
              "      <th>genre_Programs of Comedy Sketches, Improvision, Unscripted Works</th>\n",
              "      <th>genre_Reality Programs</th>\n",
              "      <th>genre_Religion</th>\n",
              "      <th>genre_Reporting and Actualities</th>\n",
              "      <th>genre_Specials, Mini-Series or Made-for-TV Feature Films</th>\n",
              "      <th>genre_Theatre Feature Films Aired on TV</th>\n",
              "      <th>genre_Unknown</th>\n",
              "      <th>genre_Variety</th>\n",
              "      <th>Year_2016</th>\n",
              "      <th>Year_2017</th>\n",
              "      <th>Year_2018</th>\n",
              "      <th>Year_2019</th>\n",
              "      <th>Month_1</th>\n",
              "      <th>Month_2</th>\n",
              "      <th>Month_3</th>\n",
              "      <th>Month_4</th>\n",
              "      <th>Month_5</th>\n",
              "      <th>Month_6</th>\n",
              "      <th>Month_7</th>\n",
              "      <th>Month_8</th>\n",
              "      <th>Month_9</th>\n",
              "      <th>Month_10</th>\n",
              "      <th>Month_11</th>\n",
              "      <th>Month_12</th>\n",
              "      <th>Dayofweek_0</th>\n",
              "      <th>Dayofweek_1</th>\n",
              "      <th>Dayofweek_2</th>\n",
              "      <th>Dayofweek_3</th>\n",
              "      <th>Dayofweek_4</th>\n",
              "      <th>Dayofweek_5</th>\n",
              "      <th>Dayofweek_6</th>\n",
              "      <th>market_share</th>\n",
              "      <th>market_share_transformed</th>\n",
              "    </tr>\n",
              "  </thead>\n",
              "  <tbody>\n",
              "    <tr>\n",
              "      <th>0</th>\n",
              "      <td>0</td>\n",
              "      <td>0.906181</td>\n",
              "      <td>0</td>\n",
              "      <td>1</td>\n",
              "      <td>0</td>\n",
              "      <td>0</td>\n",
              "      <td>1.094244</td>\n",
              "      <td>0</td>\n",
              "      <td>0</td>\n",
              "      <td>0</td>\n",
              "      <td>0</td>\n",
              "      <td>0</td>\n",
              "      <td>0</td>\n",
              "      <td>-1.748154</td>\n",
              "      <td>0.886248</td>\n",
              "      <td>1</td>\n",
              "      <td>0</td>\n",
              "      <td>0</td>\n",
              "      <td>0</td>\n",
              "      <td>0</td>\n",
              "      <td>0</td>\n",
              "      <td>0</td>\n",
              "      <td>0</td>\n",
              "      <td>0</td>\n",
              "      <td>0</td>\n",
              "      <td>0</td>\n",
              "      <td>0</td>\n",
              "      <td>0</td>\n",
              "      <td>0</td>\n",
              "      <td>0</td>\n",
              "      <td>0</td>\n",
              "      <td>0</td>\n",
              "      <td>0</td>\n",
              "      <td>0</td>\n",
              "      <td>0</td>\n",
              "      <td>0</td>\n",
              "      <td>0</td>\n",
              "      <td>0</td>\n",
              "      <td>1</td>\n",
              "      <td>0</td>\n",
              "      <td>...</td>\n",
              "      <td>0</td>\n",
              "      <td>0</td>\n",
              "      <td>0</td>\n",
              "      <td>0</td>\n",
              "      <td>0</td>\n",
              "      <td>0</td>\n",
              "      <td>0</td>\n",
              "      <td>0</td>\n",
              "      <td>0</td>\n",
              "      <td>0</td>\n",
              "      <td>0</td>\n",
              "      <td>0</td>\n",
              "      <td>0</td>\n",
              "      <td>0</td>\n",
              "      <td>0</td>\n",
              "      <td>1</td>\n",
              "      <td>0</td>\n",
              "      <td>0</td>\n",
              "      <td>0</td>\n",
              "      <td>0</td>\n",
              "      <td>0</td>\n",
              "      <td>0</td>\n",
              "      <td>0</td>\n",
              "      <td>0</td>\n",
              "      <td>0</td>\n",
              "      <td>0</td>\n",
              "      <td>1</td>\n",
              "      <td>0</td>\n",
              "      <td>0</td>\n",
              "      <td>0</td>\n",
              "      <td>0</td>\n",
              "      <td>1</td>\n",
              "      <td>0</td>\n",
              "      <td>0</td>\n",
              "      <td>0</td>\n",
              "      <td>0</td>\n",
              "      <td>0</td>\n",
              "      <td>0</td>\n",
              "      <td>0.9</td>\n",
              "      <td>-0.001165</td>\n",
              "    </tr>\n",
              "  </tbody>\n",
              "</table>\n",
              "<p>1 rows × 93 columns</p>\n",
              "</div>"
            ],
            "text/plain": [
              "   ch_type    length  ...  market_share  market_share_transformed\n",
              "0        0  0.906181  ...           0.9                 -0.001165\n",
              "\n",
              "[1 rows x 93 columns]"
            ]
          },
          "metadata": {
            "tags": []
          },
          "execution_count": 21
        }
      ]
    },
    {
      "cell_type": "code",
      "metadata": {
        "id": "7rX11H-Nd_da",
        "colab_type": "code",
        "colab": {}
      },
      "source": [
        "# cut the dependant variable(s) form training set\n",
        "target = train_set.loc[:, 'market_share_transformed']\n",
        "target_src = train_set.loc[:, 'market_share']\n",
        "targets_joint = train_set.loc[:, ['market_share_transformed', 'market_share']]\n",
        "\n",
        "train_set.drop(columns=['market_share', 'market_share_transformed'], inplace=True)"
      ],
      "execution_count": 0,
      "outputs": []
    },
    {
      "cell_type": "code",
      "metadata": {
        "id": "aR6tvDamd_dd",
        "colab_type": "code",
        "colab": {}
      },
      "source": [
        "# constant variables for later use\n",
        "cv = 4    # number of folds for cross-validation\n",
        "rs = 7    # random-state number"
      ],
      "execution_count": 0,
      "outputs": []
    },
    {
      "cell_type": "code",
      "metadata": {
        "id": "iAWyIM75d_dg",
        "colab_type": "code",
        "colab": {}
      },
      "source": [
        "# splitting the train set into train and validation sets\n",
        "X_train, X_test, y_train, y_test = train_test_split(train_set, targets_joint, test_size=0.2, random_state=rs)"
      ],
      "execution_count": 0,
      "outputs": []
    },
    {
      "cell_type": "code",
      "metadata": {
        "id": "eSV1SYqyd_dj",
        "colab_type": "code",
        "colab": {}
      },
      "source": [
        "# transformer object that will be used later for inverse transforming predicted values.\n",
        "tfms = TargetTransform(data=target_src)"
      ],
      "execution_count": 0,
      "outputs": []
    },
    {
      "cell_type": "code",
      "metadata": {
        "id": "-vPC201Nd_dl",
        "colab_type": "code",
        "colab": {
          "base_uri": "https://localhost:8080/",
          "height": 195
        },
        "outputId": "318d5daa-10d9-4295-9987-8e55d1f72dd2"
      },
      "source": [
        "y_train.head()"
      ],
      "execution_count": 26,
      "outputs": [
        {
          "output_type": "execute_result",
          "data": {
            "text/html": [
              "<div>\n",
              "<style scoped>\n",
              "    .dataframe tbody tr th:only-of-type {\n",
              "        vertical-align: middle;\n",
              "    }\n",
              "\n",
              "    .dataframe tbody tr th {\n",
              "        vertical-align: top;\n",
              "    }\n",
              "\n",
              "    .dataframe thead th {\n",
              "        text-align: right;\n",
              "    }\n",
              "</style>\n",
              "<table border=\"1\" class=\"dataframe\">\n",
              "  <thead>\n",
              "    <tr style=\"text-align: right;\">\n",
              "      <th></th>\n",
              "      <th>market_share_transformed</th>\n",
              "      <th>market_share</th>\n",
              "    </tr>\n",
              "  </thead>\n",
              "  <tbody>\n",
              "    <tr>\n",
              "      <th>117942</th>\n",
              "      <td>-0.007722</td>\n",
              "      <td>0.5</td>\n",
              "    </tr>\n",
              "    <tr>\n",
              "      <th>105927</th>\n",
              "      <td>0.021902</td>\n",
              "      <td>7.1</td>\n",
              "    </tr>\n",
              "    <tr>\n",
              "      <th>219211</th>\n",
              "      <td>0.007750</td>\n",
              "      <td>2.0</td>\n",
              "    </tr>\n",
              "    <tr>\n",
              "      <th>526282</th>\n",
              "      <td>0.001075</td>\n",
              "      <td>1.1</td>\n",
              "    </tr>\n",
              "    <tr>\n",
              "      <th>345705</th>\n",
              "      <td>-0.017927</td>\n",
              "      <td>0.2</td>\n",
              "    </tr>\n",
              "  </tbody>\n",
              "</table>\n",
              "</div>"
            ],
            "text/plain": [
              "        market_share_transformed  market_share\n",
              "117942                 -0.007722           0.5\n",
              "105927                  0.021902           7.1\n",
              "219211                  0.007750           2.0\n",
              "526282                  0.001075           1.1\n",
              "345705                 -0.017927           0.2"
            ]
          },
          "metadata": {
            "tags": []
          },
          "execution_count": 26
        }
      ]
    },
    {
      "cell_type": "code",
      "metadata": {
        "id": "CWY9FZXNd_do",
        "colab_type": "code",
        "colab": {}
      },
      "source": [
        "# helper function for evaluating model performance with 3 different metrics\n",
        "def evaluate(actual, prediction):\n",
        "    return {'MAE': mean_absolute_error(actual, prediction),\n",
        "            'MSE': mean_squared_error(actual, prediction),\n",
        "            'R^2': r2_score(actual, prediction)}"
      ],
      "execution_count": 0,
      "outputs": []
    },
    {
      "cell_type": "markdown",
      "metadata": {
        "id": "p-tILKRSd_dr",
        "colab_type": "text"
      },
      "source": [
        "## 1. RandomForestRegressor model"
      ]
    },
    {
      "cell_type": "markdown",
      "metadata": {
        "id": "lTSYS3dNd_dr",
        "colab_type": "text"
      },
      "source": [
        "#### Grid search results for RandomForestRegressor:\n",
        "* Best `max_depth`: 30\n",
        "* Best `n_estimators`: 100"
      ]
    },
    {
      "cell_type": "markdown",
      "metadata": {
        "id": "PZ1NeVE8yd_u",
        "colab_type": "text"
      },
      "source": [
        "### RandomForestRegressor with transformed DV"
      ]
    },
    {
      "cell_type": "code",
      "metadata": {
        "id": "b6kihZRhd_ds",
        "colab_type": "code",
        "colab": {}
      },
      "source": [
        "# instantiate a RandomForestRegressor object using the researched hyper-parameters\n",
        "rf = RandomForestRegressor(n_estimators=100, max_depth=30, n_jobs=-1, random_state=rs)"
      ],
      "execution_count": 0,
      "outputs": []
    },
    {
      "cell_type": "code",
      "metadata": {
        "id": "VntWNmyld_du",
        "colab_type": "code",
        "colab": {},
        "outputId": "70da8fd2-4e76-460b-8a26-25ec149c6564"
      },
      "source": [
        "%%time\n",
        "# training the RandomForest model with transformed y values\n",
        "print(time.ctime())\n",
        "rf.fit(X_train, y_train.iloc[:, 0].values)"
      ],
      "execution_count": 0,
      "outputs": [
        {
          "output_type": "stream",
          "text": [
            "Fri Feb 21 22:59:47 2020\n",
            "Wall time: 7min 31s\n"
          ],
          "name": "stdout"
        },
        {
          "output_type": "execute_result",
          "data": {
            "text/plain": [
              "RandomForestRegressor(bootstrap=True, ccp_alpha=0.0, criterion='mse',\n",
              "                      max_depth=30, max_features='auto', max_leaf_nodes=None,\n",
              "                      max_samples=None, min_impurity_decrease=0.0,\n",
              "                      min_impurity_split=None, min_samples_leaf=1,\n",
              "                      min_samples_split=2, min_weight_fraction_leaf=0.0,\n",
              "                      n_estimators=100, n_jobs=-1, oob_score=False,\n",
              "                      random_state=7, verbose=0, warm_start=False)"
            ]
          },
          "metadata": {
            "tags": []
          },
          "execution_count": 24
        }
      ]
    },
    {
      "cell_type": "code",
      "metadata": {
        "id": "RYtvQG_2d_dx",
        "colab_type": "code",
        "colab": {},
        "outputId": "1a042d7f-2f2d-4d6a-88fb-d8f3e75486a4"
      },
      "source": [
        "# top 10 most important features for the RandomForest model\n",
        "sorted(zip(rf.feature_importances_, X_train.columns), reverse=True)[:10]"
      ],
      "execution_count": 0,
      "outputs": [
        {
          "output_type": "execute_result",
          "data": {
            "text/plain": [
              "[(0.21202570849572155, 'station_Unis TV+'),\n",
              " (0.16655498456942996, 'temperature'),\n",
              " (0.10847851680941811, 'Elapsed'),\n",
              " (0.08593567817972778, 'ch_type'),\n",
              " (0.051311459250471834, 'running_time'),\n",
              " (0.0335779138944239, 'station_RDS2+'),\n",
              " (0.01866659001326775, 'station_MusiquePlus+ (retired Aug 25, 2019)'),\n",
              " (0.018441731835395755, 'station_Evasion+'),\n",
              " (0.01718808315744735, 'genre_Amateur Sports'),\n",
              " (0.01275779177053862, 'length')]"
            ]
          },
          "metadata": {
            "tags": []
          },
          "execution_count": 39
        }
      ]
    },
    {
      "cell_type": "code",
      "metadata": {
        "id": "QoQmSn7Id_dz",
        "colab_type": "code",
        "colab": {}
      },
      "source": [
        "# make predictions\n",
        "rf_preds = rf.predict(X_test)"
      ],
      "execution_count": 0,
      "outputs": []
    },
    {
      "cell_type": "code",
      "metadata": {
        "id": "2pnexdLSd_d5",
        "colab_type": "code",
        "colab": {},
        "outputId": "a83004ed-38bb-4463-e238-3bf79b7a9cc8"
      },
      "source": [
        "# inverse transforming the predicted values\n",
        "rf_preds_inverse_transformed = tfms.inverse(rf_preds)\n",
        "rf_preds_inverse_transformed.shape"
      ],
      "execution_count": 0,
      "outputs": [
        {
          "output_type": "execute_result",
          "data": {
            "text/plain": [
              "(123332,)"
            ]
          },
          "metadata": {
            "tags": []
          },
          "execution_count": 42
        }
      ]
    },
    {
      "cell_type": "code",
      "metadata": {
        "id": "aUTDhL21d_d8",
        "colab_type": "code",
        "colab": {},
        "outputId": "19a95f89-a271-43b0-909d-71d3a1280fe9"
      },
      "source": [
        "# evaluating the RandomForest model\n",
        "evaluate(y_test.iloc[:, 1].values, rf_preds_inverse_transformed)"
      ],
      "execution_count": 0,
      "outputs": [
        {
          "output_type": "execute_result",
          "data": {
            "text/plain": [
              "{'MAE': 1.2265391244681203,\n",
              " 'MSE': 5.067843954897217,\n",
              " 'R^2': 0.7908991497007714}"
            ]
          },
          "metadata": {
            "tags": []
          },
          "execution_count": 44
        }
      ]
    },
    {
      "cell_type": "markdown",
      "metadata": {
        "id": "0S5GPKNbyoII",
        "colab_type": "text"
      },
      "source": [
        "### RandomForestRegressor with non-transformed DV"
      ]
    },
    {
      "cell_type": "code",
      "metadata": {
        "id": "rw50eZW4d_eD",
        "colab_type": "code",
        "colab": {}
      },
      "source": [
        "# instantiate a RandomForestRegressor object using the researched hyper-parameters\n",
        "rf = RandomForestRegressor(n_estimators=100, max_depth=30, n_jobs=-1, random_state=rs)"
      ],
      "execution_count": 0,
      "outputs": []
    },
    {
      "cell_type": "code",
      "metadata": {
        "id": "1JKqUCCYd_eF",
        "colab_type": "code",
        "colab": {},
        "outputId": "ddc372f3-0bd4-4003-986a-8671a733c87f"
      },
      "source": [
        "%%time\n",
        "# training the RandomForest model with non-transformed y values\n",
        "\n",
        "print(time.ctime())\n",
        "rf.fit(X_train, y_train.iloc[:, 1].values)"
      ],
      "execution_count": 0,
      "outputs": [
        {
          "output_type": "stream",
          "text": [
            "Fri Feb 21 23:43:57 2020\n",
            "Wall time: 7min 17s\n"
          ],
          "name": "stdout"
        },
        {
          "output_type": "execute_result",
          "data": {
            "text/plain": [
              "RandomForestRegressor(bootstrap=True, ccp_alpha=0.0, criterion='mse',\n",
              "                      max_depth=30, max_features='auto', max_leaf_nodes=None,\n",
              "                      max_samples=None, min_impurity_decrease=0.0,\n",
              "                      min_impurity_split=None, min_samples_leaf=1,\n",
              "                      min_samples_split=2, min_weight_fraction_leaf=0.0,\n",
              "                      n_estimators=100, n_jobs=-1, oob_score=False,\n",
              "                      random_state=7, verbose=0, warm_start=False)"
            ]
          },
          "metadata": {
            "tags": []
          },
          "execution_count": 50
        }
      ]
    },
    {
      "cell_type": "code",
      "metadata": {
        "id": "6VBCUfnZd_eJ",
        "colab_type": "code",
        "colab": {},
        "outputId": "10540497-3484-48ac-f4a8-57779faf3404"
      },
      "source": [
        "# top 10 most important features for the RandomForest model\n",
        "sorted(zip(rf.feature_importances_, X_train.columns), reverse=True)[:10]"
      ],
      "execution_count": 0,
      "outputs": [
        {
          "output_type": "execute_result",
          "data": {
            "text/plain": [
              "[(0.4412274061965948, 'station_TVA Total'),\n",
              " (0.08327789022301008, 'ch_type'),\n",
              " (0.08175299476662161, 'running_time'),\n",
              " (0.07666412804037741, 'temperature'),\n",
              " (0.0515017298269713, 'Elapsed'),\n",
              " (0.02831438551727177, 'station_SRC Total'),\n",
              " (0.025352121645227522,\n",
              "  'genre_Infomercials, Promotional and Corporate Videos'),\n",
              " (0.014262759823071278, 'length'),\n",
              " (0.013762769174650526, 'station_RDI+'),\n",
              " (0.013671670994428588, 'station_LCN+')]"
            ]
          },
          "metadata": {
            "tags": []
          },
          "execution_count": 51
        }
      ]
    },
    {
      "cell_type": "code",
      "metadata": {
        "id": "dSKv_YyHd_eN",
        "colab_type": "code",
        "colab": {}
      },
      "source": [
        "# make predictions\n",
        "rf_preds = rf.predict(X_test)"
      ],
      "execution_count": 0,
      "outputs": []
    },
    {
      "cell_type": "code",
      "metadata": {
        "id": "3C5a6anAd_eP",
        "colab_type": "code",
        "colab": {},
        "outputId": "9cb2fdcc-c05d-441e-854d-2e12be4e41a6"
      },
      "source": [
        "# evaluating the RandomForest model\n",
        "evaluate(y_test.iloc[:, 1].values, rf_preds)"
      ],
      "execution_count": 0,
      "outputs": [
        {
          "output_type": "execute_result",
          "data": {
            "text/plain": [
              "{'MAE': 1.2114750468805762,\n",
              " 'MSE': 4.458395933940401,\n",
              " 'R^2': 0.8160451685066793}"
            ]
          },
          "metadata": {
            "tags": []
          },
          "execution_count": 53
        }
      ]
    },
    {
      "cell_type": "code",
      "metadata": {
        "id": "D7JjNqb_d_eR",
        "colab_type": "code",
        "colab": {}
      },
      "source": [
        ""
      ],
      "execution_count": 0,
      "outputs": []
    },
    {
      "cell_type": "markdown",
      "metadata": {
        "id": "RlRDr6lrwQXC",
        "colab_type": "text"
      },
      "source": [
        "### RandomForestRegressor Cross-Validation"
      ]
    },
    {
      "cell_type": "code",
      "metadata": {
        "id": "LjdP-6Fad_eT",
        "colab_type": "code",
        "colab": {}
      },
      "source": [
        "rf = RandomForestRegressor(n_estimators=100, max_depth=30, random_state=rs)"
      ],
      "execution_count": 0,
      "outputs": []
    },
    {
      "cell_type": "code",
      "metadata": {
        "id": "g5knoRsAd_eW",
        "colab_type": "code",
        "colab": {
          "base_uri": "https://localhost:8080/"
        },
        "outputId": "1279b04a-879b-4db5-f412-8e7519b64990"
      },
      "source": [
        "%%time\n",
        "\n",
        "NMAEs = cross_val_score(estimator=rf, X=train_set.values, y=target_src.values, cv=cv, scoring='neg_mean_absolute_error')"
      ],
      "execution_count": 16,
      "outputs": [
        {
          "output_type": "stream",
          "text": [
            "CPU times: user 58min 24s, sys: 3.97 s, total: 58min 28s\n",
            "Wall time: 58min 31s\n"
          ],
          "name": "stdout"
        }
      ]
    },
    {
      "cell_type": "code",
      "metadata": {
        "id": "L8NPZctofdQP",
        "colab_type": "code",
        "colab": {
          "base_uri": "https://localhost:8080/",
          "height": 34
        },
        "outputId": "78761f01-ae40-4704-c5dc-24f012987e4d"
      },
      "source": [
        "print(f'Mean MEA for {cv} folds cross-validation: {NMAEs.mean() * -1}')"
      ],
      "execution_count": 33,
      "outputs": [
        {
          "output_type": "stream",
          "text": [
            "Mean MEA for 4 folds cross-validation: 1.6073213199539949\n"
          ],
          "name": "stdout"
        }
      ]
    },
    {
      "cell_type": "code",
      "metadata": {
        "id": "Ikgu1Dfbfc8g",
        "colab_type": "code",
        "colab": {}
      },
      "source": [
        ""
      ],
      "execution_count": 0,
      "outputs": []
    },
    {
      "cell_type": "markdown",
      "metadata": {
        "id": "gN4K7qsjd_ea",
        "colab_type": "text"
      },
      "source": [
        "## 2. XGBRegressor model"
      ]
    },
    {
      "cell_type": "markdown",
      "metadata": {
        "id": "-VSAYb-Jd_ea",
        "colab_type": "text"
      },
      "source": [
        "#### Grid search results for XGBRegressor:\n",
        "* Best  `max_depth`: 5\n",
        "* Best  `n_estimators`: 100\n",
        "* Best  `learning_rate`: 0.1"
      ]
    },
    {
      "cell_type": "markdown",
      "metadata": {
        "id": "rn2LkHgHyX1j",
        "colab_type": "text"
      },
      "source": [
        "### XGBRegressor with transformed DV"
      ]
    },
    {
      "cell_type": "code",
      "metadata": {
        "id": "NPqO208Id_eb",
        "colab_type": "code",
        "colab": {}
      },
      "source": [
        "# instantiate a XGBRegressor object using the researched hyper-parameters\n",
        "xgr = XGBRegressor(max_depth=5, n_estimators=100, learning_rate=0.1, n_jobs=-1, random_state=rs)"
      ],
      "execution_count": 0,
      "outputs": []
    },
    {
      "cell_type": "code",
      "metadata": {
        "id": "MWo7VesDd_ee",
        "colab_type": "code",
        "colab": {},
        "outputId": "c754172a-f9c8-42c9-8a44-7d9b37142ba4"
      },
      "source": [
        "%%time\n",
        "# training the XGBoost model with transformed y values\n",
        "print(time.ctime())\n",
        "xgr.fit(X_train.values, y_train.iloc[:, 0].values)"
      ],
      "execution_count": 0,
      "outputs": [
        {
          "output_type": "stream",
          "text": [
            "Fri Feb 21 23:23:15 2020\n",
            "[23:23:19] WARNING: C:/Jenkins/workspace/xgboost-win64_release_0.90/src/objective/regression_obj.cu:152: reg:linear is now deprecated in favor of reg:squarederror.\n",
            "Wall time: 1min 27s\n"
          ],
          "name": "stdout"
        },
        {
          "output_type": "execute_result",
          "data": {
            "text/plain": [
              "XGBRegressor(base_score=0.5, booster='gbtree', colsample_bylevel=1,\n",
              "             colsample_bynode=1, colsample_bytree=1, gamma=0,\n",
              "             importance_type='gain', learning_rate=0.1, max_delta_step=0,\n",
              "             max_depth=5, min_child_weight=1, missing=None, n_estimators=100,\n",
              "             n_jobs=-1, nthread=None, objective='reg:linear', random_state=7,\n",
              "             reg_alpha=0, reg_lambda=1, scale_pos_weight=1, seed=None,\n",
              "             silent=None, subsample=1, verbosity=1)"
            ]
          },
          "metadata": {
            "tags": []
          },
          "execution_count": 35
        }
      ]
    },
    {
      "cell_type": "code",
      "metadata": {
        "id": "e_hpnxwMd_eh",
        "colab_type": "code",
        "colab": {},
        "outputId": "f7c095ef-cf84-47c1-88d8-44b079506ea0"
      },
      "source": [
        "# top 10 most important features for the XGBoost model\n",
        "sorted(zip(xgr.feature_importances_, X_train.columns), reverse=True)[:10]"
      ],
      "execution_count": 0,
      "outputs": [
        {
          "output_type": "execute_result",
          "data": {
            "text/plain": [
              "[(0.29421237, 'station_Unis TV+'),\n",
              " (0.122598045, 'ch_type'),\n",
              " (0.050584905, 'station_RDS2+'),\n",
              " (0.04122238, 'station_Series++'),\n",
              " (0.039162338, 'station_MusiquePlus+ (retired Aug 25, 2019)'),\n",
              " (0.037397247, 'genre_Amateur Sports'),\n",
              " (0.037092704, 'station_RDI+'),\n",
              " (0.03607034, 'station_Evasion+'),\n",
              " (0.03411925, 'station_LCN+'),\n",
              " (0.025626002, 'station_TQ Total')]"
            ]
          },
          "metadata": {
            "tags": []
          },
          "execution_count": 40
        }
      ]
    },
    {
      "cell_type": "code",
      "metadata": {
        "id": "VvP05zcCd_ej",
        "colab_type": "code",
        "colab": {}
      },
      "source": [
        "# make predictions\n",
        "xg_preds = xgr.predict(X_test.values)"
      ],
      "execution_count": 0,
      "outputs": []
    },
    {
      "cell_type": "code",
      "metadata": {
        "id": "yl37__eUd_em",
        "colab_type": "code",
        "colab": {},
        "outputId": "7043707c-ed87-42f7-ac2a-dab8978bc078"
      },
      "source": [
        "# inverse transforming the predicted values\n",
        "xg_preds_inverse_transformed = tfms.inverse(xg_preds)\n",
        "xg_preds_inverse_transformed.shape"
      ],
      "execution_count": 0,
      "outputs": [
        {
          "output_type": "execute_result",
          "data": {
            "text/plain": [
              "(123332,)"
            ]
          },
          "metadata": {
            "tags": []
          },
          "execution_count": 37
        }
      ]
    },
    {
      "cell_type": "code",
      "metadata": {
        "id": "EbLhSXK3d_ep",
        "colab_type": "code",
        "colab": {},
        "outputId": "c6861876-43d9-40e3-c5d3-99f518501346"
      },
      "source": [
        "# evaluating the XGBoost model\n",
        "evaluate(y_test.iloc[:, 1].values, xg_preds_inverse_transformed)"
      ],
      "execution_count": 0,
      "outputs": [
        {
          "output_type": "execute_result",
          "data": {
            "text/plain": [
              "{'MAE': 1.5502820965879538,\n",
              " 'MSE': 8.628997746145776,\n",
              " 'R^2': 0.6439648138325909}"
            ]
          },
          "metadata": {
            "tags": []
          },
          "execution_count": 38
        }
      ]
    },
    {
      "cell_type": "markdown",
      "metadata": {
        "id": "_hmppY37yLeR",
        "colab_type": "text"
      },
      "source": [
        "### XGBRegressor with non-transformed DV"
      ]
    },
    {
      "cell_type": "code",
      "metadata": {
        "id": "m-aRAlrSwyV1",
        "colab_type": "code",
        "colab": {}
      },
      "source": [
        "# instantiate a XGBRegressor object using the researched hyper-parameters\n",
        "xgr = XGBRegressor(max_depth=5, n_estimators=100, learning_rate=0.1, n_jobs=-1, random_state=rs)"
      ],
      "execution_count": 0,
      "outputs": []
    },
    {
      "cell_type": "code",
      "metadata": {
        "id": "UvRHo-7cd_et",
        "colab_type": "code",
        "colab": {
          "base_uri": "https://localhost:8080/",
          "height": 84
        },
        "outputId": "0ff1d5fb-bbda-4ebf-b9f4-adfdd38b6f3e"
      },
      "source": [
        "%%time\n",
        "# training the XGBoost model with transformed y values\n",
        "print(time.ctime())\n",
        "xgr.fit(X_train.values, y_train.iloc[:, 1].values)"
      ],
      "execution_count": 29,
      "outputs": [
        {
          "output_type": "stream",
          "text": [
            "Fri Feb 21 22:01:09 2020\n",
            "[22:01:10] WARNING: /workspace/src/objective/regression_obj.cu:152: reg:linear is now deprecated in favor of reg:squarederror.\n",
            "CPU times: user 4min 39s, sys: 209 ms, total: 4min 39s\n",
            "Wall time: 2min 21s\n"
          ],
          "name": "stdout"
        }
      ]
    },
    {
      "cell_type": "code",
      "metadata": {
        "id": "tynX1Ztgd_ev",
        "colab_type": "code",
        "colab": {}
      },
      "source": [
        "# make predictions\n",
        "xg_preds = xgr.predict(X_test.values)"
      ],
      "execution_count": 0,
      "outputs": []
    },
    {
      "cell_type": "code",
      "metadata": {
        "id": "MhzN99-SxWCE",
        "colab_type": "code",
        "colab": {
          "base_uri": "https://localhost:8080/",
          "height": 67
        },
        "outputId": "8448f965-b9ff-4abe-9eeb-91bb397a2573"
      },
      "source": [
        "# evaluating the XGBoost model\n",
        "evaluate(y_test.iloc[:, 1].values, xg_preds)"
      ],
      "execution_count": 31,
      "outputs": [
        {
          "output_type": "execute_result",
          "data": {
            "text/plain": [
              "{'MAE': 1.4833311409991994,\n",
              " 'MSE': 6.210317784723229,\n",
              " 'R^2': 0.7437603168189131}"
            ]
          },
          "metadata": {
            "tags": []
          },
          "execution_count": 31
        }
      ]
    },
    {
      "cell_type": "markdown",
      "metadata": {
        "id": "R_odMAQozh8q",
        "colab_type": "text"
      },
      "source": [
        "## Result:\n",
        "\n",
        "Both RandomForestRegressor and XGBRegressor made better predictions when trained with non-transformed (original) target value."
      ]
    },
    {
      "cell_type": "code",
      "metadata": {
        "id": "BKxJHgX3z4bu",
        "colab_type": "code",
        "colab": {}
      },
      "source": [
        ""
      ],
      "execution_count": 0,
      "outputs": []
    }
  ]
}