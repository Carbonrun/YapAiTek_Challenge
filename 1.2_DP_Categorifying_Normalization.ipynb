{
 "cells": [
  {
   "cell_type": "markdown",
   "metadata": {},
   "source": [
    "# Categorifying and Normalization\n",
    "\n",
    "**In this Notebook:**\n",
    "* **Handling categorical features**\n",
    "* **Scaling continuous features**\n",
    "* **Transforming target feature**"
   ]
  },
  {
   "cell_type": "code",
   "execution_count": 1,
   "metadata": {},
   "outputs": [],
   "source": [
    "# loading libraries\n",
    "import numpy as np\n",
    "import pandas as pd\n",
    "import matplotlib.pyplot as plt\n",
    "from sklearn.preprocessing import LabelEncoder, StandardScaler\n",
    "import os\n",
    "from tqdm import tqdm\n",
    "\n",
    "from transform import TargetTransform   # custom class for handle target value transformation\n",
    "\n",
    "%matplotlib inline\n",
    "%load_ext autoreload\n",
    "%autoreload 2"
   ]
  },
  {
   "cell_type": "code",
   "execution_count": 2,
   "metadata": {},
   "outputs": [
    {
     "data": {
      "text/plain": [
       "['data.csv',\n",
       " 'data_clean.csv',\n",
       " 'data_no_missing.csv',\n",
       " 'test.csv',\n",
       " 'test_clean.csv',\n",
       " 'train_clean.csv']"
      ]
     },
     "execution_count": 2,
     "metadata": {},
     "output_type": "execute_result"
    }
   ],
   "source": [
    "# setting paths\n",
    "data_dir = os.path.abspath('./_data')\n",
    "train_data_fp = os.path.join(data_dir, 'data.csv')\n",
    "test_data_fp = os.path.join(data_dir, 'test.csv')\n",
    "data_no_missing_fp = os.path.join(data_dir, 'data_no_missing.csv')\n",
    "os.listdir(data_dir)"
   ]
  },
  {
   "cell_type": "code",
   "execution_count": 3,
   "metadata": {},
   "outputs": [],
   "source": [
    "# loading data-set\n",
    "train_data = pd.read_csv(train_data_fp)\n",
    "test_data = pd.read_csv(test_data_fp)\n",
    "data = pd.read_csv(data_no_missing_fp)\n",
    "n_train = len(train_data)\n",
    "n_test = len(test_data)"
   ]
  },
  {
   "cell_type": "code",
   "execution_count": 4,
   "metadata": {},
   "outputs": [
    {
     "name": "stdout",
     "output_type": "stream",
     "text": [
      "Training data-set consists of 616656 rows and 20 columns\n",
      "Test data-set consists of 154165 rows and 19 columns\n"
     ]
    }
   ],
   "source": [
    "print(f'Training data-set consists of {train_data.shape[0]} rows and {train_data.shape[1]} columns')\n",
    "print(f'Test data-set consists of {test_data.shape[0]} rows and {test_data.shape[1]} columns')"
   ]
  },
  {
   "cell_type": "code",
   "execution_count": 5,
   "metadata": {},
   "outputs": [
    {
     "data": {
      "text/html": [
       "<div>\n",
       "<style scoped>\n",
       "    .dataframe tbody tr th:only-of-type {\n",
       "        vertical-align: middle;\n",
       "    }\n",
       "\n",
       "    .dataframe tbody tr th {\n",
       "        vertical-align: top;\n",
       "    }\n",
       "\n",
       "    .dataframe thead th {\n",
       "        text-align: right;\n",
       "    }\n",
       "</style>\n",
       "<table border=\"1\" class=\"dataframe\">\n",
       "  <thead>\n",
       "    <tr style=\"text-align: right;\">\n",
       "      <th></th>\n",
       "      <th>Unnamed: 0</th>\n",
       "      <th>Episode</th>\n",
       "      <th>Station</th>\n",
       "      <th>Channel Type</th>\n",
       "      <th>Season</th>\n",
       "      <th>Year</th>\n",
       "      <th>Date</th>\n",
       "      <th>Day of week</th>\n",
       "      <th>Start_time</th>\n",
       "      <th>End_time</th>\n",
       "      <th>Length</th>\n",
       "      <th>Name of show</th>\n",
       "      <th>Name of episode</th>\n",
       "      <th>Genre</th>\n",
       "      <th>First time or rerun</th>\n",
       "      <th># of episode in the season</th>\n",
       "      <th>Movie?</th>\n",
       "      <th>Game of the Canadiens during episode?</th>\n",
       "      <th>Temperature in Montreal during episode</th>\n",
       "    </tr>\n",
       "  </thead>\n",
       "  <tbody>\n",
       "    <tr>\n",
       "      <th>0</th>\n",
       "      <td>1</td>\n",
       "      <td>Vidéoclips V</td>\n",
       "      <td>V Total</td>\n",
       "      <td>General Channel</td>\n",
       "      <td>Fall</td>\n",
       "      <td>2016</td>\n",
       "      <td>2016-08-29</td>\n",
       "      <td>Monday</td>\n",
       "      <td>2016-08-29 06:00:00</td>\n",
       "      <td>2016-08-29 08:00:00</td>\n",
       "      <td>8</td>\n",
       "      <td>Vidéoclips V</td>\n",
       "      <td>NaN</td>\n",
       "      <td>Music Video Clips</td>\n",
       "      <td>No</td>\n",
       "      <td>Yes</td>\n",
       "      <td>No</td>\n",
       "      <td>No</td>\n",
       "      <td>20.4</td>\n",
       "    </tr>\n",
       "  </tbody>\n",
       "</table>\n",
       "</div>"
      ],
      "text/plain": [
       "   Unnamed: 0       Episode  Station     Channel Type Season  Year  \\\n",
       "0           1  Vidéoclips V  V Total  General Channel   Fall  2016   \n",
       "\n",
       "         Date Day of week           Start_time             End_time  Length  \\\n",
       "0  2016-08-29      Monday  2016-08-29 06:00:00  2016-08-29 08:00:00       8   \n",
       "\n",
       "   Name of show Name of episode              Genre First time or rerun  \\\n",
       "0  Vidéoclips V             NaN  Music Video Clips                  No   \n",
       "\n",
       "  # of episode in the season Movie? Game of the Canadiens during episode?  \\\n",
       "0                        Yes     No                                    No   \n",
       "\n",
       "   Temperature in Montreal during episode  \n",
       "0                                    20.4  "
      ]
     },
     "execution_count": 5,
     "metadata": {},
     "output_type": "execute_result"
    }
   ],
   "source": [
    "# store target value and drop it from 'train_data'\n",
    "market_share = train_data.loc[:, 'Market Share_total'].values\n",
    "train_data.drop(columns=['Market Share_total'], inplace=True)\n",
    "train_data.head(1)"
   ]
  },
  {
   "cell_type": "code",
   "execution_count": 6,
   "metadata": {},
   "outputs": [
    {
     "data": {
      "text/html": [
       "<div>\n",
       "<style scoped>\n",
       "    .dataframe tbody tr th:only-of-type {\n",
       "        vertical-align: middle;\n",
       "    }\n",
       "\n",
       "    .dataframe tbody tr th {\n",
       "        vertical-align: top;\n",
       "    }\n",
       "\n",
       "    .dataframe thead th {\n",
       "        text-align: right;\n",
       "    }\n",
       "</style>\n",
       "<table border=\"1\" class=\"dataframe\">\n",
       "  <thead>\n",
       "    <tr style=\"text-align: right;\">\n",
       "      <th></th>\n",
       "      <th>0</th>\n",
       "      <th>1</th>\n",
       "      <th>2</th>\n",
       "      <th>3</th>\n",
       "      <th>4</th>\n",
       "    </tr>\n",
       "  </thead>\n",
       "  <tbody>\n",
       "    <tr>\n",
       "      <th>station</th>\n",
       "      <td>V Total</td>\n",
       "      <td>V Total</td>\n",
       "      <td>V Total</td>\n",
       "      <td>V Total</td>\n",
       "      <td>V Total</td>\n",
       "    </tr>\n",
       "    <tr>\n",
       "      <th>ch_type</th>\n",
       "      <td>General Channel</td>\n",
       "      <td>General Channel</td>\n",
       "      <td>General Channel</td>\n",
       "      <td>General Channel</td>\n",
       "      <td>General Channel</td>\n",
       "    </tr>\n",
       "    <tr>\n",
       "      <th>length</th>\n",
       "      <td>8</td>\n",
       "      <td>2</td>\n",
       "      <td>2</td>\n",
       "      <td>4</td>\n",
       "      <td>2</td>\n",
       "    </tr>\n",
       "    <tr>\n",
       "      <th>show_name</th>\n",
       "      <td>Vidéoclips V</td>\n",
       "      <td>Apollo dans l'frigo</td>\n",
       "      <td>Infopublicité</td>\n",
       "      <td>Infos, Les</td>\n",
       "      <td>Souper presque parfait, Un</td>\n",
       "    </tr>\n",
       "    <tr>\n",
       "      <th>genre</th>\n",
       "      <td>Music Video Clips</td>\n",
       "      <td>Informal Education and Recreation and Leisure</td>\n",
       "      <td>Infomercials, Promotional and Corporate Videos</td>\n",
       "      <td>News</td>\n",
       "      <td>Reality Programs</td>\n",
       "    </tr>\n",
       "    <tr>\n",
       "      <th>first_or_rerun</th>\n",
       "      <td>No</td>\n",
       "      <td>No</td>\n",
       "      <td>No</td>\n",
       "      <td>No</td>\n",
       "      <td>No</td>\n",
       "    </tr>\n",
       "    <tr>\n",
       "      <th>episodes_in_season</th>\n",
       "      <td>Yes</td>\n",
       "      <td>Yes</td>\n",
       "      <td>Yes</td>\n",
       "      <td>Yes</td>\n",
       "      <td>Yes</td>\n",
       "    </tr>\n",
       "    <tr>\n",
       "      <th>is_movie</th>\n",
       "      <td>No</td>\n",
       "      <td>No</td>\n",
       "      <td>No</td>\n",
       "      <td>No</td>\n",
       "      <td>No</td>\n",
       "    </tr>\n",
       "    <tr>\n",
       "      <th>overlaped_with_game</th>\n",
       "      <td>No</td>\n",
       "      <td>No</td>\n",
       "      <td>No</td>\n",
       "      <td>No</td>\n",
       "      <td>No</td>\n",
       "    </tr>\n",
       "    <tr>\n",
       "      <th>temperature</th>\n",
       "      <td>20.4</td>\n",
       "      <td>19.125</td>\n",
       "      <td>19.125</td>\n",
       "      <td>18.125</td>\n",
       "      <td>18.25</td>\n",
       "    </tr>\n",
       "    <tr>\n",
       "      <th>Year</th>\n",
       "      <td>2016</td>\n",
       "      <td>2016</td>\n",
       "      <td>2016</td>\n",
       "      <td>2016</td>\n",
       "      <td>2016</td>\n",
       "    </tr>\n",
       "    <tr>\n",
       "      <th>Month</th>\n",
       "      <td>8</td>\n",
       "      <td>8</td>\n",
       "      <td>8</td>\n",
       "      <td>8</td>\n",
       "      <td>8</td>\n",
       "    </tr>\n",
       "    <tr>\n",
       "      <th>Week</th>\n",
       "      <td>35</td>\n",
       "      <td>35</td>\n",
       "      <td>35</td>\n",
       "      <td>35</td>\n",
       "      <td>35</td>\n",
       "    </tr>\n",
       "    <tr>\n",
       "      <th>Day</th>\n",
       "      <td>29</td>\n",
       "      <td>29</td>\n",
       "      <td>29</td>\n",
       "      <td>29</td>\n",
       "      <td>29</td>\n",
       "    </tr>\n",
       "    <tr>\n",
       "      <th>Dayofweek</th>\n",
       "      <td>0</td>\n",
       "      <td>0</td>\n",
       "      <td>0</td>\n",
       "      <td>0</td>\n",
       "      <td>0</td>\n",
       "    </tr>\n",
       "    <tr>\n",
       "      <th>Dayofyear</th>\n",
       "      <td>242</td>\n",
       "      <td>242</td>\n",
       "      <td>242</td>\n",
       "      <td>242</td>\n",
       "      <td>242</td>\n",
       "    </tr>\n",
       "    <tr>\n",
       "      <th>Is_month_end</th>\n",
       "      <td>False</td>\n",
       "      <td>False</td>\n",
       "      <td>False</td>\n",
       "      <td>False</td>\n",
       "      <td>False</td>\n",
       "    </tr>\n",
       "    <tr>\n",
       "      <th>Is_month_start</th>\n",
       "      <td>False</td>\n",
       "      <td>False</td>\n",
       "      <td>False</td>\n",
       "      <td>False</td>\n",
       "      <td>False</td>\n",
       "    </tr>\n",
       "    <tr>\n",
       "      <th>Is_quarter_end</th>\n",
       "      <td>False</td>\n",
       "      <td>False</td>\n",
       "      <td>False</td>\n",
       "      <td>False</td>\n",
       "      <td>False</td>\n",
       "    </tr>\n",
       "    <tr>\n",
       "      <th>Is_quarter_start</th>\n",
       "      <td>False</td>\n",
       "      <td>False</td>\n",
       "      <td>False</td>\n",
       "      <td>False</td>\n",
       "      <td>False</td>\n",
       "    </tr>\n",
       "    <tr>\n",
       "      <th>Is_year_end</th>\n",
       "      <td>False</td>\n",
       "      <td>False</td>\n",
       "      <td>False</td>\n",
       "      <td>False</td>\n",
       "      <td>False</td>\n",
       "    </tr>\n",
       "    <tr>\n",
       "      <th>Is_year_start</th>\n",
       "      <td>False</td>\n",
       "      <td>False</td>\n",
       "      <td>False</td>\n",
       "      <td>False</td>\n",
       "      <td>False</td>\n",
       "    </tr>\n",
       "    <tr>\n",
       "      <th>Elapsed</th>\n",
       "      <td>1472428800</td>\n",
       "      <td>1472428800</td>\n",
       "      <td>1472428800</td>\n",
       "      <td>1472428800</td>\n",
       "      <td>1472428800</td>\n",
       "    </tr>\n",
       "    <tr>\n",
       "      <th>running_time</th>\n",
       "      <td>120</td>\n",
       "      <td>30</td>\n",
       "      <td>30</td>\n",
       "      <td>60</td>\n",
       "      <td>30</td>\n",
       "    </tr>\n",
       "    <tr>\n",
       "      <th>episode_name_na</th>\n",
       "      <td>1</td>\n",
       "      <td>1</td>\n",
       "      <td>1</td>\n",
       "      <td>1</td>\n",
       "      <td>1</td>\n",
       "    </tr>\n",
       "    <tr>\n",
       "      <th>temperature_na</th>\n",
       "      <td>0</td>\n",
       "      <td>0</td>\n",
       "      <td>0</td>\n",
       "      <td>0</td>\n",
       "      <td>0</td>\n",
       "    </tr>\n",
       "  </tbody>\n",
       "</table>\n",
       "</div>"
      ],
      "text/plain": [
       "                                     0  \\\n",
       "station                        V Total   \n",
       "ch_type                General Channel   \n",
       "length                               8   \n",
       "show_name                 Vidéoclips V   \n",
       "genre                Music Video Clips   \n",
       "first_or_rerun                      No   \n",
       "episodes_in_season                 Yes   \n",
       "is_movie                            No   \n",
       "overlaped_with_game                 No   \n",
       "temperature                       20.4   \n",
       "Year                              2016   \n",
       "Month                                8   \n",
       "Week                                35   \n",
       "Day                                 29   \n",
       "Dayofweek                            0   \n",
       "Dayofyear                          242   \n",
       "Is_month_end                     False   \n",
       "Is_month_start                   False   \n",
       "Is_quarter_end                   False   \n",
       "Is_quarter_start                 False   \n",
       "Is_year_end                      False   \n",
       "Is_year_start                    False   \n",
       "Elapsed                     1472428800   \n",
       "running_time                       120   \n",
       "episode_name_na                      1   \n",
       "temperature_na                       0   \n",
       "\n",
       "                                                                 1  \\\n",
       "station                                                    V Total   \n",
       "ch_type                                            General Channel   \n",
       "length                                                           2   \n",
       "show_name                                      Apollo dans l'frigo   \n",
       "genre                Informal Education and Recreation and Leisure   \n",
       "first_or_rerun                                                  No   \n",
       "episodes_in_season                                             Yes   \n",
       "is_movie                                                        No   \n",
       "overlaped_with_game                                             No   \n",
       "temperature                                                 19.125   \n",
       "Year                                                          2016   \n",
       "Month                                                            8   \n",
       "Week                                                            35   \n",
       "Day                                                             29   \n",
       "Dayofweek                                                        0   \n",
       "Dayofyear                                                      242   \n",
       "Is_month_end                                                 False   \n",
       "Is_month_start                                               False   \n",
       "Is_quarter_end                                               False   \n",
       "Is_quarter_start                                             False   \n",
       "Is_year_end                                                  False   \n",
       "Is_year_start                                                False   \n",
       "Elapsed                                                 1472428800   \n",
       "running_time                                                    30   \n",
       "episode_name_na                                                  1   \n",
       "temperature_na                                                   0   \n",
       "\n",
       "                                                                  2  \\\n",
       "station                                                     V Total   \n",
       "ch_type                                             General Channel   \n",
       "length                                                            2   \n",
       "show_name                                             Infopublicité   \n",
       "genre                Infomercials, Promotional and Corporate Videos   \n",
       "first_or_rerun                                                   No   \n",
       "episodes_in_season                                              Yes   \n",
       "is_movie                                                         No   \n",
       "overlaped_with_game                                              No   \n",
       "temperature                                                  19.125   \n",
       "Year                                                           2016   \n",
       "Month                                                             8   \n",
       "Week                                                             35   \n",
       "Day                                                              29   \n",
       "Dayofweek                                                         0   \n",
       "Dayofyear                                                       242   \n",
       "Is_month_end                                                  False   \n",
       "Is_month_start                                                False   \n",
       "Is_quarter_end                                                False   \n",
       "Is_quarter_start                                              False   \n",
       "Is_year_end                                                   False   \n",
       "Is_year_start                                                 False   \n",
       "Elapsed                                                  1472428800   \n",
       "running_time                                                     30   \n",
       "episode_name_na                                                   1   \n",
       "temperature_na                                                    0   \n",
       "\n",
       "                                   3                           4  \n",
       "station                      V Total                     V Total  \n",
       "ch_type              General Channel             General Channel  \n",
       "length                             4                           2  \n",
       "show_name                 Infos, Les  Souper presque parfait, Un  \n",
       "genre                           News            Reality Programs  \n",
       "first_or_rerun                    No                          No  \n",
       "episodes_in_season               Yes                         Yes  \n",
       "is_movie                          No                          No  \n",
       "overlaped_with_game               No                          No  \n",
       "temperature                   18.125                       18.25  \n",
       "Year                            2016                        2016  \n",
       "Month                              8                           8  \n",
       "Week                              35                          35  \n",
       "Day                               29                          29  \n",
       "Dayofweek                          0                           0  \n",
       "Dayofyear                        242                         242  \n",
       "Is_month_end                   False                       False  \n",
       "Is_month_start                 False                       False  \n",
       "Is_quarter_end                 False                       False  \n",
       "Is_quarter_start               False                       False  \n",
       "Is_year_end                    False                       False  \n",
       "Is_year_start                  False                       False  \n",
       "Elapsed                   1472428800                  1472428800  \n",
       "running_time                      60                          30  \n",
       "episode_name_na                    1                           1  \n",
       "temperature_na                     0                           0  "
      ]
     },
     "execution_count": 6,
     "metadata": {},
     "output_type": "execute_result"
    }
   ],
   "source": [
    "data.head().T"
   ]
  },
  {
   "cell_type": "markdown",
   "metadata": {},
   "source": [
    "## Dealling with categorical features"
   ]
  },
  {
   "cell_type": "code",
   "execution_count": 7,
   "metadata": {},
   "outputs": [
    {
     "data": {
      "text/plain": [
       "Index(['station', 'ch_type', 'length', 'show_name', 'genre', 'first_or_rerun',\n",
       "       'episodes_in_season', 'is_movie', 'overlaped_with_game', 'temperature',\n",
       "       'Year', 'Month', 'Week', 'Day', 'Dayofweek', 'Dayofyear',\n",
       "       'Is_month_end', 'Is_month_start', 'Is_quarter_end', 'Is_quarter_start',\n",
       "       'Is_year_end', 'Is_year_start', 'Elapsed', 'running_time',\n",
       "       'episode_name_na', 'temperature_na'],\n",
       "      dtype='object')"
      ]
     },
     "execution_count": 7,
     "metadata": {},
     "output_type": "execute_result"
    }
   ],
   "source": [
    "data.columns"
   ]
  },
  {
   "cell_type": "code",
   "execution_count": 8,
   "metadata": {},
   "outputs": [],
   "source": [
    "to_drop = ['show_name', 'Week', 'Day', 'Dayofyear']\n",
    "\n",
    "\n",
    "cat_names = ['station', 'ch_type', 'genre', 'first_or_rerun', 'episodes_in_season', 'is_movie',\n",
    "             'overlaped_with_game', 'Year', 'Month', 'Dayofweek', 'Is_month_end', 'Is_month_start', 'Is_quarter_end',\n",
    "             'Is_quarter_start', 'Is_year_end', 'Is_year_start', 'episode_name_na', 'temperature_na']\n",
    "\n",
    "cont_names = ['length', 'temperature', 'Elapsed', 'running_time']"
   ]
  },
  {
   "cell_type": "code",
   "execution_count": 9,
   "metadata": {},
   "outputs": [
    {
     "name": "stdout",
     "output_type": "stream",
     "text": [
      "True\n"
     ]
    }
   ],
   "source": [
    "# make sure all columns name listed\n",
    "assert len(to_drop) + len(cat_names) + len(cont_names) == len(data.columns), \"Not all columns listed\"\n",
    "print(True)"
   ]
  },
  {
   "cell_type": "code",
   "execution_count": 10,
   "metadata": {},
   "outputs": [],
   "source": [
    "# drop unnecessary columns\n",
    "data.drop(columns=to_drop, inplace=True)"
   ]
  },
  {
   "cell_type": "code",
   "execution_count": 11,
   "metadata": {},
   "outputs": [
    {
     "name": "stdout",
     "output_type": "stream",
     "text": [
      "Number of unique entries in categorical columns:\n",
      "station: 24\n",
      "ch_type: 2\n",
      "genre: 27\n",
      "first_or_rerun: 2\n",
      "episodes_in_season: 2\n",
      "is_movie: 2\n",
      "overlaped_with_game: 2\n",
      "Year: 4\n",
      "Month: 12\n",
      "Dayofweek: 7\n",
      "Is_month_end: 2\n",
      "Is_month_start: 2\n",
      "Is_quarter_end: 2\n",
      "Is_quarter_start: 2\n",
      "Is_year_end: 2\n",
      "Is_year_start: 2\n",
      "episode_name_na: 2\n",
      "temperature_na: 2\n"
     ]
    }
   ],
   "source": [
    "print('Number of unique entries in categorical columns:')\n",
    "for col in cat_names:\n",
    "    print(f'{col}: {len(data[col].unique())}')"
   ]
  },
  {
   "cell_type": "code",
   "execution_count": 12,
   "metadata": {},
   "outputs": [],
   "source": [
    "def categorify(dataframe, cat_names):\n",
    "    df = dataframe.copy()\n",
    "    for col in tqdm(cat_names):\n",
    "        # One Hot Encoding categorical columns with more than 2 categories\n",
    "        if len(df[col].unique()) > 2:  \n",
    "            dummies = pd.get_dummies(df[col], prefix=col)\n",
    "            df = pd.concat(objs=[df, dummies], axis=1)\n",
    "            df.drop(columns=[col], inplace=True)\n",
    "        # Label encoding binary categorical columns\n",
    "        elif len(df[col].unique()) == 2:\n",
    "            le = LabelEncoder()\n",
    "            df[col] = le.fit_transform(df[col])\n",
    "            del le    # delete the encoder object\n",
    "            \n",
    "    return df"
   ]
  },
  {
   "cell_type": "code",
   "execution_count": 13,
   "metadata": {},
   "outputs": [
    {
     "name": "stderr",
     "output_type": "stream",
     "text": [
      "100%|████████████████████████████████████████████████████████████████████████| 18/18 [00:03<00:00,  4.56it/s]\n"
     ]
    }
   ],
   "source": [
    "# use the helper function for categorizing features\n",
    "df_categorized = categorify(dataframe=data, cat_names=cat_names)"
   ]
  },
  {
   "cell_type": "code",
   "execution_count": 14,
   "metadata": {},
   "outputs": [
    {
     "data": {
      "text/html": [
       "<div>\n",
       "<style scoped>\n",
       "    .dataframe tbody tr th:only-of-type {\n",
       "        vertical-align: middle;\n",
       "    }\n",
       "\n",
       "    .dataframe tbody tr th {\n",
       "        vertical-align: top;\n",
       "    }\n",
       "\n",
       "    .dataframe thead th {\n",
       "        text-align: right;\n",
       "    }\n",
       "</style>\n",
       "<table border=\"1\" class=\"dataframe\">\n",
       "  <thead>\n",
       "    <tr style=\"text-align: right;\">\n",
       "      <th></th>\n",
       "      <th>0</th>\n",
       "      <th>1</th>\n",
       "      <th>2</th>\n",
       "      <th>3</th>\n",
       "      <th>4</th>\n",
       "    </tr>\n",
       "  </thead>\n",
       "  <tbody>\n",
       "    <tr>\n",
       "      <th>station</th>\n",
       "      <td>V Total</td>\n",
       "      <td>V Total</td>\n",
       "      <td>V Total</td>\n",
       "      <td>V Total</td>\n",
       "      <td>V Total</td>\n",
       "    </tr>\n",
       "    <tr>\n",
       "      <th>ch_type</th>\n",
       "      <td>General Channel</td>\n",
       "      <td>General Channel</td>\n",
       "      <td>General Channel</td>\n",
       "      <td>General Channel</td>\n",
       "      <td>General Channel</td>\n",
       "    </tr>\n",
       "    <tr>\n",
       "      <th>length</th>\n",
       "      <td>8</td>\n",
       "      <td>2</td>\n",
       "      <td>2</td>\n",
       "      <td>4</td>\n",
       "      <td>2</td>\n",
       "    </tr>\n",
       "    <tr>\n",
       "      <th>genre</th>\n",
       "      <td>Music Video Clips</td>\n",
       "      <td>Informal Education and Recreation and Leisure</td>\n",
       "      <td>Infomercials, Promotional and Corporate Videos</td>\n",
       "      <td>News</td>\n",
       "      <td>Reality Programs</td>\n",
       "    </tr>\n",
       "    <tr>\n",
       "      <th>first_or_rerun</th>\n",
       "      <td>No</td>\n",
       "      <td>No</td>\n",
       "      <td>No</td>\n",
       "      <td>No</td>\n",
       "      <td>No</td>\n",
       "    </tr>\n",
       "    <tr>\n",
       "      <th>episodes_in_season</th>\n",
       "      <td>Yes</td>\n",
       "      <td>Yes</td>\n",
       "      <td>Yes</td>\n",
       "      <td>Yes</td>\n",
       "      <td>Yes</td>\n",
       "    </tr>\n",
       "    <tr>\n",
       "      <th>is_movie</th>\n",
       "      <td>No</td>\n",
       "      <td>No</td>\n",
       "      <td>No</td>\n",
       "      <td>No</td>\n",
       "      <td>No</td>\n",
       "    </tr>\n",
       "    <tr>\n",
       "      <th>overlaped_with_game</th>\n",
       "      <td>No</td>\n",
       "      <td>No</td>\n",
       "      <td>No</td>\n",
       "      <td>No</td>\n",
       "      <td>No</td>\n",
       "    </tr>\n",
       "    <tr>\n",
       "      <th>temperature</th>\n",
       "      <td>20.4</td>\n",
       "      <td>19.125</td>\n",
       "      <td>19.125</td>\n",
       "      <td>18.125</td>\n",
       "      <td>18.25</td>\n",
       "    </tr>\n",
       "    <tr>\n",
       "      <th>Year</th>\n",
       "      <td>2016</td>\n",
       "      <td>2016</td>\n",
       "      <td>2016</td>\n",
       "      <td>2016</td>\n",
       "      <td>2016</td>\n",
       "    </tr>\n",
       "    <tr>\n",
       "      <th>Month</th>\n",
       "      <td>8</td>\n",
       "      <td>8</td>\n",
       "      <td>8</td>\n",
       "      <td>8</td>\n",
       "      <td>8</td>\n",
       "    </tr>\n",
       "    <tr>\n",
       "      <th>Dayofweek</th>\n",
       "      <td>0</td>\n",
       "      <td>0</td>\n",
       "      <td>0</td>\n",
       "      <td>0</td>\n",
       "      <td>0</td>\n",
       "    </tr>\n",
       "    <tr>\n",
       "      <th>Is_month_end</th>\n",
       "      <td>False</td>\n",
       "      <td>False</td>\n",
       "      <td>False</td>\n",
       "      <td>False</td>\n",
       "      <td>False</td>\n",
       "    </tr>\n",
       "    <tr>\n",
       "      <th>Is_month_start</th>\n",
       "      <td>False</td>\n",
       "      <td>False</td>\n",
       "      <td>False</td>\n",
       "      <td>False</td>\n",
       "      <td>False</td>\n",
       "    </tr>\n",
       "    <tr>\n",
       "      <th>Is_quarter_end</th>\n",
       "      <td>False</td>\n",
       "      <td>False</td>\n",
       "      <td>False</td>\n",
       "      <td>False</td>\n",
       "      <td>False</td>\n",
       "    </tr>\n",
       "    <tr>\n",
       "      <th>Is_quarter_start</th>\n",
       "      <td>False</td>\n",
       "      <td>False</td>\n",
       "      <td>False</td>\n",
       "      <td>False</td>\n",
       "      <td>False</td>\n",
       "    </tr>\n",
       "    <tr>\n",
       "      <th>Is_year_end</th>\n",
       "      <td>False</td>\n",
       "      <td>False</td>\n",
       "      <td>False</td>\n",
       "      <td>False</td>\n",
       "      <td>False</td>\n",
       "    </tr>\n",
       "    <tr>\n",
       "      <th>Is_year_start</th>\n",
       "      <td>False</td>\n",
       "      <td>False</td>\n",
       "      <td>False</td>\n",
       "      <td>False</td>\n",
       "      <td>False</td>\n",
       "    </tr>\n",
       "    <tr>\n",
       "      <th>Elapsed</th>\n",
       "      <td>1472428800</td>\n",
       "      <td>1472428800</td>\n",
       "      <td>1472428800</td>\n",
       "      <td>1472428800</td>\n",
       "      <td>1472428800</td>\n",
       "    </tr>\n",
       "    <tr>\n",
       "      <th>running_time</th>\n",
       "      <td>120</td>\n",
       "      <td>30</td>\n",
       "      <td>30</td>\n",
       "      <td>60</td>\n",
       "      <td>30</td>\n",
       "    </tr>\n",
       "    <tr>\n",
       "      <th>episode_name_na</th>\n",
       "      <td>1</td>\n",
       "      <td>1</td>\n",
       "      <td>1</td>\n",
       "      <td>1</td>\n",
       "      <td>1</td>\n",
       "    </tr>\n",
       "    <tr>\n",
       "      <th>temperature_na</th>\n",
       "      <td>0</td>\n",
       "      <td>0</td>\n",
       "      <td>0</td>\n",
       "      <td>0</td>\n",
       "      <td>0</td>\n",
       "    </tr>\n",
       "  </tbody>\n",
       "</table>\n",
       "</div>"
      ],
      "text/plain": [
       "                                     0  \\\n",
       "station                        V Total   \n",
       "ch_type                General Channel   \n",
       "length                               8   \n",
       "genre                Music Video Clips   \n",
       "first_or_rerun                      No   \n",
       "episodes_in_season                 Yes   \n",
       "is_movie                            No   \n",
       "overlaped_with_game                 No   \n",
       "temperature                       20.4   \n",
       "Year                              2016   \n",
       "Month                                8   \n",
       "Dayofweek                            0   \n",
       "Is_month_end                     False   \n",
       "Is_month_start                   False   \n",
       "Is_quarter_end                   False   \n",
       "Is_quarter_start                 False   \n",
       "Is_year_end                      False   \n",
       "Is_year_start                    False   \n",
       "Elapsed                     1472428800   \n",
       "running_time                       120   \n",
       "episode_name_na                      1   \n",
       "temperature_na                       0   \n",
       "\n",
       "                                                                 1  \\\n",
       "station                                                    V Total   \n",
       "ch_type                                            General Channel   \n",
       "length                                                           2   \n",
       "genre                Informal Education and Recreation and Leisure   \n",
       "first_or_rerun                                                  No   \n",
       "episodes_in_season                                             Yes   \n",
       "is_movie                                                        No   \n",
       "overlaped_with_game                                             No   \n",
       "temperature                                                 19.125   \n",
       "Year                                                          2016   \n",
       "Month                                                            8   \n",
       "Dayofweek                                                        0   \n",
       "Is_month_end                                                 False   \n",
       "Is_month_start                                               False   \n",
       "Is_quarter_end                                               False   \n",
       "Is_quarter_start                                             False   \n",
       "Is_year_end                                                  False   \n",
       "Is_year_start                                                False   \n",
       "Elapsed                                                 1472428800   \n",
       "running_time                                                    30   \n",
       "episode_name_na                                                  1   \n",
       "temperature_na                                                   0   \n",
       "\n",
       "                                                                  2  \\\n",
       "station                                                     V Total   \n",
       "ch_type                                             General Channel   \n",
       "length                                                            2   \n",
       "genre                Infomercials, Promotional and Corporate Videos   \n",
       "first_or_rerun                                                   No   \n",
       "episodes_in_season                                              Yes   \n",
       "is_movie                                                         No   \n",
       "overlaped_with_game                                              No   \n",
       "temperature                                                  19.125   \n",
       "Year                                                           2016   \n",
       "Month                                                             8   \n",
       "Dayofweek                                                         0   \n",
       "Is_month_end                                                  False   \n",
       "Is_month_start                                                False   \n",
       "Is_quarter_end                                                False   \n",
       "Is_quarter_start                                              False   \n",
       "Is_year_end                                                   False   \n",
       "Is_year_start                                                 False   \n",
       "Elapsed                                                  1472428800   \n",
       "running_time                                                     30   \n",
       "episode_name_na                                                   1   \n",
       "temperature_na                                                    0   \n",
       "\n",
       "                                   3                 4  \n",
       "station                      V Total           V Total  \n",
       "ch_type              General Channel   General Channel  \n",
       "length                             4                 2  \n",
       "genre                           News  Reality Programs  \n",
       "first_or_rerun                    No                No  \n",
       "episodes_in_season               Yes               Yes  \n",
       "is_movie                          No                No  \n",
       "overlaped_with_game               No                No  \n",
       "temperature                   18.125             18.25  \n",
       "Year                            2016              2016  \n",
       "Month                              8                 8  \n",
       "Dayofweek                          0                 0  \n",
       "Is_month_end                   False             False  \n",
       "Is_month_start                 False             False  \n",
       "Is_quarter_end                 False             False  \n",
       "Is_quarter_start               False             False  \n",
       "Is_year_end                    False             False  \n",
       "Is_year_start                  False             False  \n",
       "Elapsed                   1472428800        1472428800  \n",
       "running_time                      60                30  \n",
       "episode_name_na                    1                 1  \n",
       "temperature_na                     0                 0  "
      ]
     },
     "execution_count": 14,
     "metadata": {},
     "output_type": "execute_result"
    }
   ],
   "source": [
    "data.head().T"
   ]
  },
  {
   "cell_type": "code",
   "execution_count": 15,
   "metadata": {},
   "outputs": [
    {
     "data": {
      "text/plain": [
       "Index(['ch_type', 'length', 'first_or_rerun', 'episodes_in_season', 'is_movie',\n",
       "       'overlaped_with_game', 'temperature', 'Is_month_end', 'Is_month_start',\n",
       "       'Is_quarter_end', 'Is_quarter_start', 'Is_year_end', 'Is_year_start',\n",
       "       'Elapsed', 'running_time', 'episode_name_na', 'temperature_na',\n",
       "       'station_ARTV+', 'station_Canal D+', 'station_Canal Vie+',\n",
       "       'station_Evasion+', 'station_Historia+', 'station_LCN+', 'station_MAX+',\n",
       "       'station_Meteomedia+', 'station_MusiquePlus+ (retired Aug 25, 2019)',\n",
       "       'station_PYC Online Stream Fr CBC-8+',\n",
       "       'station_PYC Online Stream Fr CBC-9+', 'station_RDI+', 'station_RDS+',\n",
       "       'station_RDS2+', 'station_SRC Total', 'station_Series++',\n",
       "       'station_TQ Total', 'station_TV5+', 'station_TVA Total',\n",
       "       'station_Teletoon Fr.+', 'station_Unis TV+', 'station_V Total',\n",
       "       'station_VRAK+', 'station_Z+', 'genre_Amateur Sports',\n",
       "       'genre_Analysis and Interpretation',\n",
       "       'genre_Animated Television Programs & Films', 'genre_Filler',\n",
       "       'genre_Formal Education and Pre-School', 'genre_Game Shows',\n",
       "       'genre_General Entertainment and Human Interest',\n",
       "       'genre_Infomercials, Promotional and Corporate Videos',\n",
       "       'genre_Informal Education and Recreation and Leisure',\n",
       "       'genre_Interstitial', 'genre_Long-form Documentary',\n",
       "       'genre_Music Video Clips', 'genre_Music Video Programs',\n",
       "       'genre_Music and Dance other than Music Video Programs or Clips',\n",
       "       'genre_News', 'genre_Ongoing Comedy Series (Sitcoms)',\n",
       "       'genre_Ongoing Dramatic Series', 'genre_Other Drama',\n",
       "       'genre_Professional Sports',\n",
       "       'genre_Programs of Comedy Sketches, Improvision, Unscripted Works',\n",
       "       'genre_Reality Programs', 'genre_Religion',\n",
       "       'genre_Reporting and Actualities',\n",
       "       'genre_Specials, Mini-Series or Made-for-TV Feature Films',\n",
       "       'genre_Theatre Feature Films Aired on TV', 'genre_Unknown',\n",
       "       'genre_Variety', 'Year_2016', 'Year_2017', 'Year_2018', 'Year_2019',\n",
       "       'Month_1', 'Month_2', 'Month_3', 'Month_4', 'Month_5', 'Month_6',\n",
       "       'Month_7', 'Month_8', 'Month_9', 'Month_10', 'Month_11', 'Month_12',\n",
       "       'Dayofweek_0', 'Dayofweek_1', 'Dayofweek_2', 'Dayofweek_3',\n",
       "       'Dayofweek_4', 'Dayofweek_5', 'Dayofweek_6'],\n",
       "      dtype='object')"
      ]
     },
     "execution_count": 15,
     "metadata": {},
     "output_type": "execute_result"
    }
   ],
   "source": [
    "df_categorized.columns"
   ]
  },
  {
   "cell_type": "markdown",
   "metadata": {},
   "source": [
    "### Scaling all features"
   ]
  },
  {
   "cell_type": "code",
   "execution_count": 16,
   "metadata": {},
   "outputs": [],
   "source": [
    "# sc = StandardScaler()\n",
    "# # applying standard-scaler to all features\n",
    "# df_categorized_scaled = sc.fit_transform(df_categorized)"
   ]
  },
  {
   "cell_type": "code",
   "execution_count": 17,
   "metadata": {},
   "outputs": [],
   "source": [
    "# # recreating a DataFrame from scaled values (np.ndarray)\n",
    "# df_categorized_scaled = pd.DataFrame(df_categorized_scaled, columns=df_categorized.columns)"
   ]
  },
  {
   "cell_type": "markdown",
   "metadata": {},
   "source": [
    "### Scaling continuos features only"
   ]
  },
  {
   "cell_type": "code",
   "execution_count": 18,
   "metadata": {},
   "outputs": [],
   "source": [
    "def scale(dataframe, cont_names):\n",
    "    df = dataframe.copy()\n",
    "    sc = StandardScaler()\n",
    "    cont_scaled = sc.fit_transform(df[cont_names])\n",
    "    df[cont_names] = cont_scaled\n",
    "    \n",
    "    return df"
   ]
  },
  {
   "cell_type": "code",
   "execution_count": 19,
   "metadata": {},
   "outputs": [],
   "source": [
    "# use the helper function to scale continuos features\n",
    "df_categorized_scaled = scale(dataframe=df_categorized, cont_names=cont_names)"
   ]
  },
  {
   "cell_type": "code",
   "execution_count": 20,
   "metadata": {},
   "outputs": [
    {
     "data": {
      "text/html": [
       "<div>\n",
       "<style scoped>\n",
       "    .dataframe tbody tr th:only-of-type {\n",
       "        vertical-align: middle;\n",
       "    }\n",
       "\n",
       "    .dataframe tbody tr th {\n",
       "        vertical-align: top;\n",
       "    }\n",
       "\n",
       "    .dataframe thead th {\n",
       "        text-align: right;\n",
       "    }\n",
       "</style>\n",
       "<table border=\"1\" class=\"dataframe\">\n",
       "  <thead>\n",
       "    <tr style=\"text-align: right;\">\n",
       "      <th></th>\n",
       "      <th>length</th>\n",
       "      <th>temperature</th>\n",
       "      <th>Elapsed</th>\n",
       "      <th>running_time</th>\n",
       "    </tr>\n",
       "  </thead>\n",
       "  <tbody>\n",
       "    <tr>\n",
       "      <th>0</th>\n",
       "      <td>0.906181</td>\n",
       "      <td>1.094244</td>\n",
       "      <td>-1.748154</td>\n",
       "      <td>0.886248</td>\n",
       "    </tr>\n",
       "    <tr>\n",
       "      <th>1</th>\n",
       "      <td>-0.223753</td>\n",
       "      <td>0.988957</td>\n",
       "      <td>-1.748154</td>\n",
       "      <td>-0.246226</td>\n",
       "    </tr>\n",
       "    <tr>\n",
       "      <th>2</th>\n",
       "      <td>-0.223753</td>\n",
       "      <td>0.988957</td>\n",
       "      <td>-1.748154</td>\n",
       "      <td>-0.246226</td>\n",
       "    </tr>\n",
       "    <tr>\n",
       "      <th>3</th>\n",
       "      <td>0.152892</td>\n",
       "      <td>0.906379</td>\n",
       "      <td>-1.748154</td>\n",
       "      <td>0.131266</td>\n",
       "    </tr>\n",
       "    <tr>\n",
       "      <th>4</th>\n",
       "      <td>-0.223753</td>\n",
       "      <td>0.916701</td>\n",
       "      <td>-1.748154</td>\n",
       "      <td>-0.246226</td>\n",
       "    </tr>\n",
       "  </tbody>\n",
       "</table>\n",
       "</div>"
      ],
      "text/plain": [
       "     length  temperature   Elapsed  running_time\n",
       "0  0.906181     1.094244 -1.748154      0.886248\n",
       "1 -0.223753     0.988957 -1.748154     -0.246226\n",
       "2 -0.223753     0.988957 -1.748154     -0.246226\n",
       "3  0.152892     0.906379 -1.748154      0.131266\n",
       "4 -0.223753     0.916701 -1.748154     -0.246226"
      ]
     },
     "execution_count": 20,
     "metadata": {},
     "output_type": "execute_result"
    }
   ],
   "source": [
    "df_categorized_scaled[cont_names].head()"
   ]
  },
  {
   "cell_type": "markdown",
   "metadata": {},
   "source": [
    "### Scaling the target feature"
   ]
  },
  {
   "cell_type": "code",
   "execution_count": 21,
   "metadata": {},
   "outputs": [
    {
     "data": {
      "image/png": "[encoded data removed]",
      "text/plain": [
       "<Figure size 432x288 with 1 Axes>"
      ]
     },
     "metadata": {
      "needs_background": "light"
     },
     "output_type": "display_data"
    }
   ],
   "source": [
    "# plot the taget feature\n",
    "plt.hist(market_share, bins=20)\n",
    "plt.show()"
   ]
  },
  {
   "cell_type": "markdown",
   "metadata": {},
   "source": [
    "**Target feature is highly skewed and need to be normalized before feeding to model.**"
   ]
  },
  {
   "cell_type": "code",
   "execution_count": 22,
   "metadata": {},
   "outputs": [],
   "source": [
    "# create a new instance of TargetTransform class\n",
    "tfms = TargetTransform(data=market_share, gamma=1e-3)"
   ]
  },
  {
   "cell_type": "code",
   "execution_count": 23,
   "metadata": {},
   "outputs": [],
   "source": [
    "# use 'transform' method to normalize the skewed data\n",
    "market_share_transformed = tfms.transform(market_share)"
   ]
  },
  {
   "cell_type": "code",
   "execution_count": 24,
   "metadata": {},
   "outputs": [
    {
     "data": {
      "image/png": "[encoded data removed]",
      "text/plain": [
       "<Figure size 432x288 with 1 Axes>"
      ]
     },
     "metadata": {
      "needs_background": "light"
     },
     "output_type": "display_data"
    }
   ],
   "source": [
    "# plot the transformed data\n",
    "plt.hist(market_share_transformed, bins=20)\n",
    "plt.show()"
   ]
  },
  {
   "cell_type": "code",
   "execution_count": 25,
   "metadata": {},
   "outputs": [
    {
     "name": "stdout",
     "output_type": "stream",
     "text": [
      "True\n"
     ]
    }
   ],
   "source": [
    "# make sure inverse transformed values are equal to original values\n",
    "market_share_inverse = tfms.inverse(market_share_transformed)\n",
    "\n",
    "assert np.allclose(market_share_inverse, market_share) == True, \"Inverse transformed data is not equal with original data.\"\n",
    "print(True)"
   ]
  },
  {
   "cell_type": "markdown",
   "metadata": {},
   "source": [
    "### Splitting train and test sets"
   ]
  },
  {
   "cell_type": "code",
   "execution_count": 26,
   "metadata": {},
   "outputs": [
    {
     "data": {
      "text/plain": [
       "(770821, 91)"
      ]
     },
     "execution_count": 26,
     "metadata": {},
     "output_type": "execute_result"
    }
   ],
   "source": [
    "df_categorized_scaled.shape"
   ]
  },
  {
   "cell_type": "code",
   "execution_count": 27,
   "metadata": {},
   "outputs": [
    {
     "data": {
      "text/plain": [
       "(616656, 154165)"
      ]
     },
     "execution_count": 27,
     "metadata": {},
     "output_type": "execute_result"
    }
   ],
   "source": [
    "n_train, n_test"
   ]
  },
  {
   "cell_type": "code",
   "execution_count": 28,
   "metadata": {},
   "outputs": [],
   "source": [
    "# split preprocessed data into train and test sets\n",
    "train_set = df_categorized_scaled.loc[0:n_train-1, :]\n",
    "test_set = df_categorized_scaled.loc[n_train:, :]"
   ]
  },
  {
   "cell_type": "code",
   "execution_count": 29,
   "metadata": {},
   "outputs": [
    {
     "name": "stdout",
     "output_type": "stream",
     "text": [
      "Everything is OK...\n"
     ]
    }
   ],
   "source": [
    "# check size of sets\n",
    "assert len(train_set) == n_train, \"Train set size mismatched\"\n",
    "assert len(test_set) == n_test, \"Test set size mismatched\"\n",
    "\n",
    "print('Everything is OK...')"
   ]
  },
  {
   "cell_type": "code",
   "execution_count": 30,
   "metadata": {},
   "outputs": [],
   "source": [
    "# add taget feature back to train set\n",
    "train_set = pd.concat(objs=[train_set,\n",
    "                            pd.DataFrame({'market_share': market_share}),\n",
    "                            pd.DataFrame({'market_share_transformed': market_share_transformed})], axis=1)"
   ]
  },
  {
   "cell_type": "markdown",
   "metadata": {},
   "source": [
    "### Storing data as csv"
   ]
  },
  {
   "cell_type": "markdown",
   "metadata": {},
   "source": [
    "#### - all-values-scaled version saving"
   ]
  },
  {
   "cell_type": "code",
   "execution_count": 31,
   "metadata": {},
   "outputs": [],
   "source": [
    "# # saving cleaned files to disk\n",
    "# train_set.to_csv(data_dir + '/train_clean_all_scaled.csv', index=False)\n",
    "# test_set.to_csv(data_dir + '/test_clean_all_scaled.csv', index=False)\n",
    "# df_categorized_scaled.to_csv(data_dir + '/data_clean_all_scaled.csv', index=False)"
   ]
  },
  {
   "cell_type": "markdown",
   "metadata": {},
   "source": [
    "#### - continuous-values-scaled version saving"
   ]
  },
  {
   "cell_type": "code",
   "execution_count": 32,
   "metadata": {},
   "outputs": [],
   "source": [
    "# saving cleaned files to disk\n",
    "train_set.to_csv(data_dir + '/train_clean.csv', index=False)\n",
    "test_set.to_csv(data_dir + '/test_clean.csv', index=False)\n",
    "df_categorized_scaled.to_csv(data_dir + '/data_clean.csv', index=False)"
   ]
  }
 ],
 "metadata": {
  "kernelspec": {
   "display_name": "Python 3",
   "language": "python",
   "name": "python3"
  },
  "language_info": {
   "codemirror_mode": {
    "name": "ipython",
    "version": 3
   },
   "file_extension": ".py",
   "mimetype": "text/x-python",
   "name": "python",
   "nbconvert_exporter": "python",
   "pygments_lexer": "ipython3",
   "version": "3.7.5"
  }
 },
 "nbformat": 4,
 "nbformat_minor": 4
}
