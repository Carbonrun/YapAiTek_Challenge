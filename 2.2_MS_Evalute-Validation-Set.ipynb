{
 "cells": [
  {
   "cell_type": "code",
   "execution_count": 1,
   "metadata": {},
   "outputs": [],
   "source": [
    "%matplotlib inline\n",
    "%load_ext autoreload\n",
    "%autoreload 2"
   ]
  },
  {
   "cell_type": "code",
   "execution_count": 54,
   "metadata": {},
   "outputs": [],
   "source": [
    "# loading libraries\n",
    "import numpy as np\n",
    "import pandas as pd\n",
    "import matplotlib.pyplot as plt\n",
    "import os\n",
    "import time\n",
    "\n",
    "from sklearn.ensemble import RandomForestRegressor, GradientBoostingRegressor\n",
    "from xgboost import XGBRegressor\n",
    "from sklearn.model_selection import train_test_split, cross_val_score\n",
    "from sklearn.metrics import mean_absolute_error, mean_squared_error, r2_score\n",
    "\n",
    "from transform import TargetTransform   # custom class for handling target value transformation"
   ]
  },
  {
   "cell_type": "code",
   "execution_count": 3,
   "metadata": {},
   "outputs": [
    {
     "data": {
      "text/plain": [
       "['data.csv',\n",
       " 'data.zip',\n",
       " 'data_clean.csv',\n",
       " 'data_no_missing.csv',\n",
       " 'Saved-Models',\n",
       " 'test.csv',\n",
       " 'test_clean.csv',\n",
       " 'train_clean.csv']"
      ]
     },
     "execution_count": 3,
     "metadata": {},
     "output_type": "execute_result"
    }
   ],
   "source": [
    "# setting paths\n",
    "data_dir = os.path.abspath('./_data')\n",
    "train_data_fp = os.path.join(data_dir, 'train_clean.csv')\n",
    "test_data_fp = os.path.join(data_dir, 'test_clean.csv')\n",
    "data_fp = os.path.join(data_dir, 'data_clean.csv')\n",
    "os.listdir(data_dir)"
   ]
  },
  {
   "cell_type": "code",
   "execution_count": 4,
   "metadata": {},
   "outputs": [
    {
     "data": {
      "text/html": [
       "<div>\n",
       "<style scoped>\n",
       "    .dataframe tbody tr th:only-of-type {\n",
       "        vertical-align: middle;\n",
       "    }\n",
       "\n",
       "    .dataframe tbody tr th {\n",
       "        vertical-align: top;\n",
       "    }\n",
       "\n",
       "    .dataframe thead th {\n",
       "        text-align: right;\n",
       "    }\n",
       "</style>\n",
       "<table border=\"1\" class=\"dataframe\">\n",
       "  <thead>\n",
       "    <tr style=\"text-align: right;\">\n",
       "      <th></th>\n",
       "      <th>ch_type</th>\n",
       "      <th>length</th>\n",
       "      <th>first_or_rerun</th>\n",
       "      <th>episodes_in_season</th>\n",
       "      <th>is_movie</th>\n",
       "      <th>overlaped_with_game</th>\n",
       "      <th>temperature</th>\n",
       "      <th>Is_month_end</th>\n",
       "      <th>Is_month_start</th>\n",
       "      <th>Is_quarter_end</th>\n",
       "      <th>...</th>\n",
       "      <th>Month_12</th>\n",
       "      <th>Dayofweek_0</th>\n",
       "      <th>Dayofweek_1</th>\n",
       "      <th>Dayofweek_2</th>\n",
       "      <th>Dayofweek_3</th>\n",
       "      <th>Dayofweek_4</th>\n",
       "      <th>Dayofweek_5</th>\n",
       "      <th>Dayofweek_6</th>\n",
       "      <th>market_share</th>\n",
       "      <th>market_share_transformed</th>\n",
       "    </tr>\n",
       "  </thead>\n",
       "  <tbody>\n",
       "    <tr>\n",
       "      <th>0</th>\n",
       "      <td>0</td>\n",
       "      <td>0.906181</td>\n",
       "      <td>0</td>\n",
       "      <td>1</td>\n",
       "      <td>0</td>\n",
       "      <td>0</td>\n",
       "      <td>1.094244</td>\n",
       "      <td>0</td>\n",
       "      <td>0</td>\n",
       "      <td>0</td>\n",
       "      <td>...</td>\n",
       "      <td>0</td>\n",
       "      <td>1</td>\n",
       "      <td>0</td>\n",
       "      <td>0</td>\n",
       "      <td>0</td>\n",
       "      <td>0</td>\n",
       "      <td>0</td>\n",
       "      <td>0</td>\n",
       "      <td>0.9</td>\n",
       "      <td>-0.001165</td>\n",
       "    </tr>\n",
       "  </tbody>\n",
       "</table>\n",
       "<p>1 rows × 93 columns</p>\n",
       "</div>"
      ],
      "text/plain": [
       "   ch_type    length  first_or_rerun  episodes_in_season  is_movie  \\\n",
       "0        0  0.906181               0                   1         0   \n",
       "\n",
       "   overlaped_with_game  temperature  Is_month_end  Is_month_start  \\\n",
       "0                    0     1.094244             0               0   \n",
       "\n",
       "   Is_quarter_end  ...  Month_12  Dayofweek_0  Dayofweek_1  Dayofweek_2  \\\n",
       "0               0  ...         0            1            0            0   \n",
       "\n",
       "   Dayofweek_3  Dayofweek_4  Dayofweek_5  Dayofweek_6  market_share  \\\n",
       "0            0            0            0            0           0.9   \n",
       "\n",
       "   market_share_transformed  \n",
       "0                 -0.001165  \n",
       "\n",
       "[1 rows x 93 columns]"
      ]
     },
     "execution_count": 4,
     "metadata": {},
     "output_type": "execute_result"
    }
   ],
   "source": [
    "# load the training set\n",
    "train_set = pd.read_csv(train_data_fp)\n",
    "train_set.head(1)"
   ]
  },
  {
   "cell_type": "code",
   "execution_count": 5,
   "metadata": {},
   "outputs": [],
   "source": [
    "# cut the dependant variable(s) form training set\n",
    "target = train_set.loc[:, 'market_share_transformed']\n",
    "target_src = train_set.loc[:, 'market_share']\n",
    "targets_joint = train_set.loc[:, ['market_share_transformed', 'market_share']]\n",
    "\n",
    "train_set.drop(columns=['market_share', 'market_share_transformed'], inplace=True)"
   ]
  },
  {
   "cell_type": "code",
   "execution_count": 6,
   "metadata": {},
   "outputs": [],
   "source": [
    "# constant variables for later use\n",
    "cv = 5    # number of folds for cross-validation\n",
    "rs = 7    # random-state number"
   ]
  },
  {
   "cell_type": "code",
   "execution_count": 7,
   "metadata": {},
   "outputs": [],
   "source": [
    "# splitting the train set into train and validation sets\n",
    "X_train, X_test, y_train, y_test = train_test_split(train_set, targets_joint, test_size=0.2, random_state=rs)"
   ]
  },
  {
   "cell_type": "code",
   "execution_count": 20,
   "metadata": {},
   "outputs": [],
   "source": [
    "# transformer object that will be used later for inverse transforming predicted values.\n",
    "tfms = TargetTransform(data=target_src)"
   ]
  },
  {
   "cell_type": "code",
   "execution_count": 22,
   "metadata": {},
   "outputs": [
    {
     "data": {
      "text/html": [
       "<div>\n",
       "<style scoped>\n",
       "    .dataframe tbody tr th:only-of-type {\n",
       "        vertical-align: middle;\n",
       "    }\n",
       "\n",
       "    .dataframe tbody tr th {\n",
       "        vertical-align: top;\n",
       "    }\n",
       "\n",
       "    .dataframe thead th {\n",
       "        text-align: right;\n",
       "    }\n",
       "</style>\n",
       "<table border=\"1\" class=\"dataframe\">\n",
       "  <thead>\n",
       "    <tr style=\"text-align: right;\">\n",
       "      <th></th>\n",
       "      <th>market_share_transformed</th>\n",
       "      <th>market_share</th>\n",
       "    </tr>\n",
       "  </thead>\n",
       "  <tbody>\n",
       "    <tr>\n",
       "      <th>117942</th>\n",
       "      <td>-0.007722</td>\n",
       "      <td>0.5</td>\n",
       "    </tr>\n",
       "    <tr>\n",
       "      <th>105927</th>\n",
       "      <td>0.021902</td>\n",
       "      <td>7.1</td>\n",
       "    </tr>\n",
       "    <tr>\n",
       "      <th>219211</th>\n",
       "      <td>0.007750</td>\n",
       "      <td>2.0</td>\n",
       "    </tr>\n",
       "    <tr>\n",
       "      <th>526282</th>\n",
       "      <td>0.001075</td>\n",
       "      <td>1.1</td>\n",
       "    </tr>\n",
       "    <tr>\n",
       "      <th>345705</th>\n",
       "      <td>-0.017927</td>\n",
       "      <td>0.2</td>\n",
       "    </tr>\n",
       "  </tbody>\n",
       "</table>\n",
       "</div>"
      ],
      "text/plain": [
       "        market_share_transformed  market_share\n",
       "117942                 -0.007722           0.5\n",
       "105927                  0.021902           7.1\n",
       "219211                  0.007750           2.0\n",
       "526282                  0.001075           1.1\n",
       "345705                 -0.017927           0.2"
      ]
     },
     "execution_count": 22,
     "metadata": {},
     "output_type": "execute_result"
    }
   ],
   "source": [
    "y_train.head()"
   ]
  },
  {
   "cell_type": "code",
   "execution_count": 26,
   "metadata": {},
   "outputs": [],
   "source": [
    "def evaluate(actual, prediction):\n",
    "    return {'MAE': mean_absolute_error(actual, prediction),\n",
    "            'MSE': mean_squared_error(actual, prediction),\n",
    "            'R^2': r2_score(actual, prediction)}"
   ]
  },
  {
   "cell_type": "markdown",
   "metadata": {},
   "source": [
    "## 1. RandomForestRegressor model"
   ]
  },
  {
   "cell_type": "markdown",
   "metadata": {},
   "source": [
    "#### Grid search results for RandomForestRegressor:\n",
    "* Best `max_depth`: 30\n",
    "* Best `n_estimators`: 100"
   ]
  },
  {
   "cell_type": "code",
   "execution_count": 21,
   "metadata": {},
   "outputs": [],
   "source": [
    "# instantiate a RandomForestRegressor object using the researched hyper-parameters\n",
    "rf = RandomForestRegressor(n_estimators=100, max_depth=30, n_jobs=-1, random_state=rs)"
   ]
  },
  {
   "cell_type": "code",
   "execution_count": 24,
   "metadata": {},
   "outputs": [
    {
     "name": "stdout",
     "output_type": "stream",
     "text": [
      "Fri Feb 21 22:59:47 2020\n",
      "Wall time: 7min 31s\n"
     ]
    },
    {
     "data": {
      "text/plain": [
       "RandomForestRegressor(bootstrap=True, ccp_alpha=0.0, criterion='mse',\n",
       "                      max_depth=30, max_features='auto', max_leaf_nodes=None,\n",
       "                      max_samples=None, min_impurity_decrease=0.0,\n",
       "                      min_impurity_split=None, min_samples_leaf=1,\n",
       "                      min_samples_split=2, min_weight_fraction_leaf=0.0,\n",
       "                      n_estimators=100, n_jobs=-1, oob_score=False,\n",
       "                      random_state=7, verbose=0, warm_start=False)"
      ]
     },
     "execution_count": 24,
     "metadata": {},
     "output_type": "execute_result"
    }
   ],
   "source": [
    "%%time\n",
    "# training the RandomForest model with transformed y values\n",
    "print(time.ctime())\n",
    "rf.fit(X_train, y_train.iloc[:, 0].values)"
   ]
  },
  {
   "cell_type": "code",
   "execution_count": 39,
   "metadata": {},
   "outputs": [
    {
     "data": {
      "text/plain": [
       "[(0.21202570849572155, 'station_Unis TV+'),\n",
       " (0.16655498456942996, 'temperature'),\n",
       " (0.10847851680941811, 'Elapsed'),\n",
       " (0.08593567817972778, 'ch_type'),\n",
       " (0.051311459250471834, 'running_time'),\n",
       " (0.0335779138944239, 'station_RDS2+'),\n",
       " (0.01866659001326775, 'station_MusiquePlus+ (retired Aug 25, 2019)'),\n",
       " (0.018441731835395755, 'station_Evasion+'),\n",
       " (0.01718808315744735, 'genre_Amateur Sports'),\n",
       " (0.01275779177053862, 'length')]"
      ]
     },
     "execution_count": 39,
     "metadata": {},
     "output_type": "execute_result"
    }
   ],
   "source": [
    "# top 10 most important features for the RandomForest model\n",
    "sorted(zip(rf.feature_importances_, X_train.columns), reverse=True)[:10]"
   ]
  },
  {
   "cell_type": "code",
   "execution_count": 41,
   "metadata": {},
   "outputs": [],
   "source": [
    "# make predictions\n",
    "rf_preds = rf.predict(X_test)"
   ]
  },
  {
   "cell_type": "code",
   "execution_count": 42,
   "metadata": {},
   "outputs": [
    {
     "data": {
      "text/plain": [
       "(123332,)"
      ]
     },
     "execution_count": 42,
     "metadata": {},
     "output_type": "execute_result"
    }
   ],
   "source": [
    "# inverse transforming the predicted values\n",
    "rf_preds_inverse_transformed = tfms.inverse(rf_preds)\n",
    "rf_preds_inverse_transformed.shape"
   ]
  },
  {
   "cell_type": "code",
   "execution_count": 44,
   "metadata": {},
   "outputs": [
    {
     "data": {
      "text/plain": [
       "{'MAE': 1.2265391244681203,\n",
       " 'MSE': 5.067843954897217,\n",
       " 'R^2': 0.7908991497007714}"
      ]
     },
     "execution_count": 44,
     "metadata": {},
     "output_type": "execute_result"
    }
   ],
   "source": [
    "# evaluating the RandomForest model\n",
    "evaluate(y_test.iloc[:, 1].values, rf_preds_inverse_transformed)"
   ]
  },
  {
   "cell_type": "code",
   "execution_count": null,
   "metadata": {},
   "outputs": [],
   "source": []
  },
  {
   "cell_type": "code",
   "execution_count": null,
   "metadata": {},
   "outputs": [],
   "source": []
  },
  {
   "cell_type": "code",
   "execution_count": 48,
   "metadata": {},
   "outputs": [],
   "source": [
    "# instantiate a RandomForestRegressor object using the researched hyper-parameters\n",
    "rf = RandomForestRegressor(n_estimators=100, max_depth=30, n_jobs=-1, random_state=rs)"
   ]
  },
  {
   "cell_type": "code",
   "execution_count": 50,
   "metadata": {},
   "outputs": [
    {
     "name": "stdout",
     "output_type": "stream",
     "text": [
      "Fri Feb 21 23:43:57 2020\n",
      "Wall time: 7min 17s\n"
     ]
    },
    {
     "data": {
      "text/plain": [
       "RandomForestRegressor(bootstrap=True, ccp_alpha=0.0, criterion='mse',\n",
       "                      max_depth=30, max_features='auto', max_leaf_nodes=None,\n",
       "                      max_samples=None, min_impurity_decrease=0.0,\n",
       "                      min_impurity_split=None, min_samples_leaf=1,\n",
       "                      min_samples_split=2, min_weight_fraction_leaf=0.0,\n",
       "                      n_estimators=100, n_jobs=-1, oob_score=False,\n",
       "                      random_state=7, verbose=0, warm_start=False)"
      ]
     },
     "execution_count": 50,
     "metadata": {},
     "output_type": "execute_result"
    }
   ],
   "source": [
    "%%time\n",
    "# training the RandomForest model with transformed y values\n",
    "\n",
    "print(time.ctime())\n",
    "rf.fit(X_train, y_train.iloc[:, 1].values)"
   ]
  },
  {
   "cell_type": "code",
   "execution_count": 51,
   "metadata": {},
   "outputs": [
    {
     "data": {
      "text/plain": [
       "[(0.4412274061965948, 'station_TVA Total'),\n",
       " (0.08327789022301008, 'ch_type'),\n",
       " (0.08175299476662161, 'running_time'),\n",
       " (0.07666412804037741, 'temperature'),\n",
       " (0.0515017298269713, 'Elapsed'),\n",
       " (0.02831438551727177, 'station_SRC Total'),\n",
       " (0.025352121645227522,\n",
       "  'genre_Infomercials, Promotional and Corporate Videos'),\n",
       " (0.014262759823071278, 'length'),\n",
       " (0.013762769174650526, 'station_RDI+'),\n",
       " (0.013671670994428588, 'station_LCN+')]"
      ]
     },
     "execution_count": 51,
     "metadata": {},
     "output_type": "execute_result"
    }
   ],
   "source": [
    "# top 10 most important features for the RandomForest model\n",
    "sorted(zip(rf.feature_importances_, X_train.columns), reverse=True)[:10]"
   ]
  },
  {
   "cell_type": "code",
   "execution_count": 52,
   "metadata": {},
   "outputs": [],
   "source": [
    "# make predictions\n",
    "rf_preds = rf.predict(X_test)"
   ]
  },
  {
   "cell_type": "code",
   "execution_count": 53,
   "metadata": {},
   "outputs": [
    {
     "data": {
      "text/plain": [
       "{'MAE': 1.2114750468805762,\n",
       " 'MSE': 4.458395933940401,\n",
       " 'R^2': 0.8160451685066793}"
      ]
     },
     "execution_count": 53,
     "metadata": {},
     "output_type": "execute_result"
    }
   ],
   "source": [
    "# evaluating the RandomForest model\n",
    "evaluate(y_test.iloc[:, 1].values, rf_preds)"
   ]
  },
  {
   "cell_type": "code",
   "execution_count": null,
   "metadata": {},
   "outputs": [],
   "source": []
  },
  {
   "cell_type": "code",
   "execution_count": 55,
   "metadata": {},
   "outputs": [],
   "source": [
    "rf = RandomForestRegressor(n_estimators=100, max_depth=30, n_jobs=-1, random_state=rs)"
   ]
  },
  {
   "cell_type": "code",
   "execution_count": null,
   "metadata": {},
   "outputs": [],
   "source": [
    "cross_val_score(estimator=rf, X=train_set.values, y=target_src.values, cv=cv, scoring='neg_mean_absolute_error')"
   ]
  },
  {
   "cell_type": "code",
   "execution_count": null,
   "metadata": {},
   "outputs": [],
   "source": []
  },
  {
   "cell_type": "markdown",
   "metadata": {},
   "source": [
    "## 2. XGBRegressor model"
   ]
  },
  {
   "cell_type": "markdown",
   "metadata": {},
   "source": [
    "#### Grid search results for XGBRegressor:\n",
    "* Best  `max_depth`: 5\n",
    "* Best  `n_estimators`: 100\n",
    "* Best  `learning_rate`: 0.1"
   ]
  },
  {
   "cell_type": "code",
   "execution_count": 34,
   "metadata": {},
   "outputs": [],
   "source": [
    "# instantiate a XGBRegressor object using the researched hyper-parameters\n",
    "xgr = XGBRegressor(max_depth=5, n_estimators=100, learning_rate=0.1, n_jobs=-1, random_state=rs)"
   ]
  },
  {
   "cell_type": "code",
   "execution_count": 35,
   "metadata": {},
   "outputs": [
    {
     "name": "stdout",
     "output_type": "stream",
     "text": [
      "Fri Feb 21 23:23:15 2020\n",
      "[23:23:19] WARNING: C:/Jenkins/workspace/xgboost-win64_release_0.90/src/objective/regression_obj.cu:152: reg:linear is now deprecated in favor of reg:squarederror.\n",
      "Wall time: 1min 27s\n"
     ]
    },
    {
     "data": {
      "text/plain": [
       "XGBRegressor(base_score=0.5, booster='gbtree', colsample_bylevel=1,\n",
       "             colsample_bynode=1, colsample_bytree=1, gamma=0,\n",
       "             importance_type='gain', learning_rate=0.1, max_delta_step=0,\n",
       "             max_depth=5, min_child_weight=1, missing=None, n_estimators=100,\n",
       "             n_jobs=-1, nthread=None, objective='reg:linear', random_state=7,\n",
       "             reg_alpha=0, reg_lambda=1, scale_pos_weight=1, seed=None,\n",
       "             silent=None, subsample=1, verbosity=1)"
      ]
     },
     "execution_count": 35,
     "metadata": {},
     "output_type": "execute_result"
    }
   ],
   "source": [
    "%%time\n",
    "# training the XGBoost model\n",
    "print(time.ctime())\n",
    "xgr.fit(X_train.values, y_train.iloc[:, 0].values)"
   ]
  },
  {
   "cell_type": "code",
   "execution_count": 40,
   "metadata": {},
   "outputs": [
    {
     "data": {
      "text/plain": [
       "[(0.29421237, 'station_Unis TV+'),\n",
       " (0.122598045, 'ch_type'),\n",
       " (0.050584905, 'station_RDS2+'),\n",
       " (0.04122238, 'station_Series++'),\n",
       " (0.039162338, 'station_MusiquePlus+ (retired Aug 25, 2019)'),\n",
       " (0.037397247, 'genre_Amateur Sports'),\n",
       " (0.037092704, 'station_RDI+'),\n",
       " (0.03607034, 'station_Evasion+'),\n",
       " (0.03411925, 'station_LCN+'),\n",
       " (0.025626002, 'station_TQ Total')]"
      ]
     },
     "execution_count": 40,
     "metadata": {},
     "output_type": "execute_result"
    }
   ],
   "source": [
    "# top 10 most important features for the XGBoost model\n",
    "sorted(zip(xgr.feature_importances_, X_train.columns), reverse=True)[:10]"
   ]
  },
  {
   "cell_type": "code",
   "execution_count": 36,
   "metadata": {},
   "outputs": [],
   "source": [
    "# make predictions\n",
    "xg_preds = xgr.predict(X_test.values)"
   ]
  },
  {
   "cell_type": "code",
   "execution_count": 37,
   "metadata": {},
   "outputs": [
    {
     "data": {
      "text/plain": [
       "(123332,)"
      ]
     },
     "execution_count": 37,
     "metadata": {},
     "output_type": "execute_result"
    }
   ],
   "source": [
    "# inverse transforming the predicted values\n",
    "xg_preds_inverse_transformed = tfms.inverse(xg_preds)\n",
    "xg_preds_inverse_transformed.shape"
   ]
  },
  {
   "cell_type": "code",
   "execution_count": 38,
   "metadata": {},
   "outputs": [
    {
     "data": {
      "text/plain": [
       "{'MAE': 1.5502820965879538,\n",
       " 'MSE': 8.628997746145776,\n",
       " 'R^2': 0.6439648138325909}"
      ]
     },
     "execution_count": 38,
     "metadata": {},
     "output_type": "execute_result"
    }
   ],
   "source": [
    "# evaluating the XGBoost model\n",
    "evaluate(y_test.iloc[:, 1].values, xg_preds_inverse_transformed)"
   ]
  },
  {
   "cell_type": "code",
   "execution_count": null,
   "metadata": {},
   "outputs": [],
   "source": []
  },
  {
   "cell_type": "code",
   "execution_count": null,
   "metadata": {},
   "outputs": [],
   "source": []
  },
  {
   "cell_type": "code",
   "execution_count": null,
   "metadata": {},
   "outputs": [],
   "source": []
  }
 ],
 "metadata": {
  "kernelspec": {
   "display_name": "Python 3",
   "language": "python",
   "name": "python3"
  },
  "language_info": {
   "codemirror_mode": {
    "name": "ipython",
    "version": 3
   },
   "file_extension": ".py",
   "mimetype": "text/x-python",
   "name": "python",
   "nbconvert_exporter": "python",
   "pygments_lexer": "ipython3",
   "version": "3.7.6"
  }
 },
 "nbformat": 4,
 "nbformat_minor": 4
}
