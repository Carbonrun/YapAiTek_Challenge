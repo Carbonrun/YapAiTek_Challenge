{
 "cells": [
  {
   "cell_type": "code",
   "execution_count": 1,
   "metadata": {
    "colab": {},
    "colab_type": "code",
    "id": "s98HihTld_dL"
   },
   "outputs": [],
   "source": [
    "%matplotlib inline\n",
    "%load_ext autoreload\n",
    "%autoreload 2"
   ]
  },
  {
   "cell_type": "code",
   "execution_count": 2,
   "metadata": {
    "colab": {},
    "colab_type": "code",
    "id": "0E--rQkFd_dQ"
   },
   "outputs": [],
   "source": [
    "## loading libraries\n",
    "import numpy as np\n",
    "import pandas as pd\n",
    "import matplotlib.pyplot as plt\n",
    "import os\n",
    "import time\n",
    "# import zipfile \n",
    "\n",
    "from sklearn.ensemble import RandomForestRegressor\n",
    "from xgboost import XGBRegressor\n",
    "from sklearn.model_selection import train_test_split, cross_val_score\n",
    "from sklearn.metrics import mean_absolute_error, mean_squared_error, r2_score\n",
    "\n",
    "from transform import TargetTransform   # custom class for handling target value transformation"
   ]
  },
  {
   "cell_type": "code",
   "execution_count": null,
   "metadata": {
    "colab": {},
    "colab_type": "code",
    "id": "f_9QxeQFeY9I"
   },
   "outputs": [],
   "source": [
    "# with zipfile.ZipFile('data.zip', 'r') as z:\n",
    "#     z.extractall()"
   ]
  },
  {
   "cell_type": "code",
   "execution_count": 3,
   "metadata": {
    "colab": {
     "base_uri": "https://localhost:8080/",
     "height": 151
    },
    "colab_type": "code",
    "id": "j6uCp2cxd_dT",
    "outputId": "9ed90ea3-7d59-4f2a-f88a-c4bc4a123a63"
   },
   "outputs": [
    {
     "data": {
      "text/plain": [
       "['data.csv',\n",
       " 'data.zip',\n",
       " 'data_clean.csv',\n",
       " 'data_clean_all_scaled.csv',\n",
       " 'data_no_missing.csv',\n",
       " 'Saved-Models',\n",
       " 'test.csv',\n",
       " 'test_clean.csv',\n",
       " 'test_clean_all_scaled.csv',\n",
       " 'train_clean.csv',\n",
       " 'train_clean_all_scaled.csv']"
      ]
     },
     "execution_count": 3,
     "metadata": {},
     "output_type": "execute_result"
    }
   ],
   "source": [
    "# setting paths\n",
    "data_dir = os.path.abspath('./_data')\n",
    "train_data_fp = os.path.join(data_dir, 'train_clean_all_scaled.csv')\n",
    "test_data_fp = os.path.join(data_dir, 'test_clean_all_scaled.csv')\n",
    "data_fp = os.path.join(data_dir, 'data_clean_all_scaled.csv')\n",
    "os.listdir(data_dir)"
   ]
  },
  {
   "cell_type": "code",
   "execution_count": 4,
   "metadata": {
    "colab": {
     "base_uri": "https://localhost:8080/",
     "height": 210
    },
    "colab_type": "code",
    "id": "OkiLCGI-d_dX",
    "outputId": "7e8c7a90-dabd-41c0-ec02-19fcaed1bdb4"
   },
   "outputs": [
    {
     "data": {
      "text/html": [
       "<div>\n",
       "<style scoped>\n",
       "    .dataframe tbody tr th:only-of-type {\n",
       "        vertical-align: middle;\n",
       "    }\n",
       "\n",
       "    .dataframe tbody tr th {\n",
       "        vertical-align: top;\n",
       "    }\n",
       "\n",
       "    .dataframe thead th {\n",
       "        text-align: right;\n",
       "    }\n",
       "</style>\n",
       "<table border=\"1\" class=\"dataframe\">\n",
       "  <thead>\n",
       "    <tr style=\"text-align: right;\">\n",
       "      <th></th>\n",
       "      <th>ch_type</th>\n",
       "      <th>length</th>\n",
       "      <th>first_or_rerun</th>\n",
       "      <th>episodes_in_season</th>\n",
       "      <th>is_movie</th>\n",
       "      <th>overlaped_with_game</th>\n",
       "      <th>temperature</th>\n",
       "      <th>Is_month_end</th>\n",
       "      <th>Is_month_start</th>\n",
       "      <th>Is_quarter_end</th>\n",
       "      <th>...</th>\n",
       "      <th>Month_12</th>\n",
       "      <th>Dayofweek_0</th>\n",
       "      <th>Dayofweek_1</th>\n",
       "      <th>Dayofweek_2</th>\n",
       "      <th>Dayofweek_3</th>\n",
       "      <th>Dayofweek_4</th>\n",
       "      <th>Dayofweek_5</th>\n",
       "      <th>Dayofweek_6</th>\n",
       "      <th>market_share</th>\n",
       "      <th>market_share_transformed</th>\n",
       "    </tr>\n",
       "  </thead>\n",
       "  <tbody>\n",
       "    <tr>\n",
       "      <th>0</th>\n",
       "      <td>-2.552048</td>\n",
       "      <td>0.906181</td>\n",
       "      <td>-0.16533</td>\n",
       "      <td>0.13963</td>\n",
       "      <td>-0.10246</td>\n",
       "      <td>-0.274233</td>\n",
       "      <td>1.094244</td>\n",
       "      <td>-0.184477</td>\n",
       "      <td>-0.184101</td>\n",
       "      <td>-0.103987</td>\n",
       "      <td>...</td>\n",
       "      <td>-0.299952</td>\n",
       "      <td>2.452482</td>\n",
       "      <td>-0.409959</td>\n",
       "      <td>-0.413056</td>\n",
       "      <td>-0.410212</td>\n",
       "      <td>-0.410479</td>\n",
       "      <td>-0.404872</td>\n",
       "      <td>-0.40136</td>\n",
       "      <td>0.9</td>\n",
       "      <td>-0.001165</td>\n",
       "    </tr>\n",
       "  </tbody>\n",
       "</table>\n",
       "<p>1 rows × 93 columns</p>\n",
       "</div>"
      ],
      "text/plain": [
       "    ch_type    length  first_or_rerun  episodes_in_season  is_movie  \\\n",
       "0 -2.552048  0.906181        -0.16533             0.13963  -0.10246   \n",
       "\n",
       "   overlaped_with_game  temperature  Is_month_end  Is_month_start  \\\n",
       "0            -0.274233     1.094244     -0.184477       -0.184101   \n",
       "\n",
       "   Is_quarter_end  ...  Month_12  Dayofweek_0  Dayofweek_1  Dayofweek_2  \\\n",
       "0       -0.103987  ... -0.299952     2.452482    -0.409959    -0.413056   \n",
       "\n",
       "   Dayofweek_3  Dayofweek_4  Dayofweek_5  Dayofweek_6  market_share  \\\n",
       "0    -0.410212    -0.410479    -0.404872     -0.40136           0.9   \n",
       "\n",
       "   market_share_transformed  \n",
       "0                 -0.001165  \n",
       "\n",
       "[1 rows x 93 columns]"
      ]
     },
     "execution_count": 4,
     "metadata": {},
     "output_type": "execute_result"
    }
   ],
   "source": [
    "# load the training set\n",
    "train_set = pd.read_csv(train_data_fp)\n",
    "train_set.head(1)"
   ]
  },
  {
   "cell_type": "code",
   "execution_count": 5,
   "metadata": {
    "colab": {},
    "colab_type": "code",
    "id": "7rX11H-Nd_da"
   },
   "outputs": [],
   "source": [
    "# cut the dependant variable(s) form training set\n",
    "target = train_set.loc[:, 'market_share_transformed']\n",
    "target_src = train_set.loc[:, 'market_share']\n",
    "targets_joint = train_set.loc[:, ['market_share_transformed', 'market_share']]\n",
    "\n",
    "train_set.drop(columns=['market_share', 'market_share_transformed'], inplace=True)"
   ]
  },
  {
   "cell_type": "code",
   "execution_count": 6,
   "metadata": {
    "colab": {},
    "colab_type": "code",
    "id": "aR6tvDamd_dd"
   },
   "outputs": [],
   "source": [
    "# constant variables for later use\n",
    "cv = 4    # number of folds for cross-validation\n",
    "rs = 7    # random-state number"
   ]
  },
  {
   "cell_type": "code",
   "execution_count": 7,
   "metadata": {
    "colab": {},
    "colab_type": "code",
    "id": "iAWyIM75d_dg"
   },
   "outputs": [],
   "source": [
    "# splitting the train set into train and validation sets\n",
    "X_train, X_test, y_train, y_test = train_test_split(train_set, targets_joint, test_size=0.2, random_state=rs)"
   ]
  },
  {
   "cell_type": "code",
   "execution_count": 8,
   "metadata": {
    "colab": {},
    "colab_type": "code",
    "id": "eSV1SYqyd_dj"
   },
   "outputs": [],
   "source": [
    "# transformer object that will be used later for inverse transforming predicted values.\n",
    "tfms = TargetTransform(data=target_src)"
   ]
  },
  {
   "cell_type": "code",
   "execution_count": 9,
   "metadata": {
    "colab": {
     "base_uri": "https://localhost:8080/",
     "height": 195
    },
    "colab_type": "code",
    "id": "-vPC201Nd_dl",
    "outputId": "318d5daa-10d9-4295-9987-8e55d1f72dd2"
   },
   "outputs": [
    {
     "data": {
      "text/html": [
       "<div>\n",
       "<style scoped>\n",
       "    .dataframe tbody tr th:only-of-type {\n",
       "        vertical-align: middle;\n",
       "    }\n",
       "\n",
       "    .dataframe tbody tr th {\n",
       "        vertical-align: top;\n",
       "    }\n",
       "\n",
       "    .dataframe thead th {\n",
       "        text-align: right;\n",
       "    }\n",
       "</style>\n",
       "<table border=\"1\" class=\"dataframe\">\n",
       "  <thead>\n",
       "    <tr style=\"text-align: right;\">\n",
       "      <th></th>\n",
       "      <th>market_share_transformed</th>\n",
       "      <th>market_share</th>\n",
       "    </tr>\n",
       "  </thead>\n",
       "  <tbody>\n",
       "    <tr>\n",
       "      <th>117942</th>\n",
       "      <td>-0.007722</td>\n",
       "      <td>0.5</td>\n",
       "    </tr>\n",
       "    <tr>\n",
       "      <th>105927</th>\n",
       "      <td>0.021902</td>\n",
       "      <td>7.1</td>\n",
       "    </tr>\n",
       "    <tr>\n",
       "      <th>219211</th>\n",
       "      <td>0.007750</td>\n",
       "      <td>2.0</td>\n",
       "    </tr>\n",
       "    <tr>\n",
       "      <th>526282</th>\n",
       "      <td>0.001075</td>\n",
       "      <td>1.1</td>\n",
       "    </tr>\n",
       "    <tr>\n",
       "      <th>345705</th>\n",
       "      <td>-0.017927</td>\n",
       "      <td>0.2</td>\n",
       "    </tr>\n",
       "  </tbody>\n",
       "</table>\n",
       "</div>"
      ],
      "text/plain": [
       "        market_share_transformed  market_share\n",
       "117942                 -0.007722           0.5\n",
       "105927                  0.021902           7.1\n",
       "219211                  0.007750           2.0\n",
       "526282                  0.001075           1.1\n",
       "345705                 -0.017927           0.2"
      ]
     },
     "execution_count": 9,
     "metadata": {},
     "output_type": "execute_result"
    }
   ],
   "source": [
    "y_train.head()"
   ]
  },
  {
   "cell_type": "code",
   "execution_count": 10,
   "metadata": {
    "colab": {},
    "colab_type": "code",
    "id": "CWY9FZXNd_do"
   },
   "outputs": [],
   "source": [
    "# helper function for evaluating model performance with 3 different metrics\n",
    "def evaluate(actual, prediction):\n",
    "    return {'MAE': mean_absolute_error(actual, prediction),\n",
    "            'MSE': mean_squared_error(actual, prediction),\n",
    "            'R^2': r2_score(actual, prediction)}"
   ]
  },
  {
   "cell_type": "markdown",
   "metadata": {
    "colab_type": "text",
    "id": "p-tILKRSd_dr"
   },
   "source": [
    "## 1. RandomForestRegressor model"
   ]
  },
  {
   "cell_type": "markdown",
   "metadata": {
    "colab_type": "text",
    "id": "lTSYS3dNd_dr"
   },
   "source": [
    "#### Grid search results for RandomForestRegressor:\n",
    "* Best `max_depth`: 30\n",
    "* Best `n_estimators`: 100"
   ]
  },
  {
   "cell_type": "markdown",
   "metadata": {
    "colab_type": "text",
    "id": "PZ1NeVE8yd_u"
   },
   "source": [
    "### RandomForestRegressor with transformed DV"
   ]
  },
  {
   "cell_type": "code",
   "execution_count": 26,
   "metadata": {
    "colab": {},
    "colab_type": "code",
    "id": "b6kihZRhd_ds"
   },
   "outputs": [],
   "source": [
    "# instantiate a RandomForestRegressor object using the researched hyper-parameters\n",
    "rf = RandomForestRegressor(n_estimators=100, max_depth=30, n_jobs=-1, random_state=rs)"
   ]
  },
  {
   "cell_type": "code",
   "execution_count": 27,
   "metadata": {
    "colab": {},
    "colab_type": "code",
    "id": "VntWNmyld_du",
    "outputId": "70da8fd2-4e76-460b-8a26-25ec149c6564"
   },
   "outputs": [
    {
     "name": "stdout",
     "output_type": "stream",
     "text": [
      "Sat Feb 22 09:17:56 2020\n",
      "Wall time: 7min 37s\n"
     ]
    },
    {
     "data": {
      "text/plain": [
       "RandomForestRegressor(bootstrap=True, ccp_alpha=0.0, criterion='mse',\n",
       "                      max_depth=30, max_features='auto', max_leaf_nodes=None,\n",
       "                      max_samples=None, min_impurity_decrease=0.0,\n",
       "                      min_impurity_split=None, min_samples_leaf=1,\n",
       "                      min_samples_split=2, min_weight_fraction_leaf=0.0,\n",
       "                      n_estimators=100, n_jobs=-1, oob_score=False,\n",
       "                      random_state=7, verbose=0, warm_start=False)"
      ]
     },
     "execution_count": 27,
     "metadata": {},
     "output_type": "execute_result"
    }
   ],
   "source": [
    "%%time\n",
    "# training the RandomForest model with transformed y values\n",
    "print(time.ctime())\n",
    "rf.fit(X_train, y_train.iloc[:, 0].values)"
   ]
  },
  {
   "cell_type": "code",
   "execution_count": 31,
   "metadata": {
    "colab": {},
    "colab_type": "code",
    "id": "RYtvQG_2d_dx",
    "outputId": "1a042d7f-2f2d-4d6a-88fb-d8f3e75486a4"
   },
   "outputs": [
    {
     "data": {
      "text/plain": [
       "[(0.21202570849572155, 'station_Unis TV+'),\n",
       " (0.16655498456942996, 'temperature'),\n",
       " (0.10847851680941811, 'Elapsed'),\n",
       " (0.08593567817972778, 'ch_type'),\n",
       " (0.051311459250471834, 'running_time'),\n",
       " (0.0335779138944239, 'station_RDS2+'),\n",
       " (0.01866659001326775, 'station_MusiquePlus+ (retired Aug 25, 2019)'),\n",
       " (0.018441731835395755, 'station_Evasion+'),\n",
       " (0.01718808315744735, 'genre_Amateur Sports'),\n",
       " (0.01275779177053862, 'length')]"
      ]
     },
     "execution_count": 31,
     "metadata": {},
     "output_type": "execute_result"
    }
   ],
   "source": [
    "# top 10 most important features for the RandomForest model\n",
    "sorted(zip(rf.feature_importances_, X_train.columns), reverse=True)[:10]"
   ]
  },
  {
   "cell_type": "code",
   "execution_count": 32,
   "metadata": {
    "colab": {},
    "colab_type": "code",
    "id": "QoQmSn7Id_dz"
   },
   "outputs": [],
   "source": [
    "# make predictions\n",
    "rf_preds = rf.predict(X_test)"
   ]
  },
  {
   "cell_type": "code",
   "execution_count": 33,
   "metadata": {
    "colab": {},
    "colab_type": "code",
    "id": "2pnexdLSd_d5",
    "outputId": "a83004ed-38bb-4463-e238-3bf79b7a9cc8"
   },
   "outputs": [
    {
     "data": {
      "text/plain": [
       "(123332,)"
      ]
     },
     "execution_count": 33,
     "metadata": {},
     "output_type": "execute_result"
    }
   ],
   "source": [
    "# inverse transforming the predicted values\n",
    "rf_preds_inverse_transformed = tfms.inverse(rf_preds)\n",
    "rf_preds_inverse_transformed.shape"
   ]
  },
  {
   "cell_type": "code",
   "execution_count": 34,
   "metadata": {
    "colab": {},
    "colab_type": "code",
    "id": "aUTDhL21d_d8",
    "outputId": "19a95f89-a271-43b0-909d-71d3a1280fe9"
   },
   "outputs": [
    {
     "data": {
      "text/plain": [
       "{'MAE': 1.2265391244681203,\n",
       " 'MSE': 5.067843954897217,\n",
       " 'R^2': 0.7908991497007714}"
      ]
     },
     "execution_count": 34,
     "metadata": {},
     "output_type": "execute_result"
    }
   ],
   "source": [
    "# evaluating the RandomForest model\n",
    "evaluate(y_test.iloc[:, 1].values, rf_preds_inverse_transformed)"
   ]
  },
  {
   "cell_type": "markdown",
   "metadata": {
    "colab_type": "text",
    "id": "0S5GPKNbyoII"
   },
   "source": [
    "### RandomForestRegressor with non-transformed DV"
   ]
  },
  {
   "cell_type": "code",
   "execution_count": 11,
   "metadata": {
    "colab": {},
    "colab_type": "code",
    "id": "rw50eZW4d_eD"
   },
   "outputs": [],
   "source": [
    "# instantiate a RandomForestRegressor object using the researched hyper-parameters\n",
    "rf = RandomForestRegressor(n_estimators=100, max_depth=30, n_jobs=-1, random_state=rs)"
   ]
  },
  {
   "cell_type": "code",
   "execution_count": 12,
   "metadata": {
    "colab": {},
    "colab_type": "code",
    "id": "1JKqUCCYd_eF",
    "outputId": "ddc372f3-0bd4-4003-986a-8671a733c87f"
   },
   "outputs": [
    {
     "name": "stdout",
     "output_type": "stream",
     "text": [
      "Sat Feb 22 09:02:55 2020\n",
      "Wall time: 6min 56s\n"
     ]
    },
    {
     "data": {
      "text/plain": [
       "RandomForestRegressor(bootstrap=True, ccp_alpha=0.0, criterion='mse',\n",
       "                      max_depth=30, max_features='auto', max_leaf_nodes=None,\n",
       "                      max_samples=None, min_impurity_decrease=0.0,\n",
       "                      min_impurity_split=None, min_samples_leaf=1,\n",
       "                      min_samples_split=2, min_weight_fraction_leaf=0.0,\n",
       "                      n_estimators=100, n_jobs=-1, oob_score=False,\n",
       "                      random_state=7, verbose=0, warm_start=False)"
      ]
     },
     "execution_count": 12,
     "metadata": {},
     "output_type": "execute_result"
    }
   ],
   "source": [
    "%%time\n",
    "# training the RandomForest model with non-transformed y values\n",
    "\n",
    "print(time.ctime())\n",
    "rf.fit(X_train, y_train.iloc[:, 1].values)"
   ]
  },
  {
   "cell_type": "code",
   "execution_count": 13,
   "metadata": {
    "colab": {},
    "colab_type": "code",
    "id": "6VBCUfnZd_eJ",
    "outputId": "10540497-3484-48ac-f4a8-57779faf3404"
   },
   "outputs": [
    {
     "data": {
      "text/plain": [
       "[(0.4412274061965948, 'station_TVA Total'),\n",
       " (0.08327789022301008, 'ch_type'),\n",
       " (0.08175299476662161, 'running_time'),\n",
       " (0.07666412804037741, 'temperature'),\n",
       " (0.0515017298269713, 'Elapsed'),\n",
       " (0.02831438551727177, 'station_SRC Total'),\n",
       " (0.025352121645227522,\n",
       "  'genre_Infomercials, Promotional and Corporate Videos'),\n",
       " (0.014262759823071278, 'length'),\n",
       " (0.013762769174650526, 'station_RDI+'),\n",
       " (0.013671670994428588, 'station_LCN+')]"
      ]
     },
     "execution_count": 13,
     "metadata": {},
     "output_type": "execute_result"
    }
   ],
   "source": [
    "# top 10 most important features for the RandomForest model\n",
    "sorted(zip(rf.feature_importances_, X_train.columns), reverse=True)[:10]"
   ]
  },
  {
   "cell_type": "code",
   "execution_count": 14,
   "metadata": {
    "colab": {},
    "colab_type": "code",
    "id": "dSKv_YyHd_eN"
   },
   "outputs": [],
   "source": [
    "# make predictions\n",
    "rf_preds = rf.predict(X_test)"
   ]
  },
  {
   "cell_type": "code",
   "execution_count": 15,
   "metadata": {
    "colab": {},
    "colab_type": "code",
    "id": "D7JjNqb_d_eR"
   },
   "outputs": [
    {
     "data": {
      "text/plain": [
       "{'MAE': 1.2114750468805762,\n",
       " 'MSE': 4.458395933940401,\n",
       " 'R^2': 0.8160451685066793}"
      ]
     },
     "execution_count": 15,
     "metadata": {},
     "output_type": "execute_result"
    }
   ],
   "source": [
    "# evaluating the RandomForest model\n",
    "evaluate(y_test.iloc[:, 1].values, rf_preds)"
   ]
  },
  {
   "cell_type": "markdown",
   "metadata": {},
   "source": [
    "### Hyper=Parameter tunning:"
   ]
  },
  {
   "cell_type": "markdown",
   "metadata": {},
   "source": [
    "#### - best one: `n_estimators`=150, `max_depth`=None, `min_samples_leaf`=2, max_features=0.5"
   ]
  },
  {
   "cell_type": "code",
   "execution_count": 81,
   "metadata": {},
   "outputs": [],
   "source": [
    "# instantiate a RandomForestRegressor object using the researched hyper-parameters\n",
    "rf = RandomForestRegressor(n_estimators=150, max_depth=None, min_samples_leaf=2, max_features=0.5 ,n_jobs=-1, random_state=rs)"
   ]
  },
  {
   "cell_type": "code",
   "execution_count": 82,
   "metadata": {},
   "outputs": [
    {
     "name": "stdout",
     "output_type": "stream",
     "text": [
      "Sat Feb 22 10:45:19 2020\n",
      "Wall time: 12min 8s\n"
     ]
    },
    {
     "data": {
      "text/plain": [
       "RandomForestRegressor(bootstrap=True, ccp_alpha=0.0, criterion='mse',\n",
       "                      max_depth=None, max_features=0.5, max_leaf_nodes=None,\n",
       "                      max_samples=None, min_impurity_decrease=0.0,\n",
       "                      min_impurity_split=None, min_samples_leaf=2,\n",
       "                      min_samples_split=2, min_weight_fraction_leaf=0.0,\n",
       "                      n_estimators=300, n_jobs=-1, oob_score=False,\n",
       "                      random_state=7, verbose=0, warm_start=False)"
      ]
     },
     "execution_count": 82,
     "metadata": {},
     "output_type": "execute_result"
    }
   ],
   "source": [
    "%%time\n",
    "# training the RandomForest model with non-transformed y values\n",
    "\n",
    "print(time.ctime())\n",
    "rf.fit(X_train, y_train.iloc[:, 1].values)"
   ]
  },
  {
   "cell_type": "code",
   "execution_count": 83,
   "metadata": {
    "colab": {},
    "colab_type": "code",
    "id": "6VBCUfnZd_eJ",
    "outputId": "10540497-3484-48ac-f4a8-57779faf3404"
   },
   "outputs": [
    {
     "data": {
      "text/plain": [
       "[(0.35256718922732455, 'station_TVA Total'),\n",
       " (0.14255550585430055, 'ch_type'),\n",
       " (0.0703688716934912, 'running_time'),\n",
       " (0.06328686011778054, 'temperature'),\n",
       " (0.04554889681959827, 'Elapsed'),\n",
       " (0.04192298964043359, 'station_SRC Total'),\n",
       " (0.03653152432134657, 'length'),\n",
       " (0.024960604448960724,\n",
       "  'genre_Infomercials, Promotional and Corporate Videos'),\n",
       " (0.020969200944876358, 'station_V Total'),\n",
       " (0.01330968582139777, 'station_TQ Total')]"
      ]
     },
     "execution_count": 83,
     "metadata": {},
     "output_type": "execute_result"
    }
   ],
   "source": [
    "# top 10 most important features for the RandomForest model\n",
    "sorted(zip(rf.feature_importances_, X_train.columns), reverse=True)[:10]"
   ]
  },
  {
   "cell_type": "code",
   "execution_count": 84,
   "metadata": {
    "colab": {},
    "colab_type": "code",
    "id": "dSKv_YyHd_eN"
   },
   "outputs": [],
   "source": [
    "# make predictions\n",
    "rf_preds = rf.predict(X_test)"
   ]
  },
  {
   "cell_type": "code",
   "execution_count": 39,
   "metadata": {
    "colab": {},
    "colab_type": "code",
    "id": "D7JjNqb_d_eR"
   },
   "outputs": [
    {
     "data": {
      "text/plain": [
       "{'MAE': 1.2115713322595871,\n",
       " 'MSE': 4.393888042785177,\n",
       " 'R^2': 0.8187067845729223}"
      ]
     },
     "execution_count": 39,
     "metadata": {},
     "output_type": "execute_result"
    }
   ],
   "source": [
    "# # evaluating the RandomForest model\n",
    "# # min_samples_leaf=2\n",
    "# evaluate(y_test.iloc[:, 1].values, rf_preds)"
   ]
  },
  {
   "cell_type": "code",
   "execution_count": 44,
   "metadata": {
    "colab": {},
    "colab_type": "code",
    "id": "D7JjNqb_d_eR"
   },
   "outputs": [
    {
     "data": {
      "text/plain": [
       "{'MAE': 1.2166649954170135,\n",
       " 'MSE': 4.400843838292128,\n",
       " 'R^2': 0.8184197862422802}"
      ]
     },
     "execution_count": 44,
     "metadata": {},
     "output_type": "execute_result"
    }
   ],
   "source": [
    "# # evaluating the RandomForest model\n",
    "# # min_samples_leaf=3\n",
    "# evaluate(y_test.iloc[:, 1].values, rf_preds)"
   ]
  },
  {
   "cell_type": "code",
   "execution_count": 49,
   "metadata": {
    "colab": {},
    "colab_type": "code",
    "id": "D7JjNqb_d_eR"
   },
   "outputs": [
    {
     "data": {
      "text/plain": [
       "{'MAE': 1.2285477446347959, 'MSE': 4.471535361067341, 'R^2': 0.815503031572484}"
      ]
     },
     "execution_count": 49,
     "metadata": {},
     "output_type": "execute_result"
    }
   ],
   "source": [
    "# # evaluating the RandomForest model\n",
    "# # min_samples_leaf=5\n",
    "# evaluate(y_test.iloc[:, 1].values, rf_preds)"
   ]
  },
  {
   "cell_type": "code",
   "execution_count": 54,
   "metadata": {
    "colab": {},
    "colab_type": "code",
    "id": "D7JjNqb_d_eR"
   },
   "outputs": [
    {
     "data": {
      "text/plain": [
       "{'MAE': 1.2985397716893128, 'MSE': 4.851387204051864, 'R^2': 0.799830223951989}"
      ]
     },
     "execution_count": 54,
     "metadata": {},
     "output_type": "execute_result"
    }
   ],
   "source": [
    "# # evaluating the RandomForest model\n",
    "# # min_samples_leaf=2, max_features='sqrt'\n",
    "# evaluate(y_test.iloc[:, 1].values, rf_preds)"
   ]
  },
  {
   "cell_type": "code",
   "execution_count": 59,
   "metadata": {
    "colab": {},
    "colab_type": "code",
    "id": "D7JjNqb_d_eR"
   },
   "outputs": [
    {
     "data": {
      "text/plain": [
       "{'MAE': 1.216466919559925, 'MSE': 4.392587281836075, 'R^2': 0.8187604543825917}"
      ]
     },
     "execution_count": 59,
     "metadata": {},
     "output_type": "execute_result"
    }
   ],
   "source": [
    "# # evaluating the RandomForest model\n",
    "# # min_samples_leaf=2, max_features=0.5\n",
    "# evaluate(y_test.iloc[:, 1].values, rf_preds)"
   ]
  },
  {
   "cell_type": "code",
   "execution_count": 69,
   "metadata": {
    "colab": {},
    "colab_type": "code",
    "id": "D7JjNqb_d_eR"
   },
   "outputs": [
    {
     "data": {
      "text/plain": [
       "{'MAE': 1.2927334599485232,\n",
       " 'MSE': 4.919374969034451,\n",
       " 'R^2': 0.7970250271869889}"
      ]
     },
     "execution_count": 69,
     "metadata": {},
     "output_type": "execute_result"
    }
   ],
   "source": [
    "# # evaluating the RandomForest model\n",
    "# # min_samples_leaf=2, max_features='log2', max_depth=None\n",
    "# evaluate(y_test.iloc[:, 1].values, rf_preds)"
   ]
  },
  {
   "cell_type": "code",
   "execution_count": 74,
   "metadata": {
    "colab": {},
    "colab_type": "code",
    "id": "D7JjNqb_d_eR"
   },
   "outputs": [
    {
     "data": {
      "text/plain": [
       "{'MAE': 1.2290669738109814, 'MSE': 4.4705419773212, 'R^2': 0.8155440189011864}"
      ]
     },
     "execution_count": 74,
     "metadata": {},
     "output_type": "execute_result"
    }
   ],
   "source": [
    "# # evaluating the RandomForest model\n",
    "# # min_samples_leaf=5, max_features=0.5, max_depth=None\n",
    "# evaluate(y_test.iloc[:, 1].values, rf_preds)"
   ]
  },
  {
   "cell_type": "code",
   "execution_count": 64,
   "metadata": {
    "colab": {},
    "colab_type": "code",
    "id": "D7JjNqb_d_eR"
   },
   "outputs": [
    {
     "data": {
      "text/plain": [
       "{'MAE': 1.206812669313148, 'MSE': 4.377800509231889, 'R^2': 0.8193705613141062}"
      ]
     },
     "execution_count": 64,
     "metadata": {},
     "output_type": "execute_result"
    }
   ],
   "source": [
    "# # evaluating the RandomForest model\n",
    "# # min_samples_leaf=2, max_features=0.5, max_depth=None\n",
    "# evaluate(y_test.iloc[:, 1].values, rf_preds)"
   ]
  },
  {
   "cell_type": "markdown",
   "metadata": {},
   "source": [
    "##### best one is:"
   ]
  },
  {
   "cell_type": "code",
   "execution_count": 79,
   "metadata": {
    "colab": {},
    "colab_type": "code",
    "id": "D7JjNqb_d_eR"
   },
   "outputs": [
    {
     "data": {
      "text/plain": [
       "{'MAE': 1.2055198269905107,\n",
       " 'MSE': 4.367772026317077,\n",
       " 'R^2': 0.8197843397025809}"
      ]
     },
     "execution_count": 79,
     "metadata": {},
     "output_type": "execute_result"
    }
   ],
   "source": [
    "# evaluating the RandomForest model\n",
    "# min_samples_leaf=2, max_features=0.5, max_depth=None, n_estimators=150\n",
    "evaluate(y_test.iloc[:, 1].values, rf_preds)"
   ]
  },
  {
   "cell_type": "code",
   "execution_count": null,
   "metadata": {},
   "outputs": [],
   "source": []
  },
  {
   "cell_type": "markdown",
   "metadata": {
    "colab_type": "text",
    "id": "RlRDr6lrwQXC"
   },
   "source": [
    "### RandomForestRegressor Cross-Validation"
   ]
  },
  {
   "cell_type": "code",
   "execution_count": null,
   "metadata": {
    "colab": {},
    "colab_type": "code",
    "id": "LjdP-6Fad_eT"
   },
   "outputs": [],
   "source": [
    "rf = RandomForestRegressor(n_estimators=100, max_depth=30, random_state=rs)"
   ]
  },
  {
   "cell_type": "code",
   "execution_count": 16,
   "metadata": {
    "colab": {
     "base_uri": "https://localhost:8080/"
    },
    "colab_type": "code",
    "id": "g5knoRsAd_eW",
    "outputId": "1279b04a-879b-4db5-f412-8e7519b64990"
   },
   "outputs": [
    {
     "name": "stdout",
     "output_type": "stream",
     "text": [
      "CPU times: user 58min 24s, sys: 3.97 s, total: 58min 28s\n",
      "Wall time: 58min 31s\n"
     ]
    }
   ],
   "source": [
    "%%time\n",
    "\n",
    "NMAEs = cross_val_score(estimator=rf, X=train_set.values, y=target_src.values, cv=cv, scoring='neg_mean_absolute_error')"
   ]
  },
  {
   "cell_type": "code",
   "execution_count": 33,
   "metadata": {
    "colab": {
     "base_uri": "https://localhost:8080/",
     "height": 34
    },
    "colab_type": "code",
    "id": "L8NPZctofdQP",
    "outputId": "78761f01-ae40-4704-c5dc-24f012987e4d"
   },
   "outputs": [
    {
     "name": "stdout",
     "output_type": "stream",
     "text": [
      "Mean MEA for 4 folds cross-validation: 1.6073213199539949\n"
     ]
    }
   ],
   "source": [
    "print(f'Mean MEA for {cv} folds cross-validation: {NMAEs.mean() * -1}')"
   ]
  },
  {
   "cell_type": "code",
   "execution_count": null,
   "metadata": {
    "colab": {},
    "colab_type": "code",
    "id": "Ikgu1Dfbfc8g"
   },
   "outputs": [],
   "source": []
  },
  {
   "cell_type": "markdown",
   "metadata": {
    "colab_type": "text",
    "id": "gN4K7qsjd_ea"
   },
   "source": [
    "## 2. XGBRegressor model"
   ]
  },
  {
   "cell_type": "markdown",
   "metadata": {
    "colab_type": "text",
    "id": "-VSAYb-Jd_ea"
   },
   "source": [
    "#### Grid search results for XGBRegressor:\n",
    "* Best  `max_depth`: 5\n",
    "* Best  `n_estimators`: 100\n",
    "* Best  `learning_rate`: 0.1"
   ]
  },
  {
   "cell_type": "markdown",
   "metadata": {
    "colab_type": "text",
    "id": "rn2LkHgHyX1j"
   },
   "source": [
    "### XGBRegressor with transformed DV"
   ]
  },
  {
   "cell_type": "code",
   "execution_count": 20,
   "metadata": {
    "colab": {},
    "colab_type": "code",
    "id": "NPqO208Id_eb"
   },
   "outputs": [],
   "source": [
    "# instantiate a XGBRegressor object using the researched hyper-parameters\n",
    "xgr = XGBRegressor(max_depth=5, n_estimators=100, learning_rate=0.1, n_jobs=-1, random_state=rs)"
   ]
  },
  {
   "cell_type": "code",
   "execution_count": 21,
   "metadata": {
    "colab": {},
    "colab_type": "code",
    "id": "MWo7VesDd_ee",
    "outputId": "c754172a-f9c8-42c9-8a44-7d9b37142ba4"
   },
   "outputs": [
    {
     "name": "stdout",
     "output_type": "stream",
     "text": [
      "Sat Feb 22 09:14:53 2020\n",
      "[09:14:55] WARNING: C:/Jenkins/workspace/xgboost-win64_release_0.90/src/objective/regression_obj.cu:152: reg:linear is now deprecated in favor of reg:squarederror.\n",
      "Wall time: 1min 37s\n"
     ]
    },
    {
     "data": {
      "text/plain": [
       "XGBRegressor(base_score=0.5, booster='gbtree', colsample_bylevel=1,\n",
       "             colsample_bynode=1, colsample_bytree=1, gamma=0,\n",
       "             importance_type='gain', learning_rate=0.1, max_delta_step=0,\n",
       "             max_depth=5, min_child_weight=1, missing=None, n_estimators=100,\n",
       "             n_jobs=-1, nthread=None, objective='reg:linear', random_state=7,\n",
       "             reg_alpha=0, reg_lambda=1, scale_pos_weight=1, seed=None,\n",
       "             silent=None, subsample=1, verbosity=1)"
      ]
     },
     "execution_count": 21,
     "metadata": {},
     "output_type": "execute_result"
    }
   ],
   "source": [
    "%%time\n",
    "# training the XGBoost model with transformed y values\n",
    "print(time.ctime())\n",
    "xgr.fit(X_train.values, y_train.iloc[:, 0].values)"
   ]
  },
  {
   "cell_type": "code",
   "execution_count": 22,
   "metadata": {
    "colab": {},
    "colab_type": "code",
    "id": "e_hpnxwMd_eh",
    "outputId": "f7c095ef-cf84-47c1-88d8-44b079506ea0"
   },
   "outputs": [
    {
     "data": {
      "text/plain": [
       "[(0.29421237, 'station_Unis TV+'),\n",
       " (0.122598045, 'ch_type'),\n",
       " (0.050584905, 'station_RDS2+'),\n",
       " (0.04122238, 'station_Series++'),\n",
       " (0.039162338, 'station_MusiquePlus+ (retired Aug 25, 2019)'),\n",
       " (0.037397247, 'genre_Amateur Sports'),\n",
       " (0.037092704, 'station_RDI+'),\n",
       " (0.03607034, 'station_Evasion+'),\n",
       " (0.03411925, 'station_LCN+'),\n",
       " (0.025626002, 'station_TQ Total')]"
      ]
     },
     "execution_count": 22,
     "metadata": {},
     "output_type": "execute_result"
    }
   ],
   "source": [
    "# top 10 most important features for the XGBoost model\n",
    "sorted(zip(xgr.feature_importances_, X_train.columns), reverse=True)[:10]"
   ]
  },
  {
   "cell_type": "code",
   "execution_count": 23,
   "metadata": {
    "colab": {},
    "colab_type": "code",
    "id": "VvP05zcCd_ej"
   },
   "outputs": [],
   "source": [
    "# make predictions\n",
    "xg_preds = xgr.predict(X_test.values)"
   ]
  },
  {
   "cell_type": "code",
   "execution_count": 24,
   "metadata": {
    "colab": {},
    "colab_type": "code",
    "id": "yl37__eUd_em",
    "outputId": "7043707c-ed87-42f7-ac2a-dab8978bc078"
   },
   "outputs": [
    {
     "data": {
      "text/plain": [
       "(123332,)"
      ]
     },
     "execution_count": 24,
     "metadata": {},
     "output_type": "execute_result"
    }
   ],
   "source": [
    "# inverse transforming the predicted values\n",
    "xg_preds_inverse_transformed = tfms.inverse(xg_preds)\n",
    "xg_preds_inverse_transformed.shape"
   ]
  },
  {
   "cell_type": "code",
   "execution_count": 25,
   "metadata": {},
   "outputs": [
    {
     "data": {
      "text/plain": [
       "{'MAE': 1.5502820965879538,\n",
       " 'MSE': 8.628997746145776,\n",
       " 'R^2': 0.6439648138325909}"
      ]
     },
     "execution_count": 25,
     "metadata": {},
     "output_type": "execute_result"
    }
   ],
   "source": [
    "# evaluating the XGBoost model\n",
    "evaluate(y_test.iloc[:, 1].values, xg_preds_inverse_transformed)"
   ]
  },
  {
   "cell_type": "markdown",
   "metadata": {
    "colab_type": "text",
    "id": "_hmppY37yLeR"
   },
   "source": [
    "### XGBRegressor with non-transformed DV"
   ]
  },
  {
   "cell_type": "code",
   "execution_count": 16,
   "metadata": {
    "colab": {},
    "colab_type": "code",
    "id": "m-aRAlrSwyV1"
   },
   "outputs": [],
   "source": [
    "# instantiate a XGBRegressor object using the researched hyper-parameters\n",
    "xgr = XGBRegressor(max_depth=5, n_estimators=100, learning_rate=0.1, n_jobs=-1, random_state=rs)"
   ]
  },
  {
   "cell_type": "code",
   "execution_count": 17,
   "metadata": {
    "colab": {
     "base_uri": "https://localhost:8080/",
     "height": 84
    },
    "colab_type": "code",
    "id": "UvRHo-7cd_et",
    "outputId": "0ff1d5fb-bbda-4ebf-b9f4-adfdd38b6f3e"
   },
   "outputs": [
    {
     "name": "stdout",
     "output_type": "stream",
     "text": [
      "Sat Feb 22 09:11:47 2020\n",
      "[09:11:49] WARNING: C:/Jenkins/workspace/xgboost-win64_release_0.90/src/objective/regression_obj.cu:152: reg:linear is now deprecated in favor of reg:squarederror.\n",
      "Wall time: 1min 26s\n"
     ]
    },
    {
     "data": {
      "text/plain": [
       "XGBRegressor(base_score=0.5, booster='gbtree', colsample_bylevel=1,\n",
       "             colsample_bynode=1, colsample_bytree=1, gamma=0,\n",
       "             importance_type='gain', learning_rate=0.1, max_delta_step=0,\n",
       "             max_depth=5, min_child_weight=1, missing=None, n_estimators=100,\n",
       "             n_jobs=-1, nthread=None, objective='reg:linear', random_state=7,\n",
       "             reg_alpha=0, reg_lambda=1, scale_pos_weight=1, seed=None,\n",
       "             silent=None, subsample=1, verbosity=1)"
      ]
     },
     "execution_count": 17,
     "metadata": {},
     "output_type": "execute_result"
    }
   ],
   "source": [
    "%%time\n",
    "# training the XGBoost model with transformed y values\n",
    "print(time.ctime())\n",
    "xgr.fit(X_train.values, y_train.iloc[:, 1].values)"
   ]
  },
  {
   "cell_type": "code",
   "execution_count": 18,
   "metadata": {
    "colab": {},
    "colab_type": "code",
    "id": "tynX1Ztgd_ev"
   },
   "outputs": [],
   "source": [
    "# make predictions\n",
    "xg_preds = xgr.predict(X_test.values)"
   ]
  },
  {
   "cell_type": "code",
   "execution_count": 19,
   "metadata": {},
   "outputs": [
    {
     "data": {
      "text/plain": [
       "{'MAE': 1.4833311409991994,\n",
       " 'MSE': 6.210317784723229,\n",
       " 'R^2': 0.7437603168189131}"
      ]
     },
     "execution_count": 19,
     "metadata": {},
     "output_type": "execute_result"
    }
   ],
   "source": [
    "# evaluating the XGBoost model\n",
    "evaluate(y_test.iloc[:, 1].values, xg_preds)"
   ]
  },
  {
   "cell_type": "markdown",
   "metadata": {
    "colab_type": "text",
    "id": "R_odMAQozh8q"
   },
   "source": [
    "## Result:\n",
    "\n",
    "* Both RandomForestRegressor and XGBRegressor made better predictions when trained with non-transformed (original) target value.\n",
    "* Results didn't changed when using *_all_scaled* version of data"
   ]
  },
  {
   "cell_type": "code",
   "execution_count": null,
   "metadata": {
    "colab": {},
    "colab_type": "code",
    "id": "BKxJHgX3z4bu"
   },
   "outputs": [],
   "source": []
  }
 ],
 "metadata": {
  "colab": {
   "collapsed_sections": [
    "PZ1NeVE8yd_u",
    "0S5GPKNbyoII",
    "RlRDr6lrwQXC",
    "rn2LkHgHyX1j"
   ],
   "name": "2.2_MS_Evalute-Validation-Set.ipynb",
   "provenance": []
  },
  "kernelspec": {
   "display_name": "Python 3",
   "language": "python",
   "name": "python3"
  },
  "language_info": {
   "codemirror_mode": {
    "name": "ipython",
    "version": 3
   },
   "file_extension": ".py",
   "mimetype": "text/x-python",
   "name": "python",
   "nbconvert_exporter": "python",
   "pygments_lexer": "ipython3",
   "version": "3.7.6"
  }
 },
 "nbformat": 4,
 "nbformat_minor": 4
}
