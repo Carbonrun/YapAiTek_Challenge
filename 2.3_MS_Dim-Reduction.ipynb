{
 "cells": [
  {
   "cell_type": "markdown",
   "metadata": {},
   "source": [
    "## Dimentionality Reduction\n",
    "\n",
    "#### In this notebook we try to find unnecessary features and remove them from data, so the model can train easier and generalize better .\n",
    "\n",
    "#### So far we have cleaned our data and searched for best possible hyper-parameters. Results are as below:\n",
    "\n",
    "* Result don't change if we apply standard scaler on all features (OneHotEncoded categories and continuous) or only on continous features\n",
    "* **RandomForestRegressor** works better than XGBRegressor with this dataset\n",
    "* Best hyper-parameters: `n_estimators`=150, `max_depth`=None, `min_samples_leaf`=2, max_features=0.5\n",
    "* Model produces better result when DV is not transformed. So we keep the original target values.\n",
    "* Best results so far: `MAE`: 1.20551, `R^2`: 0.81978\n"
   ]
  },
  {
   "cell_type": "code",
   "execution_count": 1,
   "metadata": {},
   "outputs": [],
   "source": [
    "%matplotlib inline\n",
    "%load_ext autoreload\n",
    "%autoreload 2"
   ]
  },
  {
   "cell_type": "code",
   "execution_count": 2,
   "metadata": {},
   "outputs": [],
   "source": [
    "# loading libraries\n",
    "import numpy as np\n",
    "import pandas as pd\n",
    "from scipy.cluster import hierarchy as hc\n",
    "import matplotlib.pyplot as plt\n",
    "import os\n",
    "import time\n",
    "\n",
    "from sklearn.ensemble import RandomForestRegressor\n",
    "from sklearn.model_selection import train_test_split\n",
    "from sklearn.metrics import mean_absolute_error, mean_squared_error, r2_score\n",
    "from sklearn.decomposition import PCA, SparsePCA\n",
    "\n",
    "from transform import TargetTransform   # custom class for handling target value transformation"
   ]
  },
  {
   "cell_type": "code",
   "execution_count": 3,
   "metadata": {},
   "outputs": [
    {
     "data": {
      "text/plain": [
       "['01_EDA.ipynb',\n",
       " 'data.csv',\n",
       " 'data.zip',\n",
       " 'data_clean.csv',\n",
       " 'data_clean_all_scaled.csv',\n",
       " 'data_no_missing.csv',\n",
       " 'Saved-Models',\n",
       " 'test.csv',\n",
       " 'test_clean.csv',\n",
       " 'test_clean_all_scaled.csv',\n",
       " 'train_clean.csv',\n",
       " 'train_clean_all_scaled.csv']"
      ]
     },
     "execution_count": 3,
     "metadata": {},
     "output_type": "execute_result"
    }
   ],
   "source": [
    "# setting paths\n",
    "data_dir = os.path.abspath('./_data')\n",
    "train_data_fp = os.path.join(data_dir, 'train_clean.csv')\n",
    "test_data_fp = os.path.join(data_dir, 'test_clean.csv')\n",
    "data_fp = os.path.join(data_dir, 'data_clean.csv')\n",
    "os.listdir(data_dir)"
   ]
  },
  {
   "cell_type": "code",
   "execution_count": 4,
   "metadata": {},
   "outputs": [
    {
     "data": {
      "text/html": [
       "<div>\n",
       "<style scoped>\n",
       "    .dataframe tbody tr th:only-of-type {\n",
       "        vertical-align: middle;\n",
       "    }\n",
       "\n",
       "    .dataframe tbody tr th {\n",
       "        vertical-align: top;\n",
       "    }\n",
       "\n",
       "    .dataframe thead th {\n",
       "        text-align: right;\n",
       "    }\n",
       "</style>\n",
       "<table border=\"1\" class=\"dataframe\">\n",
       "  <thead>\n",
       "    <tr style=\"text-align: right;\">\n",
       "      <th></th>\n",
       "      <th>ch_type</th>\n",
       "      <th>length</th>\n",
       "      <th>first_or_rerun</th>\n",
       "      <th>episodes_in_season</th>\n",
       "      <th>is_movie</th>\n",
       "      <th>overlaped_with_game</th>\n",
       "      <th>temperature</th>\n",
       "      <th>Is_month_end</th>\n",
       "      <th>Is_month_start</th>\n",
       "      <th>Is_quarter_end</th>\n",
       "      <th>...</th>\n",
       "      <th>Month_12</th>\n",
       "      <th>Dayofweek_0</th>\n",
       "      <th>Dayofweek_1</th>\n",
       "      <th>Dayofweek_2</th>\n",
       "      <th>Dayofweek_3</th>\n",
       "      <th>Dayofweek_4</th>\n",
       "      <th>Dayofweek_5</th>\n",
       "      <th>Dayofweek_6</th>\n",
       "      <th>market_share</th>\n",
       "      <th>market_share_transformed</th>\n",
       "    </tr>\n",
       "  </thead>\n",
       "  <tbody>\n",
       "    <tr>\n",
       "      <th>0</th>\n",
       "      <td>0</td>\n",
       "      <td>0.906181</td>\n",
       "      <td>0</td>\n",
       "      <td>1</td>\n",
       "      <td>0</td>\n",
       "      <td>0</td>\n",
       "      <td>1.094244</td>\n",
       "      <td>0</td>\n",
       "      <td>0</td>\n",
       "      <td>0</td>\n",
       "      <td>...</td>\n",
       "      <td>0</td>\n",
       "      <td>1</td>\n",
       "      <td>0</td>\n",
       "      <td>0</td>\n",
       "      <td>0</td>\n",
       "      <td>0</td>\n",
       "      <td>0</td>\n",
       "      <td>0</td>\n",
       "      <td>0.9</td>\n",
       "      <td>-0.001165</td>\n",
       "    </tr>\n",
       "  </tbody>\n",
       "</table>\n",
       "<p>1 rows × 93 columns</p>\n",
       "</div>"
      ],
      "text/plain": [
       "   ch_type    length  first_or_rerun  episodes_in_season  is_movie  \\\n",
       "0        0  0.906181               0                   1         0   \n",
       "\n",
       "   overlaped_with_game  temperature  Is_month_end  Is_month_start  \\\n",
       "0                    0     1.094244             0               0   \n",
       "\n",
       "   Is_quarter_end  ...  Month_12  Dayofweek_0  Dayofweek_1  Dayofweek_2  \\\n",
       "0               0  ...         0            1            0            0   \n",
       "\n",
       "   Dayofweek_3  Dayofweek_4  Dayofweek_5  Dayofweek_6  market_share  \\\n",
       "0            0            0            0            0           0.9   \n",
       "\n",
       "   market_share_transformed  \n",
       "0                 -0.001165  \n",
       "\n",
       "[1 rows x 93 columns]"
      ]
     },
     "execution_count": 4,
     "metadata": {},
     "output_type": "execute_result"
    }
   ],
   "source": [
    "# load the training set\n",
    "train_set = pd.read_csv(train_data_fp)\n",
    "train_set.head(1)"
   ]
  },
  {
   "cell_type": "code",
   "execution_count": 5,
   "metadata": {},
   "outputs": [],
   "source": [
    "# cut the dependant variable(s) form training set\n",
    "# target = train_set.loc[:, 'market_share_transformed']\n",
    "target_src = train_set.loc[:, 'market_share']\n",
    "# targets_joint = train_set.loc[:, ['market_share_transformed', 'market_share']]\n",
    "\n",
    "train_set.drop(columns=['market_share', 'market_share_transformed'], inplace=True)"
   ]
  },
  {
   "cell_type": "code",
   "execution_count": 6,
   "metadata": {},
   "outputs": [],
   "source": [
    "# constant variables for later use\n",
    "cv = 5    # number of folds for cross-validation\n",
    "rs = 7    # random-state number"
   ]
  },
  {
   "cell_type": "code",
   "execution_count": 7,
   "metadata": {},
   "outputs": [],
   "source": [
    "# splitting the train set into train and validation sets\n",
    "X_train, X_test, y_train, y_test = train_test_split(train_set, target_src, test_size=0.2, random_state=rs)"
   ]
  },
  {
   "cell_type": "code",
   "execution_count": 8,
   "metadata": {},
   "outputs": [
    {
     "data": {
      "text/plain": [
       "117942    0.5\n",
       "105927    7.1\n",
       "219211    2.0\n",
       "526282    1.1\n",
       "345705    0.2\n",
       "Name: market_share, dtype: float64"
      ]
     },
     "execution_count": 8,
     "metadata": {},
     "output_type": "execute_result"
    }
   ],
   "source": [
    "y_train.head()"
   ]
  },
  {
   "cell_type": "markdown",
   "metadata": {},
   "source": [
    "### Helper functions"
   ]
  },
  {
   "cell_type": "code",
   "execution_count": 9,
   "metadata": {},
   "outputs": [],
   "source": [
    "def get_rf_model(n_estimators=150, max_depth=None, min_samples_leaf=2, max_features=0.5, random_state=rs):\n",
    "    rf = RandomForestRegressor(n_estimators=n_estimators,\n",
    "                               max_depth=max_depth,\n",
    "                               min_samples_leaf=min_samples_leaf,\n",
    "                               max_features=max_features,\n",
    "                               oob_score=True,\n",
    "                               n_jobs=-1,\n",
    "                               random_state=random_state)\n",
    "    return rf"
   ]
  },
  {
   "cell_type": "code",
   "execution_count": 10,
   "metadata": {},
   "outputs": [],
   "source": [
    "def evaluate(actual, prediction):\n",
    "    return {'MAE': round(mean_absolute_error(actual, prediction), 5),\n",
    "            'MSE': round(mean_squared_error(actual, prediction), 5),\n",
    "            'R^2': round(r2_score(actual, prediction), 5)}"
   ]
  },
  {
   "cell_type": "code",
   "execution_count": 11,
   "metadata": {},
   "outputs": [],
   "source": [
    "def get_oob_score(X_train, y_train):\n",
    "    rf = RandomForestRegressor(n_estimators=30, min_samples_leaf=2, max_features=0.5, oob_score=True, n_jobs=-1, random_state=rs)\n",
    "    rf.fit(X_train, y_train)\n",
    "    score = rf.oob_score_\n",
    "    del rf\n",
    "    return score"
   ]
  },
  {
   "cell_type": "code",
   "execution_count": 12,
   "metadata": {},
   "outputs": [
    {
     "data": {
      "text/plain": [
       "0.7262147658758434"
      ]
     },
     "execution_count": 12,
     "metadata": {},
     "output_type": "execute_result"
    }
   ],
   "source": [
    "get_oob_score(X_train.iloc[:30000], y_train.iloc[:30000])"
   ]
  },
  {
   "cell_type": "code",
   "execution_count": 13,
   "metadata": {},
   "outputs": [],
   "source": [
    "def get_sample_df(X_train, y_train, n_samples=20000):\n",
    "    df = pd.concat(objs=[X_train, y_train], axis=1)\n",
    "    x = df.sample(n=n_samples, axis=0)\n",
    "    return x.iloc[:, :-1], x.iloc[:, -1]"
   ]
  },
  {
   "cell_type": "code",
   "execution_count": 14,
   "metadata": {},
   "outputs": [],
   "source": [
    "def plot_feature_importance(fi, labels, figsize=(14, 8)):\n",
    "    fi = sorted(zip(fi, labels), reverse=True)\n",
    "    d = d = {k: v for v, k in fi}\n",
    "    plt.figure(figsize=figsize)\n",
    "    plt.bar(range(len(d)), list(d.values()), align='center')\n",
    "    plt.xticks(range(len(d)), list(d.keys()), rotation='vertical')\n",
    "    plt.show()\n",
    "    del d"
   ]
  },
  {
   "cell_type": "code",
   "execution_count": null,
   "metadata": {},
   "outputs": [],
   "source": []
  },
  {
   "cell_type": "markdown",
   "metadata": {},
   "source": [
    "### 1. Get most important features"
   ]
  },
  {
   "cell_type": "code",
   "execution_count": 15,
   "metadata": {},
   "outputs": [],
   "source": [
    "rf = get_rf_model()"
   ]
  },
  {
   "cell_type": "code",
   "execution_count": 16,
   "metadata": {},
   "outputs": [
    {
     "data": {
      "text/plain": [
       "((246662, 91), (246662,))"
      ]
     },
     "execution_count": 16,
     "metadata": {},
     "output_type": "execute_result"
    }
   ],
   "source": [
    "X_sample, y_sample = get_sample_df(X_train, y_train, n_samples=len(X_train)//2)\n",
    "X_sample.shape, y_sample.shape"
   ]
  },
  {
   "cell_type": "code",
   "execution_count": 17,
   "metadata": {},
   "outputs": [
    {
     "name": "stdout",
     "output_type": "stream",
     "text": [
      "Wall time: 2min 22s\n"
     ]
    },
    {
     "data": {
      "text/plain": [
       "RandomForestRegressor(bootstrap=True, ccp_alpha=0.0, criterion='mse',\n",
       "                      max_depth=None, max_features=0.5, max_leaf_nodes=None,\n",
       "                      max_samples=None, min_impurity_decrease=0.0,\n",
       "                      min_impurity_split=None, min_samples_leaf=2,\n",
       "                      min_samples_split=2, min_weight_fraction_leaf=0.0,\n",
       "                      n_estimators=150, n_jobs=-1, oob_score=True,\n",
       "                      random_state=7, verbose=0, warm_start=False)"
      ]
     },
     "execution_count": 17,
     "metadata": {},
     "output_type": "execute_result"
    }
   ],
   "source": [
    "%%time\n",
    "\n",
    "rf.fit(X_sample, y_sample)"
   ]
  },
  {
   "cell_type": "code",
   "execution_count": 18,
   "metadata": {},
   "outputs": [
    {
     "name": "stdout",
     "output_type": "stream",
     "text": [
      "0.7976582755557806\n"
     ]
    },
    {
     "data": {
      "text/plain": [
       "{'MAE': 1.26508, 'MSE': 4.74396, 'R^2': 0.80426}"
      ]
     },
     "execution_count": 18,
     "metadata": {},
     "output_type": "execute_result"
    }
   ],
   "source": [
    "preds = rf.predict(X_test)\n",
    "\n",
    "print(rf.oob_score_)\n",
    "evaluate(y_test, preds)"
   ]
  },
  {
   "cell_type": "code",
   "execution_count": 19,
   "metadata": {},
   "outputs": [
    {
     "data": {
      "image/png": "[encoded data removed]",
      "text/plain": [
       "<Figure size 936x432 with 1 Axes>"
      ]
     },
     "metadata": {
      "needs_background": "light"
     },
     "output_type": "display_data"
    }
   ],
   "source": [
    "plot_feature_importance(rf.feature_importances_, X_train.columns, figsize=(13, 6))"
   ]
  },
  {
   "cell_type": "code",
   "execution_count": 85,
   "metadata": {},
   "outputs": [
    {
     "data": {
      "text/plain": [
       "50"
      ]
     },
     "execution_count": 85,
     "metadata": {},
     "output_type": "execute_result"
    }
   ],
   "source": [
    "fi = sorted(zip(rf.feature_importances_, X_train.columns), reverse=True)\n",
    "to_keep = np.asarray([k for v, k in fi if v > 0.0013])\n",
    "len(to_keep)"
   ]
  },
  {
   "cell_type": "code",
   "execution_count": 65,
   "metadata": {},
   "outputs": [],
   "source": [
    "X_sample_reduced = X_sample[to_keep]"
   ]
  },
  {
   "cell_type": "code",
   "execution_count": 66,
   "metadata": {},
   "outputs": [
    {
     "name": "stdout",
     "output_type": "stream",
     "text": [
      "Wall time: 1min 28s\n"
     ]
    },
    {
     "data": {
      "text/plain": [
       "RandomForestRegressor(bootstrap=True, ccp_alpha=0.0, criterion='mse',\n",
       "                      max_depth=None, max_features=0.5, max_leaf_nodes=None,\n",
       "                      max_samples=None, min_impurity_decrease=0.0,\n",
       "                      min_impurity_split=None, min_samples_leaf=2,\n",
       "                      min_samples_split=2, min_weight_fraction_leaf=0.0,\n",
       "                      n_estimators=150, n_jobs=-1, oob_score=True,\n",
       "                      random_state=7, verbose=0, warm_start=False)"
      ]
     },
     "execution_count": 66,
     "metadata": {},
     "output_type": "execute_result"
    }
   ],
   "source": [
    "%%time\n",
    "\n",
    "rf2 = get_rf_model()\n",
    "rf2.fit(X_sample_reduced, y_sample)"
   ]
  },
  {
   "cell_type": "code",
   "execution_count": 67,
   "metadata": {},
   "outputs": [
    {
     "name": "stdout",
     "output_type": "stream",
     "text": [
      "0.7878980780486005\n"
     ]
    },
    {
     "data": {
      "text/plain": [
       "{'MAE': 1.32399, 'MSE': 4.98021, 'R^2': 0.79451}"
      ]
     },
     "execution_count": 67,
     "metadata": {},
     "output_type": "execute_result"
    }
   ],
   "source": [
    "preds_reduced = rf2.predict(X_test[to_keep])\n",
    "print(rf2.oob_score_)\n",
    "evaluate(y_test, preds_reduced)"
   ]
  },
  {
   "cell_type": "code",
   "execution_count": 88,
   "metadata": {},
   "outputs": [],
   "source": [
    "# save extracted columns name to diske for later use\n",
    "np.savetxt(data_dir + '/to_keep_columns_stage1.txt', to_keep, fmt='%s')"
   ]
  },
  {
   "cell_type": "code",
   "execution_count": 70,
   "metadata": {},
   "outputs": [],
   "source": [
    "# deleting unnecessary objects to release memory space\n",
    "del X_sample\n",
    "del X_sample_reduced\n",
    "del y_sample"
   ]
  },
  {
   "cell_type": "markdown",
   "metadata": {},
   "source": [
    "#### Section Summary:\n",
    "**Since our model performance only dropped slightly, keeping 50 most important features is good enough to continue.**"
   ]
  },
  {
   "cell_type": "code",
   "execution_count": null,
   "metadata": {},
   "outputs": [],
   "source": []
  },
  {
   "cell_type": "code",
   "execution_count": null,
   "metadata": {},
   "outputs": [],
   "source": []
  },
  {
   "cell_type": "markdown",
   "metadata": {},
   "source": [
    "### 1. PCA"
   ]
  },
  {
   "cell_type": "code",
   "execution_count": 17,
   "metadata": {},
   "outputs": [
    {
     "data": {
      "text/plain": [
       "PCA(copy=True, iterated_power='auto', n_components=None, random_state=None,\n",
       "    svd_solver='auto', tol=0.0, whiten=False)"
      ]
     },
     "execution_count": 17,
     "metadata": {},
     "output_type": "execute_result"
    }
   ],
   "source": [
    "pca = PCA(n_components=None)\n",
    "pca.fit(X=X_train.values)"
   ]
  },
  {
   "cell_type": "code",
   "execution_count": 40,
   "metadata": {},
   "outputs": [
    {
     "data": {
      "text/plain": [
       "0.6300884236077366"
      ]
     },
     "execution_count": 40,
     "metadata": {},
     "output_type": "execute_result"
    }
   ],
   "source": [
    "pca_var = pca.explained_variance_ratio_\n",
    "pca_var[:10].sum()"
   ]
  },
  {
   "cell_type": "code",
   "execution_count": 41,
   "metadata": {},
   "outputs": [],
   "source": [
    "pca = PCA(n_components=10)"
   ]
  },
  {
   "cell_type": "code",
   "execution_count": 42,
   "metadata": {},
   "outputs": [],
   "source": [
    "X_train_dr = pca.fit_transform(X=X_train.values)\n",
    "X_test_dr = pca.transform(X=X_test.values)"
   ]
  },
  {
   "cell_type": "code",
   "execution_count": 43,
   "metadata": {},
   "outputs": [
    {
     "data": {
      "text/plain": [
       "((493324, 91), (493324, 10))"
      ]
     },
     "execution_count": 43,
     "metadata": {},
     "output_type": "execute_result"
    }
   ],
   "source": [
    "X_train.shape, X_train_dr.shape"
   ]
  },
  {
   "cell_type": "code",
   "execution_count": 44,
   "metadata": {},
   "outputs": [
    {
     "data": {
      "text/plain": [
       "((123332, 91), (123332, 10))"
      ]
     },
     "execution_count": 44,
     "metadata": {},
     "output_type": "execute_result"
    }
   ],
   "source": [
    "X_test.shape, X_test_dr.shape"
   ]
  },
  {
   "cell_type": "markdown",
   "metadata": {},
   "source": [
    "#### - Evaluate PCA reduced data"
   ]
  },
  {
   "cell_type": "code",
   "execution_count": 47,
   "metadata": {},
   "outputs": [],
   "source": [
    "# instantiate a RandomForestRegressor object using the researched hyper-parameters\n",
    "rf = RandomForestRegressor(n_estimators=150, max_depth=None, min_samples_leaf=2, max_features=0.5, n_jobs=-1, random_state=rs, oob_score=True)"
   ]
  },
  {
   "cell_type": "code",
   "execution_count": 48,
   "metadata": {},
   "outputs": [
    {
     "name": "stdout",
     "output_type": "stream",
     "text": [
      "Sat Feb 22 00:55:42 2020\n",
      "Wall time: 5min 15s\n"
     ]
    },
    {
     "data": {
      "text/plain": [
       "RandomForestRegressor(bootstrap=True, ccp_alpha=0.0, criterion='mse',\n",
       "                      max_depth=30, max_features='auto', max_leaf_nodes=None,\n",
       "                      max_samples=None, min_impurity_decrease=0.0,\n",
       "                      min_impurity_split=None, min_samples_leaf=1,\n",
       "                      min_samples_split=2, min_weight_fraction_leaf=0.0,\n",
       "                      n_estimators=100, n_jobs=-1, oob_score=False,\n",
       "                      random_state=7, verbose=0, warm_start=False)"
      ]
     },
     "execution_count": 48,
     "metadata": {},
     "output_type": "execute_result"
    }
   ],
   "source": [
    "%%time\n",
    "# training the RandomForest model with non-transformed y values\n",
    "print(time.ctime())\n",
    "rf.fit(X_train_dr, y_train.iloc[:, 1].values)"
   ]
  },
  {
   "cell_type": "code",
   "execution_count": 49,
   "metadata": {},
   "outputs": [
    {
     "data": {
      "text/plain": [
       "[(0.40535161040497497, 'temperature'),\n",
       " (0.21982713236477797, 'ch_type'),\n",
       " (0.08271943796669885, 'overlaped_with_game'),\n",
       " (0.07421614770528699, 'is_movie'),\n",
       " (0.046469575661957654, 'Is_month_end'),\n",
       " (0.04515357395521569, 'episodes_in_season'),\n",
       " (0.035972023946313374, 'first_or_rerun'),\n",
       " (0.031193040661588053, 'Is_quarter_end'),\n",
       " (0.030380885153154295, 'Is_month_start'),\n",
       " (0.028716572180032263, 'length')]"
      ]
     },
     "execution_count": 49,
     "metadata": {},
     "output_type": "execute_result"
    }
   ],
   "source": [
    "# top 10 most important features for the RandomForest model\n",
    "sorted(zip(rf.feature_importances_, X_train.columns), reverse=True)[:10]"
   ]
  },
  {
   "cell_type": "code",
   "execution_count": 50,
   "metadata": {},
   "outputs": [],
   "source": [
    "# make predictions\n",
    "rf_preds = rf.predict(X_test_dr)"
   ]
  },
  {
   "cell_type": "code",
   "execution_count": 54,
   "metadata": {},
   "outputs": [
    {
     "data": {
      "text/plain": [
       "{'MAE': 1.4514769000873666,\n",
       " 'MSE': 6.435371146871701,\n",
       " 'R^2': 0.7344745436564479}"
      ]
     },
     "execution_count": 54,
     "metadata": {},
     "output_type": "execute_result"
    }
   ],
   "source": [
    "# evaluating the RandomForest model\n",
    "evaluate(y_test.iloc[:, 1].values, rf_preds)"
   ]
  },
  {
   "cell_type": "markdown",
   "metadata": {},
   "source": [
    "## 2. SparsePCA"
   ]
  },
  {
   "cell_type": "code",
   "execution_count": 56,
   "metadata": {},
   "outputs": [],
   "source": [
    "spca = SparsePCA(n_components=10, random_state=rs)"
   ]
  },
  {
   "cell_type": "code",
   "execution_count": 57,
   "metadata": {},
   "outputs": [],
   "source": [
    "X_train_sdr = spca.fit_transform(X=X_train.values)\n",
    "X_test_sdr = spca.transform(X=X_test.values)"
   ]
  },
  {
   "cell_type": "code",
   "execution_count": 58,
   "metadata": {},
   "outputs": [
    {
     "data": {
      "text/plain": [
       "((493324, 91), (493324, 10))"
      ]
     },
     "execution_count": 58,
     "metadata": {},
     "output_type": "execute_result"
    }
   ],
   "source": [
    "X_train.shape, X_train_sdr.shape"
   ]
  },
  {
   "cell_type": "code",
   "execution_count": 59,
   "metadata": {},
   "outputs": [],
   "source": [
    "# instantiate a RandomForestRegressor object using the researched hyper-parameters\n",
    "rf = RandomForestRegressor(n_estimators=100, max_depth=30, n_jobs=-1, random_state=rs)"
   ]
  },
  {
   "cell_type": "code",
   "execution_count": 60,
   "metadata": {},
   "outputs": [
    {
     "name": "stdout",
     "output_type": "stream",
     "text": [
      "Sat Feb 22 01:46:18 2020\n",
      "Wall time: 5min 27s\n"
     ]
    },
    {
     "data": {
      "text/plain": [
       "RandomForestRegressor(bootstrap=True, ccp_alpha=0.0, criterion='mse',\n",
       "                      max_depth=30, max_features='auto', max_leaf_nodes=None,\n",
       "                      max_samples=None, min_impurity_decrease=0.0,\n",
       "                      min_impurity_split=None, min_samples_leaf=1,\n",
       "                      min_samples_split=2, min_weight_fraction_leaf=0.0,\n",
       "                      n_estimators=100, n_jobs=-1, oob_score=False,\n",
       "                      random_state=7, verbose=0, warm_start=False)"
      ]
     },
     "execution_count": 60,
     "metadata": {},
     "output_type": "execute_result"
    }
   ],
   "source": [
    "%%time\n",
    "# training the RandomForest model with non-transformed y values\n",
    "print(time.ctime())\n",
    "rf.fit(X_train_sdr, y_train.iloc[:, 1].values)"
   ]
  },
  {
   "cell_type": "code",
   "execution_count": 61,
   "metadata": {},
   "outputs": [
    {
     "data": {
      "text/plain": [
       "[(0.4553702704232678, 'temperature'),\n",
       " (0.19889021036921006, 'ch_type'),\n",
       " (0.102520397123655, 'overlaped_with_game'),\n",
       " (0.06183333057032992, 'is_movie'),\n",
       " (0.052246417659769624, 'Is_month_end'),\n",
       " (0.034886186825477845, 'first_or_rerun'),\n",
       " (0.028156347711736685, 'episodes_in_season'),\n",
       " (0.02420950418344279, 'length'),\n",
       " (0.02207324690571624, 'Is_quarter_end'),\n",
       " (0.019814088227394017, 'Is_month_start')]"
      ]
     },
     "execution_count": 61,
     "metadata": {},
     "output_type": "execute_result"
    }
   ],
   "source": [
    "# top 10 most important features for the RandomForest model\n",
    "sorted(zip(rf.feature_importances_, X_train.columns), reverse=True)[:10]"
   ]
  },
  {
   "cell_type": "code",
   "execution_count": 62,
   "metadata": {},
   "outputs": [],
   "source": [
    "# make predictions\n",
    "rf_preds = rf.predict(X_test_sdr)"
   ]
  },
  {
   "cell_type": "code",
   "execution_count": 63,
   "metadata": {},
   "outputs": [
    {
     "data": {
      "text/plain": [
       "{'MAE': 1.2693409352681773,\n",
       " 'MSE': 4.949469472597897,\n",
       " 'R^2': 0.7957833184168581}"
      ]
     },
     "execution_count": 63,
     "metadata": {},
     "output_type": "execute_result"
    }
   ],
   "source": [
    "# evaluating the RandomForest model\n",
    "evaluate(y_test.iloc[:, 1].values, rf_preds)"
   ]
  },
  {
   "cell_type": "code",
   "execution_count": null,
   "metadata": {},
   "outputs": [],
   "source": []
  }
 ],
 "metadata": {
  "kernelspec": {
   "display_name": "Python 3",
   "language": "python",
   "name": "python3"
  },
  "language_info": {
   "codemirror_mode": {
    "name": "ipython",
    "version": 3
   },
   "file_extension": ".py",
   "mimetype": "text/x-python",
   "name": "python",
   "nbconvert_exporter": "python",
   "pygments_lexer": "ipython3",
   "version": "3.7.6"
  }
 },
 "nbformat": 4,
 "nbformat_minor": 4
}
