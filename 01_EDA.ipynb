{
 "cells": [
  {
   "cell_type": "code",
   "execution_count": 1,
   "metadata": {},
   "outputs": [],
   "source": [
    "# loading libraries\n",
    "import numpy as np\n",
    "import pandas as pd\n",
    "import matplotlib.pyplot as plt\n",
    "import seaborn as sns\n",
    "import os\n",
    "import pdb"
   ]
  },
  {
   "cell_type": "markdown",
   "metadata": {},
   "source": [
    "# **Exploratory Data Analysis**"
   ]
  },
  {
   "cell_type": "markdown",
   "metadata": {},
   "source": [
    "## Getting and exploring the data-set"
   ]
  },
  {
   "cell_type": "markdown",
   "metadata": {},
   "source": [
    "**Training data-set is provided [here](https://drive.google.com/open?id=1JNyXs8CPbqneo99rGRJswIM7G1-Zsldp)**"
   ]
  },
  {
   "cell_type": "code",
   "execution_count": 2,
   "metadata": {},
   "outputs": [
    {
     "data": {
      "text/plain": [
       "['data.csv', 'test.csv']"
      ]
     },
     "execution_count": 2,
     "metadata": {},
     "output_type": "execute_result"
    }
   ],
   "source": [
    "# setting paths\n",
    "data_dir = os.path.abspath('./_data')\n",
    "train_data_fp = os.path.join(data_dir, 'data.csv')\n",
    "os.listdir(data_dir)"
   ]
  },
  {
   "cell_type": "code",
   "execution_count": 3,
   "metadata": {},
   "outputs": [
    {
     "data": {
      "text/html": [
       "<div>\n",
       "<style scoped>\n",
       "    .dataframe tbody tr th:only-of-type {\n",
       "        vertical-align: middle;\n",
       "    }\n",
       "\n",
       "    .dataframe tbody tr th {\n",
       "        vertical-align: top;\n",
       "    }\n",
       "\n",
       "    .dataframe thead th {\n",
       "        text-align: right;\n",
       "    }\n",
       "</style>\n",
       "<table border=\"1\" class=\"dataframe\">\n",
       "  <thead>\n",
       "    <tr style=\"text-align: right;\">\n",
       "      <th></th>\n",
       "      <th>Unnamed: 0</th>\n",
       "      <th>Episode</th>\n",
       "      <th>Station</th>\n",
       "      <th>Channel Type</th>\n",
       "      <th>Season</th>\n",
       "      <th>Year</th>\n",
       "      <th>Date</th>\n",
       "      <th>Day of week</th>\n",
       "      <th>Start_time</th>\n",
       "      <th>End_time</th>\n",
       "      <th>Length</th>\n",
       "      <th>Name of show</th>\n",
       "      <th>Name of episode</th>\n",
       "      <th>Genre</th>\n",
       "      <th>First time or rerun</th>\n",
       "      <th># of episode in the season</th>\n",
       "      <th>Movie?</th>\n",
       "      <th>Game of the Canadiens during episode?</th>\n",
       "      <th>Market Share_total</th>\n",
       "      <th>Temperature in Montreal during episode</th>\n",
       "    </tr>\n",
       "  </thead>\n",
       "  <tbody>\n",
       "    <tr>\n",
       "      <th>0</th>\n",
       "      <td>1</td>\n",
       "      <td>Vidéoclips V</td>\n",
       "      <td>V Total</td>\n",
       "      <td>General Channel</td>\n",
       "      <td>Fall</td>\n",
       "      <td>2016</td>\n",
       "      <td>2016-08-29</td>\n",
       "      <td>Monday</td>\n",
       "      <td>2016-08-29 06:00:00</td>\n",
       "      <td>2016-08-29 08:00:00</td>\n",
       "      <td>8</td>\n",
       "      <td>Vidéoclips V</td>\n",
       "      <td>NaN</td>\n",
       "      <td>Music Video Clips</td>\n",
       "      <td>No</td>\n",
       "      <td>Yes</td>\n",
       "      <td>No</td>\n",
       "      <td>No</td>\n",
       "      <td>0.9</td>\n",
       "      <td>20.400</td>\n",
       "    </tr>\n",
       "    <tr>\n",
       "      <th>1</th>\n",
       "      <td>2</td>\n",
       "      <td>Apollo dans l'frigo</td>\n",
       "      <td>V Total</td>\n",
       "      <td>General Channel</td>\n",
       "      <td>Fall</td>\n",
       "      <td>2016</td>\n",
       "      <td>2016-08-29</td>\n",
       "      <td>Monday</td>\n",
       "      <td>2016-08-29 08:00:00</td>\n",
       "      <td>2016-08-29 08:30:00</td>\n",
       "      <td>2</td>\n",
       "      <td>Apollo dans l'frigo</td>\n",
       "      <td>NaN</td>\n",
       "      <td>Informal Education and Recreation and Leisure</td>\n",
       "      <td>No</td>\n",
       "      <td>Yes</td>\n",
       "      <td>No</td>\n",
       "      <td>No</td>\n",
       "      <td>0.5</td>\n",
       "      <td>19.125</td>\n",
       "    </tr>\n",
       "    <tr>\n",
       "      <th>2</th>\n",
       "      <td>3</td>\n",
       "      <td>Infopublicité</td>\n",
       "      <td>V Total</td>\n",
       "      <td>General Channel</td>\n",
       "      <td>Fall</td>\n",
       "      <td>2016</td>\n",
       "      <td>2016-08-29</td>\n",
       "      <td>Monday</td>\n",
       "      <td>2016-08-29 08:30:00</td>\n",
       "      <td>2016-08-29 09:00:00</td>\n",
       "      <td>2</td>\n",
       "      <td>Infopublicité</td>\n",
       "      <td>NaN</td>\n",
       "      <td>Infomercials, Promotional and Corporate Videos</td>\n",
       "      <td>No</td>\n",
       "      <td>Yes</td>\n",
       "      <td>No</td>\n",
       "      <td>No</td>\n",
       "      <td>0.3</td>\n",
       "      <td>19.125</td>\n",
       "    </tr>\n",
       "    <tr>\n",
       "      <th>3</th>\n",
       "      <td>4</td>\n",
       "      <td>Infos, Les</td>\n",
       "      <td>V Total</td>\n",
       "      <td>General Channel</td>\n",
       "      <td>Fall</td>\n",
       "      <td>2016</td>\n",
       "      <td>2016-08-29</td>\n",
       "      <td>Monday</td>\n",
       "      <td>2016-08-29 09:00:00</td>\n",
       "      <td>2016-08-29 10:00:00</td>\n",
       "      <td>4</td>\n",
       "      <td>Infos, Les</td>\n",
       "      <td>NaN</td>\n",
       "      <td>News</td>\n",
       "      <td>No</td>\n",
       "      <td>Yes</td>\n",
       "      <td>No</td>\n",
       "      <td>No</td>\n",
       "      <td>1.7</td>\n",
       "      <td>18.125</td>\n",
       "    </tr>\n",
       "    <tr>\n",
       "      <th>4</th>\n",
       "      <td>5</td>\n",
       "      <td>Souper presque parfait, Un</td>\n",
       "      <td>V Total</td>\n",
       "      <td>General Channel</td>\n",
       "      <td>Fall</td>\n",
       "      <td>2016</td>\n",
       "      <td>2016-08-29</td>\n",
       "      <td>Monday</td>\n",
       "      <td>2016-08-29 10:00:00</td>\n",
       "      <td>2016-08-29 10:30:00</td>\n",
       "      <td>2</td>\n",
       "      <td>Souper presque parfait, Un</td>\n",
       "      <td>NaN</td>\n",
       "      <td>Reality Programs</td>\n",
       "      <td>No</td>\n",
       "      <td>Yes</td>\n",
       "      <td>No</td>\n",
       "      <td>No</td>\n",
       "      <td>2.2</td>\n",
       "      <td>18.250</td>\n",
       "    </tr>\n",
       "  </tbody>\n",
       "</table>\n",
       "</div>"
      ],
      "text/plain": [
       "   Unnamed: 0                     Episode  Station     Channel Type Season  \\\n",
       "0           1                Vidéoclips V  V Total  General Channel   Fall   \n",
       "1           2         Apollo dans l'frigo  V Total  General Channel   Fall   \n",
       "2           3               Infopublicité  V Total  General Channel   Fall   \n",
       "3           4                  Infos, Les  V Total  General Channel   Fall   \n",
       "4           5  Souper presque parfait, Un  V Total  General Channel   Fall   \n",
       "\n",
       "   Year        Date Day of week           Start_time             End_time  \\\n",
       "0  2016  2016-08-29      Monday  2016-08-29 06:00:00  2016-08-29 08:00:00   \n",
       "1  2016  2016-08-29      Monday  2016-08-29 08:00:00  2016-08-29 08:30:00   \n",
       "2  2016  2016-08-29      Monday  2016-08-29 08:30:00  2016-08-29 09:00:00   \n",
       "3  2016  2016-08-29      Monday  2016-08-29 09:00:00  2016-08-29 10:00:00   \n",
       "4  2016  2016-08-29      Monday  2016-08-29 10:00:00  2016-08-29 10:30:00   \n",
       "\n",
       "   Length                Name of show Name of episode  \\\n",
       "0       8                Vidéoclips V             NaN   \n",
       "1       2         Apollo dans l'frigo             NaN   \n",
       "2       2               Infopublicité             NaN   \n",
       "3       4                  Infos, Les             NaN   \n",
       "4       2  Souper presque parfait, Un             NaN   \n",
       "\n",
       "                                            Genre First time or rerun  \\\n",
       "0                               Music Video Clips                  No   \n",
       "1   Informal Education and Recreation and Leisure                  No   \n",
       "2  Infomercials, Promotional and Corporate Videos                  No   \n",
       "3                                            News                  No   \n",
       "4                                Reality Programs                  No   \n",
       "\n",
       "  # of episode in the season Movie? Game of the Canadiens during episode?  \\\n",
       "0                        Yes     No                                    No   \n",
       "1                        Yes     No                                    No   \n",
       "2                        Yes     No                                    No   \n",
       "3                        Yes     No                                    No   \n",
       "4                        Yes     No                                    No   \n",
       "\n",
       "   Market Share_total  Temperature in Montreal during episode  \n",
       "0                 0.9                                  20.400  \n",
       "1                 0.5                                  19.125  \n",
       "2                 0.3                                  19.125  \n",
       "3                 1.7                                  18.125  \n",
       "4                 2.2                                  18.250  "
      ]
     },
     "execution_count": 3,
     "metadata": {},
     "output_type": "execute_result"
    }
   ],
   "source": [
    "# loading data-set\n",
    "train_data = pd.read_csv(train_data_fp)\n",
    "train_data.head()"
   ]
  },
  {
   "cell_type": "code",
   "execution_count": 4,
   "metadata": {},
   "outputs": [
    {
     "name": "stdout",
     "output_type": "stream",
     "text": [
      "Training data-set consists of 616656 rows and 20 columns\n"
     ]
    }
   ],
   "source": [
    "print(f'Training data-set consists of {train_data.shape[0]} rows and {train_data.shape[1]} columns')"
   ]
  },
  {
   "cell_type": "markdown",
   "metadata": {},
   "source": [
    "**Rename column names for easier access:**"
   ]
  },
  {
   "cell_type": "code",
   "execution_count": 5,
   "metadata": {},
   "outputs": [
    {
     "data": {
      "text/html": [
       "<div>\n",
       "<style scoped>\n",
       "    .dataframe tbody tr th:only-of-type {\n",
       "        vertical-align: middle;\n",
       "    }\n",
       "\n",
       "    .dataframe tbody tr th {\n",
       "        vertical-align: top;\n",
       "    }\n",
       "\n",
       "    .dataframe thead th {\n",
       "        text-align: right;\n",
       "    }\n",
       "</style>\n",
       "<table border=\"1\" class=\"dataframe\">\n",
       "  <thead>\n",
       "    <tr style=\"text-align: right;\">\n",
       "      <th></th>\n",
       "      <th>station</th>\n",
       "      <th>ch_type</th>\n",
       "      <th>season</th>\n",
       "      <th>year</th>\n",
       "      <th>date</th>\n",
       "      <th>weekday</th>\n",
       "      <th>start_time</th>\n",
       "      <th>end_time</th>\n",
       "      <th>length</th>\n",
       "      <th>show_name</th>\n",
       "      <th>episode_name</th>\n",
       "      <th>genre</th>\n",
       "      <th>first_or_rerun</th>\n",
       "      <th>episodes_in_season</th>\n",
       "      <th>is_movie</th>\n",
       "      <th>overlaped_with_game</th>\n",
       "      <th>market_share</th>\n",
       "      <th>temperature</th>\n",
       "    </tr>\n",
       "  </thead>\n",
       "  <tbody>\n",
       "    <tr>\n",
       "      <th>0</th>\n",
       "      <td>V Total</td>\n",
       "      <td>General Channel</td>\n",
       "      <td>Fall</td>\n",
       "      <td>2016</td>\n",
       "      <td>2016-08-29</td>\n",
       "      <td>Monday</td>\n",
       "      <td>2016-08-29 06:00:00</td>\n",
       "      <td>2016-08-29 08:00:00</td>\n",
       "      <td>8</td>\n",
       "      <td>Vidéoclips V</td>\n",
       "      <td>NaN</td>\n",
       "      <td>Music Video Clips</td>\n",
       "      <td>No</td>\n",
       "      <td>Yes</td>\n",
       "      <td>No</td>\n",
       "      <td>No</td>\n",
       "      <td>0.9</td>\n",
       "      <td>20.400</td>\n",
       "    </tr>\n",
       "    <tr>\n",
       "      <th>1</th>\n",
       "      <td>V Total</td>\n",
       "      <td>General Channel</td>\n",
       "      <td>Fall</td>\n",
       "      <td>2016</td>\n",
       "      <td>2016-08-29</td>\n",
       "      <td>Monday</td>\n",
       "      <td>2016-08-29 08:00:00</td>\n",
       "      <td>2016-08-29 08:30:00</td>\n",
       "      <td>2</td>\n",
       "      <td>Apollo dans l'frigo</td>\n",
       "      <td>NaN</td>\n",
       "      <td>Informal Education and Recreation and Leisure</td>\n",
       "      <td>No</td>\n",
       "      <td>Yes</td>\n",
       "      <td>No</td>\n",
       "      <td>No</td>\n",
       "      <td>0.5</td>\n",
       "      <td>19.125</td>\n",
       "    </tr>\n",
       "  </tbody>\n",
       "</table>\n",
       "</div>"
      ],
      "text/plain": [
       "   station          ch_type season  year        date weekday  \\\n",
       "0  V Total  General Channel   Fall  2016  2016-08-29  Monday   \n",
       "1  V Total  General Channel   Fall  2016  2016-08-29  Monday   \n",
       "\n",
       "            start_time             end_time  length            show_name  \\\n",
       "0  2016-08-29 06:00:00  2016-08-29 08:00:00       8         Vidéoclips V   \n",
       "1  2016-08-29 08:00:00  2016-08-29 08:30:00       2  Apollo dans l'frigo   \n",
       "\n",
       "  episode_name                                          genre first_or_rerun  \\\n",
       "0          NaN                              Music Video Clips             No   \n",
       "1          NaN  Informal Education and Recreation and Leisure             No   \n",
       "\n",
       "  episodes_in_season is_movie overlaped_with_game  market_share  temperature  \n",
       "0                Yes       No                  No           0.9       20.400  \n",
       "1                Yes       No                  No           0.5       19.125  "
      ]
     },
     "execution_count": 5,
     "metadata": {},
     "output_type": "execute_result"
    }
   ],
   "source": [
    "# renaming columns\n",
    "original_col_names = list(train_data.columns)\n",
    "modified_col_names = ['unnamed', 'episode', 'station', 'ch_type', 'season', 'year', 'date', 'weekday',\n",
    "             'start_time', 'end_time', 'length', 'show_name', 'episode_name', 'genre', 'first_or_rerun', \n",
    "             'episodes_in_season', 'is_movie', 'overlaped_with_game', 'market_share', 'temperature']\n",
    "train_data.columns = modified_col_names\n",
    "\n",
    "## drop unnecessary column(s)\n",
    "# 'episode' and 'show_name' columns are identical\n",
    "train_data.drop(columns=['unnamed', 'episode'], inplace=True, errors='ignore')\n",
    "train_data.head(2)"
   ]
  },
  {
   "cell_type": "markdown",
   "metadata": {},
   "source": [
    "## Exploratory Data Analysis"
   ]
  },
  {
   "cell_type": "markdown",
   "metadata": {},
   "source": [
    "### Get insight about the target feature"
   ]
  },
  {
   "cell_type": "code",
   "execution_count": 6,
   "metadata": {},
   "outputs": [
    {
     "data": {
      "text/plain": [
       "count    616656.000000\n",
       "mean          3.011562\n",
       "std           4.919562\n",
       "min           0.000000\n",
       "25%           0.400000\n",
       "50%           1.400000\n",
       "75%           3.400000\n",
       "max          89.500000\n",
       "Name: market_share, dtype: float64"
      ]
     },
     "execution_count": 6,
     "metadata": {},
     "output_type": "execute_result"
    }
   ],
   "source": [
    "train_data['market_share'].describe()"
   ]
  },
  {
   "cell_type": "code",
   "execution_count": 7,
   "metadata": {},
   "outputs": [
    {
     "data": {
      "image/png": "[encoded data removed]",
      "text/plain": [
       "<Figure size 432x288 with 1 Axes>"
      ]
     },
     "metadata": {
      "needs_background": "light"
     },
     "output_type": "display_data"
    }
   ],
   "source": [
    "plt.hist(train_data['market_share'], bins=10)\n",
    "plt.show()"
   ]
  },
  {
   "cell_type": "markdown",
   "metadata": {},
   "source": [
    "Since the traget feature ('market_share') is continues, I create a new categorical feature based on it's mean value to be able to research it's relation with other features ."
   ]
  },
  {
   "cell_type": "code",
   "execution_count": 8,
   "metadata": {},
   "outputs": [
    {
     "data": {
      "text/html": [
       "<div>\n",
       "<style scoped>\n",
       "    .dataframe tbody tr th:only-of-type {\n",
       "        vertical-align: middle;\n",
       "    }\n",
       "\n",
       "    .dataframe tbody tr th {\n",
       "        vertical-align: top;\n",
       "    }\n",
       "\n",
       "    .dataframe thead th {\n",
       "        text-align: right;\n",
       "    }\n",
       "</style>\n",
       "<table border=\"1\" class=\"dataframe\">\n",
       "  <thead>\n",
       "    <tr style=\"text-align: right;\">\n",
       "      <th></th>\n",
       "      <th>station</th>\n",
       "      <th>ch_type</th>\n",
       "      <th>season</th>\n",
       "      <th>year</th>\n",
       "      <th>date</th>\n",
       "      <th>weekday</th>\n",
       "      <th>start_time</th>\n",
       "      <th>end_time</th>\n",
       "      <th>length</th>\n",
       "      <th>show_name</th>\n",
       "      <th>episode_name</th>\n",
       "      <th>genre</th>\n",
       "      <th>first_or_rerun</th>\n",
       "      <th>episodes_in_season</th>\n",
       "      <th>is_movie</th>\n",
       "      <th>overlaped_with_game</th>\n",
       "      <th>market_share</th>\n",
       "      <th>temperature</th>\n",
       "      <th>market_share_gt_mean</th>\n",
       "    </tr>\n",
       "  </thead>\n",
       "  <tbody>\n",
       "    <tr>\n",
       "      <th>7</th>\n",
       "      <td>V Total</td>\n",
       "      <td>General Channel</td>\n",
       "      <td>Fall</td>\n",
       "      <td>2016</td>\n",
       "      <td>2016-08-29</td>\n",
       "      <td>Monday</td>\n",
       "      <td>2016-08-29 11:30:00</td>\n",
       "      <td>2016-08-29 12:30:00</td>\n",
       "      <td>4</td>\n",
       "      <td>Révolution</td>\n",
       "      <td>NaN</td>\n",
       "      <td>Ongoing Dramatic Series</td>\n",
       "      <td>No</td>\n",
       "      <td>Yes</td>\n",
       "      <td>No</td>\n",
       "      <td>No</td>\n",
       "      <td>1.4</td>\n",
       "      <td>19.5500</td>\n",
       "      <td>0</td>\n",
       "    </tr>\n",
       "    <tr>\n",
       "      <th>8</th>\n",
       "      <td>V Total</td>\n",
       "      <td>General Channel</td>\n",
       "      <td>Fall</td>\n",
       "      <td>2016</td>\n",
       "      <td>2016-08-29</td>\n",
       "      <td>Monday</td>\n",
       "      <td>2016-08-29 12:30:00</td>\n",
       "      <td>2016-08-29 13:30:00</td>\n",
       "      <td>4</td>\n",
       "      <td>CSI: Miami</td>\n",
       "      <td>NaN</td>\n",
       "      <td>Ongoing Dramatic Series</td>\n",
       "      <td>No</td>\n",
       "      <td>Yes</td>\n",
       "      <td>No</td>\n",
       "      <td>No</td>\n",
       "      <td>7.5</td>\n",
       "      <td>20.4375</td>\n",
       "      <td>1</td>\n",
       "    </tr>\n",
       "    <tr>\n",
       "      <th>9</th>\n",
       "      <td>V Total</td>\n",
       "      <td>General Channel</td>\n",
       "      <td>Fall</td>\n",
       "      <td>2016</td>\n",
       "      <td>2016-08-29</td>\n",
       "      <td>Monday</td>\n",
       "      <td>2016-08-29 13:30:00</td>\n",
       "      <td>2016-08-29 14:30:00</td>\n",
       "      <td>4</td>\n",
       "      <td>CSI: Miami</td>\n",
       "      <td>NaN</td>\n",
       "      <td>Ongoing Dramatic Series</td>\n",
       "      <td>No</td>\n",
       "      <td>Yes</td>\n",
       "      <td>No</td>\n",
       "      <td>No</td>\n",
       "      <td>12.1</td>\n",
       "      <td>21.4000</td>\n",
       "      <td>1</td>\n",
       "    </tr>\n",
       "  </tbody>\n",
       "</table>\n",
       "</div>"
      ],
      "text/plain": [
       "   station          ch_type season  year        date weekday  \\\n",
       "7  V Total  General Channel   Fall  2016  2016-08-29  Monday   \n",
       "8  V Total  General Channel   Fall  2016  2016-08-29  Monday   \n",
       "9  V Total  General Channel   Fall  2016  2016-08-29  Monday   \n",
       "\n",
       "            start_time             end_time  length   show_name episode_name  \\\n",
       "7  2016-08-29 11:30:00  2016-08-29 12:30:00       4  Révolution          NaN   \n",
       "8  2016-08-29 12:30:00  2016-08-29 13:30:00       4  CSI: Miami          NaN   \n",
       "9  2016-08-29 13:30:00  2016-08-29 14:30:00       4  CSI: Miami          NaN   \n",
       "\n",
       "                     genre first_or_rerun episodes_in_season is_movie  \\\n",
       "7  Ongoing Dramatic Series             No                Yes       No   \n",
       "8  Ongoing Dramatic Series             No                Yes       No   \n",
       "9  Ongoing Dramatic Series             No                Yes       No   \n",
       "\n",
       "  overlaped_with_game  market_share  temperature  market_share_gt_mean  \n",
       "7                  No           1.4      19.5500                     0  \n",
       "8                  No           7.5      20.4375                     1  \n",
       "9                  No          12.1      21.4000                     1  "
      ]
     },
     "execution_count": 8,
     "metadata": {},
     "output_type": "execute_result"
    }
   ],
   "source": [
    "train_data['market_share_gt_mean'] = list(map(int, train_data['market_share'] > train_data['market_share'].mean()))  # store bool values as 0 and 1\n",
    "train_data[7:10]"
   ]
  },
  {
   "cell_type": "code",
   "execution_count": null,
   "metadata": {},
   "outputs": [],
   "source": []
  },
  {
   "cell_type": "code",
   "execution_count": 9,
   "metadata": {},
   "outputs": [
    {
     "data": {
      "text/plain": [
       "array([ 0.        ,  9.94444444, 19.88888889, 29.83333333, 39.77777778,\n",
       "       49.72222222, 59.66666667, 69.61111111, 79.55555556, 89.5       ])"
      ]
     },
     "execution_count": 9,
     "metadata": {},
     "output_type": "execute_result"
    }
   ],
   "source": [
    "bins = np.linspace(start=train_data['market_share'].min(), stop=train_data['market_share'].max(), num=10)\n",
    "bins"
   ]
  },
  {
   "cell_type": "code",
   "execution_count": 10,
   "metadata": {},
   "outputs": [],
   "source": [
    "def market_share_bin(row, bins):\n",
    "    cat = 0\n",
    "    for i, b in enumerate(bins[:-1]):\n",
    "        if (row['market_share'] > b) and (row['market_share'] <= b+1):\n",
    "            cat = i\n",
    "    \n",
    "    return cat"
   ]
  },
  {
   "cell_type": "code",
   "execution_count": 11,
   "metadata": {},
   "outputs": [],
   "source": [
    "train_data['market_share_bin'] = train_data.apply(lambda x: market_share_bin(x, bins), axis=1)"
   ]
  },
  {
   "cell_type": "markdown",
   "metadata": {},
   "source": [
    "### Handeling the missing values"
   ]
  },
  {
   "cell_type": "code",
   "execution_count": 12,
   "metadata": {},
   "outputs": [
    {
     "data": {
      "text/plain": [
       "station                      0\n",
       "ch_type                      0\n",
       "season                       0\n",
       "year                         0\n",
       "date                         0\n",
       "weekday                      0\n",
       "start_time                  43\n",
       "end_time                    43\n",
       "length                       0\n",
       "show_name                    0\n",
       "episode_name            222579\n",
       "genre                        0\n",
       "first_or_rerun               0\n",
       "episodes_in_season           0\n",
       "is_movie                     0\n",
       "overlaped_with_game          0\n",
       "market_share                 0\n",
       "temperature              83344\n",
       "market_share_gt_mean         0\n",
       "market_share_bin             0\n",
       "dtype: int64"
      ]
     },
     "execution_count": 12,
     "metadata": {},
     "output_type": "execute_result"
    }
   ],
   "source": [
    "train_data.isnull().sum()"
   ]
  },
  {
   "cell_type": "code",
   "execution_count": 13,
   "metadata": {},
   "outputs": [],
   "source": [
    "def cols_with_null_values(dataframe):\n",
    "    r\"\"\"Helper function for identifying columns with NaN value\n",
    "    \n",
    "    Parameters:\n",
    "    -------------\n",
    "        dataframe: pandas.DataFrame\n",
    "    \n",
    "    Returns:\n",
    "    -------------\n",
    "        List containing the name of columns which have NaN value\n",
    "    \"\"\"\n",
    "    null_check = dataframe.isnull().sum()\n",
    "    null_check = null_check[null_check > 0]\n",
    "    \n",
    "    return list(dict(null_check).keys())"
   ]
  },
  {
   "cell_type": "code",
   "execution_count": 14,
   "metadata": {},
   "outputs": [
    {
     "data": {
      "text/plain": [
       "['start_time', 'end_time', 'episode_name', 'temperature']"
      ]
     },
     "execution_count": 14,
     "metadata": {},
     "output_type": "execute_result"
    }
   ],
   "source": [
    "null_cols = cols_with_null_values(dataframe=train_data)\n",
    "null_cols"
   ]
  },
  {
   "cell_type": "markdown",
   "metadata": {},
   "source": [
    "**'start_time' and 'end_time' features**<br>\n",
    "Since both features are related and exactly have 43 missing values, I should check to find out if both of them is missing on the same row or not.<br>\n",
    "So, the below script returns the number of rows where both features are missing simultaneously."
   ]
  },
  {
   "cell_type": "code",
   "execution_count": 15,
   "metadata": {},
   "outputs": [
    {
     "data": {
      "text/plain": [
       "43"
      ]
     },
     "execution_count": 15,
     "metadata": {},
     "output_type": "execute_result"
    }
   ],
   "source": [
    "len(train_data[(train_data['start_time'].isnull()) & (train_data['end_time'].isnull())])"
   ]
  },
  {
   "cell_type": "markdown",
   "metadata": {},
   "source": [
    "The calculated value (43) confirms that both features are missing at the same time.<br>\n",
    "We can use `start_time` and `end_time` to calculate the show time. After that we can fill the missing values for `time` feature with the column's mean and then drop the `start_time` and `end_time` features."
   ]
  },
  {
   "cell_type": "code",
   "execution_count": 16,
   "metadata": {},
   "outputs": [],
   "source": [
    "def get_running_time(row):\n",
    "    r\"\"\"Helper function to calculate length of a show.\n",
    "    \n",
    "    Parameters:\n",
    "    -------------\n",
    "        row: a pandas.DataFrame row\n",
    "        \n",
    "    Returns:\n",
    "    -------------\n",
    "        float: show length\n",
    "    \"\"\"\n",
    "    start = pd.to_datetime(row['start_time'])\n",
    "    end = pd.to_datetime(row['end_time'])\n",
    "\n",
    "    return (end - start).seconds / 60"
   ]
  },
  {
   "cell_type": "code",
   "execution_count": 17,
   "metadata": {},
   "outputs": [],
   "source": [
    "# apply the helper function and store the values in a new column\n",
    "train_data['time'] = train_data.apply(lambda x: get_running_time(x), axis=1)"
   ]
  },
  {
   "cell_type": "code",
   "execution_count": 18,
   "metadata": {},
   "outputs": [],
   "source": [
    "# fill time feature missing value with the mean\n",
    "train_data['time'].fillna(value=train_data['time'].mean(), inplace=True)\n",
    "# drop 'start_time' and 'end_time' columns\n",
    "train_data.drop(columns=['start_time', 'end_time'], inplace=True, errors='ignore')"
   ]
  },
  {
   "cell_type": "code",
   "execution_count": 19,
   "metadata": {},
   "outputs": [],
   "source": [
    "# boolean indicator to know if a row had 'episode_name' or not\n",
    "train_data['episode_name'] = train_data['episode_name'].apply(lambda x: 0 if pd.isnull(x) else 1)"
   ]
  },
  {
   "cell_type": "code",
   "execution_count": 20,
   "metadata": {},
   "outputs": [],
   "source": [
    "# boolean indicator to know if the row had 'temperature' or not\n",
    "train_data['temperature_recorded'] = train_data['temperature'].apply(lambda x: 0 if pd.isnull(x) else 1)\n",
    "# fill temperature feature missing values with the mean\n",
    "train_data['temperature'].fillna(train_data['temperature'].mean(), inplace=True)"
   ]
  },
  {
   "cell_type": "code",
   "execution_count": 21,
   "metadata": {},
   "outputs": [
    {
     "data": {
      "text/plain": [
       "station                 0\n",
       "ch_type                 0\n",
       "season                  0\n",
       "year                    0\n",
       "date                    0\n",
       "weekday                 0\n",
       "length                  0\n",
       "show_name               0\n",
       "episode_name            0\n",
       "genre                   0\n",
       "first_or_rerun          0\n",
       "episodes_in_season      0\n",
       "is_movie                0\n",
       "overlaped_with_game     0\n",
       "market_share            0\n",
       "temperature             0\n",
       "market_share_gt_mean    0\n",
       "market_share_bin        0\n",
       "time                    0\n",
       "temperature_recorded    0\n",
       "dtype: int64"
      ]
     },
     "execution_count": 21,
     "metadata": {},
     "output_type": "execute_result"
    }
   ],
   "source": [
    "train_data.isnull().sum()"
   ]
  },
  {
   "cell_type": "markdown",
   "metadata": {},
   "source": [
    "**No more missing values.**"
   ]
  },
  {
   "cell_type": "markdown",
   "metadata": {},
   "source": [
    "### Extracting information from `date` feature"
   ]
  },
  {
   "cell_type": "code",
   "execution_count": 23,
   "metadata": {},
   "outputs": [],
   "source": [
    "from fastai.str"
   ]
  },
  {
   "cell_type": "code",
   "execution_count": null,
   "metadata": {},
   "outputs": [],
   "source": []
  },
  {
   "cell_type": "markdown",
   "metadata": {},
   "source": [
    "### Dealing with categorical data"
   ]
  },
  {
   "cell_type": "code",
   "execution_count": 22,
   "metadata": {},
   "outputs": [
    {
     "data": {
      "text/html": [
       "<div>\n",
       "<style scoped>\n",
       "    .dataframe tbody tr th:only-of-type {\n",
       "        vertical-align: middle;\n",
       "    }\n",
       "\n",
       "    .dataframe tbody tr th {\n",
       "        vertical-align: top;\n",
       "    }\n",
       "\n",
       "    .dataframe thead th {\n",
       "        text-align: right;\n",
       "    }\n",
       "</style>\n",
       "<table border=\"1\" class=\"dataframe\">\n",
       "  <thead>\n",
       "    <tr style=\"text-align: right;\">\n",
       "      <th></th>\n",
       "      <th>station</th>\n",
       "      <th>ch_type</th>\n",
       "      <th>season</th>\n",
       "      <th>year</th>\n",
       "      <th>date</th>\n",
       "      <th>weekday</th>\n",
       "      <th>length</th>\n",
       "      <th>show_name</th>\n",
       "      <th>episode_name</th>\n",
       "      <th>genre</th>\n",
       "      <th>first_or_rerun</th>\n",
       "      <th>episodes_in_season</th>\n",
       "      <th>is_movie</th>\n",
       "      <th>overlaped_with_game</th>\n",
       "      <th>market_share</th>\n",
       "      <th>temperature</th>\n",
       "      <th>market_share_gt_mean</th>\n",
       "      <th>market_share_bin</th>\n",
       "      <th>time</th>\n",
       "      <th>temperature_recorded</th>\n",
       "    </tr>\n",
       "  </thead>\n",
       "  <tbody>\n",
       "    <tr>\n",
       "      <th>0</th>\n",
       "      <td>V Total</td>\n",
       "      <td>General Channel</td>\n",
       "      <td>Fall</td>\n",
       "      <td>2016</td>\n",
       "      <td>2016-08-29</td>\n",
       "      <td>Monday</td>\n",
       "      <td>8</td>\n",
       "      <td>Vidéoclips V</td>\n",
       "      <td>0</td>\n",
       "      <td>Music Video Clips</td>\n",
       "      <td>No</td>\n",
       "      <td>Yes</td>\n",
       "      <td>No</td>\n",
       "      <td>No</td>\n",
       "      <td>0.9</td>\n",
       "      <td>20.400</td>\n",
       "      <td>0</td>\n",
       "      <td>0</td>\n",
       "      <td>120.0</td>\n",
       "      <td>1</td>\n",
       "    </tr>\n",
       "    <tr>\n",
       "      <th>1</th>\n",
       "      <td>V Total</td>\n",
       "      <td>General Channel</td>\n",
       "      <td>Fall</td>\n",
       "      <td>2016</td>\n",
       "      <td>2016-08-29</td>\n",
       "      <td>Monday</td>\n",
       "      <td>2</td>\n",
       "      <td>Apollo dans l'frigo</td>\n",
       "      <td>0</td>\n",
       "      <td>Informal Education and Recreation and Leisure</td>\n",
       "      <td>No</td>\n",
       "      <td>Yes</td>\n",
       "      <td>No</td>\n",
       "      <td>No</td>\n",
       "      <td>0.5</td>\n",
       "      <td>19.125</td>\n",
       "      <td>0</td>\n",
       "      <td>0</td>\n",
       "      <td>30.0</td>\n",
       "      <td>1</td>\n",
       "    </tr>\n",
       "    <tr>\n",
       "      <th>2</th>\n",
       "      <td>V Total</td>\n",
       "      <td>General Channel</td>\n",
       "      <td>Fall</td>\n",
       "      <td>2016</td>\n",
       "      <td>2016-08-29</td>\n",
       "      <td>Monday</td>\n",
       "      <td>2</td>\n",
       "      <td>Infopublicité</td>\n",
       "      <td>0</td>\n",
       "      <td>Infomercials, Promotional and Corporate Videos</td>\n",
       "      <td>No</td>\n",
       "      <td>Yes</td>\n",
       "      <td>No</td>\n",
       "      <td>No</td>\n",
       "      <td>0.3</td>\n",
       "      <td>19.125</td>\n",
       "      <td>0</td>\n",
       "      <td>0</td>\n",
       "      <td>30.0</td>\n",
       "      <td>1</td>\n",
       "    </tr>\n",
       "    <tr>\n",
       "      <th>3</th>\n",
       "      <td>V Total</td>\n",
       "      <td>General Channel</td>\n",
       "      <td>Fall</td>\n",
       "      <td>2016</td>\n",
       "      <td>2016-08-29</td>\n",
       "      <td>Monday</td>\n",
       "      <td>4</td>\n",
       "      <td>Infos, Les</td>\n",
       "      <td>0</td>\n",
       "      <td>News</td>\n",
       "      <td>No</td>\n",
       "      <td>Yes</td>\n",
       "      <td>No</td>\n",
       "      <td>No</td>\n",
       "      <td>1.7</td>\n",
       "      <td>18.125</td>\n",
       "      <td>0</td>\n",
       "      <td>0</td>\n",
       "      <td>60.0</td>\n",
       "      <td>1</td>\n",
       "    </tr>\n",
       "    <tr>\n",
       "      <th>4</th>\n",
       "      <td>V Total</td>\n",
       "      <td>General Channel</td>\n",
       "      <td>Fall</td>\n",
       "      <td>2016</td>\n",
       "      <td>2016-08-29</td>\n",
       "      <td>Monday</td>\n",
       "      <td>2</td>\n",
       "      <td>Souper presque parfait, Un</td>\n",
       "      <td>0</td>\n",
       "      <td>Reality Programs</td>\n",
       "      <td>No</td>\n",
       "      <td>Yes</td>\n",
       "      <td>No</td>\n",
       "      <td>No</td>\n",
       "      <td>2.2</td>\n",
       "      <td>18.250</td>\n",
       "      <td>0</td>\n",
       "      <td>0</td>\n",
       "      <td>30.0</td>\n",
       "      <td>1</td>\n",
       "    </tr>\n",
       "  </tbody>\n",
       "</table>\n",
       "</div>"
      ],
      "text/plain": [
       "   station          ch_type season  year        date weekday  length  \\\n",
       "0  V Total  General Channel   Fall  2016  2016-08-29  Monday       8   \n",
       "1  V Total  General Channel   Fall  2016  2016-08-29  Monday       2   \n",
       "2  V Total  General Channel   Fall  2016  2016-08-29  Monday       2   \n",
       "3  V Total  General Channel   Fall  2016  2016-08-29  Monday       4   \n",
       "4  V Total  General Channel   Fall  2016  2016-08-29  Monday       2   \n",
       "\n",
       "                    show_name  episode_name  \\\n",
       "0                Vidéoclips V             0   \n",
       "1         Apollo dans l'frigo             0   \n",
       "2               Infopublicité             0   \n",
       "3                  Infos, Les             0   \n",
       "4  Souper presque parfait, Un             0   \n",
       "\n",
       "                                            genre first_or_rerun  \\\n",
       "0                               Music Video Clips             No   \n",
       "1   Informal Education and Recreation and Leisure             No   \n",
       "2  Infomercials, Promotional and Corporate Videos             No   \n",
       "3                                            News             No   \n",
       "4                                Reality Programs             No   \n",
       "\n",
       "  episodes_in_season is_movie overlaped_with_game  market_share  temperature  \\\n",
       "0                Yes       No                  No           0.9       20.400   \n",
       "1                Yes       No                  No           0.5       19.125   \n",
       "2                Yes       No                  No           0.3       19.125   \n",
       "3                Yes       No                  No           1.7       18.125   \n",
       "4                Yes       No                  No           2.2       18.250   \n",
       "\n",
       "   market_share_gt_mean  market_share_bin   time  temperature_recorded  \n",
       "0                     0                 0  120.0                     1  \n",
       "1                     0                 0   30.0                     1  \n",
       "2                     0                 0   30.0                     1  \n",
       "3                     0                 0   60.0                     1  \n",
       "4                     0                 0   30.0                     1  "
      ]
     },
     "execution_count": 22,
     "metadata": {},
     "output_type": "execute_result"
    }
   ],
   "source": [
    "train_data.head()"
   ]
  },
  {
   "cell_type": "code",
   "execution_count": 52,
   "metadata": {},
   "outputs": [
    {
     "data": {
      "text/plain": [
       "Index(['station', 'ch_type', 'season', 'year', 'date', 'weekday', 'start_time',\n",
       "       'end_time', 'length', 'show_name', 'episode_name', 'genre',\n",
       "       'first_or_rerun', 'episodes_in_season', 'is_movie',\n",
       "       'overlaped_with_game', 'market_share', 'temperature'],\n",
       "      dtype='object')"
      ]
     },
     "execution_count": 52,
     "metadata": {},
     "output_type": "execute_result"
    }
   ],
   "source": [
    "train_data.columns"
   ]
  },
  {
   "cell_type": "code",
   "execution_count": null,
   "metadata": {},
   "outputs": [],
   "source": [
    "cat_cols = ['episode', 'station', 'ch_type', 'season', 'weekday',]"
   ]
  },
  {
   "cell_type": "code",
   "execution_count": null,
   "metadata": {},
   "outputs": [],
   "source": []
  },
  {
   "cell_type": "code",
   "execution_count": 30,
   "metadata": {},
   "outputs": [
    {
     "data": {
      "text/html": [
       "<div>\n",
       "<style scoped>\n",
       "    .dataframe tbody tr th:only-of-type {\n",
       "        vertical-align: middle;\n",
       "    }\n",
       "\n",
       "    .dataframe tbody tr th {\n",
       "        vertical-align: top;\n",
       "    }\n",
       "\n",
       "    .dataframe thead th {\n",
       "        text-align: right;\n",
       "    }\n",
       "</style>\n",
       "<table border=\"1\" class=\"dataframe\">\n",
       "  <thead>\n",
       "    <tr style=\"text-align: right;\">\n",
       "      <th></th>\n",
       "      <th>year</th>\n",
       "      <th>length</th>\n",
       "      <th>episode_name</th>\n",
       "      <th>market_share</th>\n",
       "      <th>temperature</th>\n",
       "      <th>market_share_gt_mean</th>\n",
       "      <th>time</th>\n",
       "      <th>temperature_recorded</th>\n",
       "    </tr>\n",
       "    <tr>\n",
       "      <th>market_share_bin</th>\n",
       "      <th></th>\n",
       "      <th></th>\n",
       "      <th></th>\n",
       "      <th></th>\n",
       "      <th></th>\n",
       "      <th></th>\n",
       "      <th></th>\n",
       "      <th></th>\n",
       "    </tr>\n",
       "  </thead>\n",
       "  <tbody>\n",
       "    <tr>\n",
       "      <th>0</th>\n",
       "      <td>2017.381813</td>\n",
       "      <td>3.202093</td>\n",
       "      <td>0.639641</td>\n",
       "      <td>2.879340</td>\n",
       "      <td>6.706943</td>\n",
       "      <td>0.265611</td>\n",
       "      <td>49.740915</td>\n",
       "      <td>0.864965</td>\n",
       "    </tr>\n",
       "    <tr>\n",
       "      <th>1</th>\n",
       "      <td>2017.341229</td>\n",
       "      <td>3.291184</td>\n",
       "      <td>0.613713</td>\n",
       "      <td>10.428299</td>\n",
       "      <td>6.711971</td>\n",
       "      <td>1.000000</td>\n",
       "      <td>51.548135</td>\n",
       "      <td>0.850045</td>\n",
       "    </tr>\n",
       "    <tr>\n",
       "      <th>2</th>\n",
       "      <td>2017.389539</td>\n",
       "      <td>3.396565</td>\n",
       "      <td>0.608119</td>\n",
       "      <td>20.346604</td>\n",
       "      <td>6.686636</td>\n",
       "      <td>1.000000</td>\n",
       "      <td>54.163934</td>\n",
       "      <td>0.872756</td>\n",
       "    </tr>\n",
       "    <tr>\n",
       "      <th>3</th>\n",
       "      <td>2017.325275</td>\n",
       "      <td>3.030769</td>\n",
       "      <td>0.285714</td>\n",
       "      <td>30.342418</td>\n",
       "      <td>7.398250</td>\n",
       "      <td>1.000000</td>\n",
       "      <td>48.707692</td>\n",
       "      <td>0.837363</td>\n",
       "    </tr>\n",
       "    <tr>\n",
       "      <th>4</th>\n",
       "      <td>2017.413043</td>\n",
       "      <td>7.467391</td>\n",
       "      <td>0.521739</td>\n",
       "      <td>40.291304</td>\n",
       "      <td>6.964700</td>\n",
       "      <td>1.000000</td>\n",
       "      <td>116.260870</td>\n",
       "      <td>0.978261</td>\n",
       "    </tr>\n",
       "    <tr>\n",
       "      <th>5</th>\n",
       "      <td>2017.333333</td>\n",
       "      <td>8.800000</td>\n",
       "      <td>0.466667</td>\n",
       "      <td>50.226667</td>\n",
       "      <td>4.935417</td>\n",
       "      <td>1.000000</td>\n",
       "      <td>138.866667</td>\n",
       "      <td>1.000000</td>\n",
       "    </tr>\n",
       "    <tr>\n",
       "      <th>6</th>\n",
       "      <td>2017.000000</td>\n",
       "      <td>8.000000</td>\n",
       "      <td>0.000000</td>\n",
       "      <td>60.500000</td>\n",
       "      <td>8.258333</td>\n",
       "      <td>1.000000</td>\n",
       "      <td>132.000000</td>\n",
       "      <td>1.000000</td>\n",
       "    </tr>\n",
       "    <tr>\n",
       "      <th>7</th>\n",
       "      <td>2017.000000</td>\n",
       "      <td>4.000000</td>\n",
       "      <td>0.000000</td>\n",
       "      <td>69.700000</td>\n",
       "      <td>-9.575000</td>\n",
       "      <td>1.000000</td>\n",
       "      <td>60.000000</td>\n",
       "      <td>1.000000</td>\n",
       "    </tr>\n",
       "  </tbody>\n",
       "</table>\n",
       "</div>"
      ],
      "text/plain": [
       "                         year    length  episode_name  market_share  \\\n",
       "market_share_bin                                                      \n",
       "0                 2017.381813  3.202093      0.639641      2.879340   \n",
       "1                 2017.341229  3.291184      0.613713     10.428299   \n",
       "2                 2017.389539  3.396565      0.608119     20.346604   \n",
       "3                 2017.325275  3.030769      0.285714     30.342418   \n",
       "4                 2017.413043  7.467391      0.521739     40.291304   \n",
       "5                 2017.333333  8.800000      0.466667     50.226667   \n",
       "6                 2017.000000  8.000000      0.000000     60.500000   \n",
       "7                 2017.000000  4.000000      0.000000     69.700000   \n",
       "\n",
       "                  temperature  market_share_gt_mean        time  \\\n",
       "market_share_bin                                                  \n",
       "0                    6.706943              0.265611   49.740915   \n",
       "1                    6.711971              1.000000   51.548135   \n",
       "2                    6.686636              1.000000   54.163934   \n",
       "3                    7.398250              1.000000   48.707692   \n",
       "4                    6.964700              1.000000  116.260870   \n",
       "5                    4.935417              1.000000  138.866667   \n",
       "6                    8.258333              1.000000  132.000000   \n",
       "7                   -9.575000              1.000000   60.000000   \n",
       "\n",
       "                  temperature_recorded  \n",
       "market_share_bin                        \n",
       "0                             0.864965  \n",
       "1                             0.850045  \n",
       "2                             0.872756  \n",
       "3                             0.837363  \n",
       "4                             0.978261  \n",
       "5                             1.000000  \n",
       "6                             1.000000  \n",
       "7                             1.000000  "
      ]
     },
     "execution_count": 30,
     "metadata": {},
     "output_type": "execute_result"
    }
   ],
   "source": [
    "train_data.groupby('market_share_bin').mean()"
   ]
  },
  {
   "cell_type": "code",
   "execution_count": 32,
   "metadata": {},
   "outputs": [
    {
     "data": {
      "image/png": "[encoded data removed]",
      "text/plain": [
       "<Figure size 432x288 with 1 Axes>"
      ]
     },
     "metadata": {
      "needs_background": "light"
     },
     "output_type": "display_data"
    }
   ],
   "source": [
    "plt.hist(train_data[train_data['market_share_gt_mean'] == 0].loc[:, 'market_share'])\n",
    "plt.show()"
   ]
  },
  {
   "cell_type": "code",
   "execution_count": 33,
   "metadata": {},
   "outputs": [
    {
     "data": {
      "image/png": "[encoded data removed]",
      "text/plain": [
       "<Figure size 432x288 with 1 Axes>"
      ]
     },
     "metadata": {
      "needs_background": "light"
     },
     "output_type": "display_data"
    }
   ],
   "source": [
    "plt.hist(train_data[train_data['market_share_gt_mean'] == 1].loc[:, 'market_share'])\n",
    "plt.show()"
   ]
  },
  {
   "cell_type": "code",
   "execution_count": 35,
   "metadata": {},
   "outputs": [
    {
     "data": {
      "text/html": [
       "<div>\n",
       "<style scoped>\n",
       "    .dataframe tbody tr th:only-of-type {\n",
       "        vertical-align: middle;\n",
       "    }\n",
       "\n",
       "    .dataframe tbody tr th {\n",
       "        vertical-align: top;\n",
       "    }\n",
       "\n",
       "    .dataframe thead th {\n",
       "        text-align: right;\n",
       "    }\n",
       "</style>\n",
       "<table border=\"1\" class=\"dataframe\">\n",
       "  <thead>\n",
       "    <tr style=\"text-align: right;\">\n",
       "      <th></th>\n",
       "      <th>episode</th>\n",
       "      <th>station</th>\n",
       "      <th>ch_type</th>\n",
       "      <th>season</th>\n",
       "      <th>year</th>\n",
       "      <th>date</th>\n",
       "      <th>weekday</th>\n",
       "      <th>length</th>\n",
       "      <th>show_name</th>\n",
       "      <th>episode_name</th>\n",
       "      <th>genre</th>\n",
       "      <th>first_or_rerun</th>\n",
       "      <th>episodes_in_season</th>\n",
       "      <th>is_movie</th>\n",
       "      <th>overlaped_with_game</th>\n",
       "      <th>market_share</th>\n",
       "      <th>temperature</th>\n",
       "      <th>market_share_bin</th>\n",
       "      <th>time</th>\n",
       "      <th>temperature_recorded</th>\n",
       "    </tr>\n",
       "    <tr>\n",
       "      <th>market_share_gt_mean</th>\n",
       "      <th></th>\n",
       "      <th></th>\n",
       "      <th></th>\n",
       "      <th></th>\n",
       "      <th></th>\n",
       "      <th></th>\n",
       "      <th></th>\n",
       "      <th></th>\n",
       "      <th></th>\n",
       "      <th></th>\n",
       "      <th></th>\n",
       "      <th></th>\n",
       "      <th></th>\n",
       "      <th></th>\n",
       "      <th></th>\n",
       "      <th></th>\n",
       "      <th></th>\n",
       "      <th></th>\n",
       "      <th></th>\n",
       "      <th></th>\n",
       "    </tr>\n",
       "  </thead>\n",
       "  <tbody>\n",
       "    <tr>\n",
       "      <th>0</th>\n",
       "      <td>447387</td>\n",
       "      <td>447387</td>\n",
       "      <td>447387</td>\n",
       "      <td>447387</td>\n",
       "      <td>447387</td>\n",
       "      <td>447387</td>\n",
       "      <td>447387</td>\n",
       "      <td>447387</td>\n",
       "      <td>447387</td>\n",
       "      <td>447387</td>\n",
       "      <td>447387</td>\n",
       "      <td>447387</td>\n",
       "      <td>447387</td>\n",
       "      <td>447387</td>\n",
       "      <td>447387</td>\n",
       "      <td>447387</td>\n",
       "      <td>447387</td>\n",
       "      <td>447387</td>\n",
       "      <td>447387</td>\n",
       "      <td>447387</td>\n",
       "    </tr>\n",
       "    <tr>\n",
       "      <th>1</th>\n",
       "      <td>169269</td>\n",
       "      <td>169269</td>\n",
       "      <td>169269</td>\n",
       "      <td>169269</td>\n",
       "      <td>169269</td>\n",
       "      <td>169269</td>\n",
       "      <td>169269</td>\n",
       "      <td>169269</td>\n",
       "      <td>169269</td>\n",
       "      <td>169269</td>\n",
       "      <td>169269</td>\n",
       "      <td>169269</td>\n",
       "      <td>169269</td>\n",
       "      <td>169269</td>\n",
       "      <td>169269</td>\n",
       "      <td>169269</td>\n",
       "      <td>169269</td>\n",
       "      <td>169269</td>\n",
       "      <td>169269</td>\n",
       "      <td>169269</td>\n",
       "    </tr>\n",
       "  </tbody>\n",
       "</table>\n",
       "</div>"
      ],
      "text/plain": [
       "                      episode  station  ch_type  season    year    date  \\\n",
       "market_share_gt_mean                                                      \n",
       "0                      447387   447387   447387  447387  447387  447387   \n",
       "1                      169269   169269   169269  169269  169269  169269   \n",
       "\n",
       "                      weekday  length  show_name  episode_name   genre  \\\n",
       "market_share_gt_mean                                                     \n",
       "0                      447387  447387     447387        447387  447387   \n",
       "1                      169269  169269     169269        169269  169269   \n",
       "\n",
       "                      first_or_rerun  episodes_in_season  is_movie  \\\n",
       "market_share_gt_mean                                                 \n",
       "0                             447387              447387    447387   \n",
       "1                             169269              169269    169269   \n",
       "\n",
       "                      overlaped_with_game  market_share  temperature  \\\n",
       "market_share_gt_mean                                                   \n",
       "0                                  447387        447387       447387   \n",
       "1                                  169269        169269       169269   \n",
       "\n",
       "                      market_share_bin    time  temperature_recorded  \n",
       "market_share_gt_mean                                                  \n",
       "0                               447387  447387                447387  \n",
       "1                               169269  169269                169269  "
      ]
     },
     "execution_count": 35,
     "metadata": {},
     "output_type": "execute_result"
    }
   ],
   "source": [
    "train_data.groupby('market_share_gt_mean').count()"
   ]
  },
  {
   "cell_type": "code",
   "execution_count": 26,
   "metadata": {},
   "outputs": [
    {
     "data": {
      "text/plain": [
       "27"
      ]
     },
     "execution_count": 26,
     "metadata": {},
     "output_type": "execute_result"
    }
   ],
   "source": [
    "len(train_data['genre'].unique())"
   ]
  },
  {
   "cell_type": "code",
   "execution_count": 36,
   "metadata": {},
   "outputs": [
    {
     "data": {
      "text/plain": [
       "7"
      ]
     },
     "execution_count": 36,
     "metadata": {},
     "output_type": "execute_result"
    }
   ],
   "source": [
    "len(train_data['weekday'].unique())"
   ]
  },
  {
   "cell_type": "code",
   "execution_count": 37,
   "metadata": {},
   "outputs": [
    {
     "data": {
      "text/plain": [
       "4"
      ]
     },
     "execution_count": 37,
     "metadata": {},
     "output_type": "execute_result"
    }
   ],
   "source": [
    "len(train_data['season'].unique())"
   ]
  },
  {
   "cell_type": "code",
   "execution_count": 38,
   "metadata": {},
   "outputs": [
    {
     "data": {
      "text/plain": [
       "2"
      ]
     },
     "execution_count": 38,
     "metadata": {},
     "output_type": "execute_result"
    }
   ],
   "source": [
    "len(train_data['ch_type'].unique())"
   ]
  },
  {
   "cell_type": "code",
   "execution_count": 39,
   "metadata": {},
   "outputs": [
    {
     "data": {
      "text/plain": [
       "array(['General Channel', 'Specialty Channel'], dtype=object)"
      ]
     },
     "execution_count": 39,
     "metadata": {},
     "output_type": "execute_result"
    }
   ],
   "source": [
    "train_data['ch_type'].unique()"
   ]
  },
  {
   "cell_type": "code",
   "execution_count": null,
   "metadata": {},
   "outputs": [],
   "source": []
  },
  {
   "cell_type": "code",
   "execution_count": 235,
   "metadata": {},
   "outputs": [
    {
     "data": {
      "text/plain": [
       "55839"
      ]
     },
     "execution_count": 235,
     "metadata": {},
     "output_type": "execute_result"
    }
   ],
   "source": [
    "train_data[train_data['market_share_gt_mean'] == 0]['temperature'].isnull().sum()"
   ]
  },
  {
   "cell_type": "code",
   "execution_count": 236,
   "metadata": {},
   "outputs": [
    {
     "data": {
      "text/plain": [
       "27505"
      ]
     },
     "execution_count": 236,
     "metadata": {},
     "output_type": "execute_result"
    }
   ],
   "source": [
    "train_data[train_data['market_share_gt_mean'] == 1]['temperature'].isnull().sum()"
   ]
  },
  {
   "cell_type": "code",
   "execution_count": null,
   "metadata": {},
   "outputs": [],
   "source": []
  },
  {
   "cell_type": "code",
   "execution_count": 242,
   "metadata": {},
   "outputs": [
    {
     "data": {
      "text/plain": [
       "153781"
      ]
     },
     "execution_count": 242,
     "metadata": {},
     "output_type": "execute_result"
    }
   ],
   "source": [
    "len(train_data[(train_data['market_share_gt_mean'] == 0) & (train_data['episode_name'] == 0)])"
   ]
  },
  {
   "cell_type": "code",
   "execution_count": 243,
   "metadata": {},
   "outputs": [
    {
     "data": {
      "text/plain": [
       "68798"
      ]
     },
     "execution_count": 243,
     "metadata": {},
     "output_type": "execute_result"
    }
   ],
   "source": [
    "len(train_data[(train_data['market_share_gt_mean'] == 1) & (train_data['episode_name'] == 0)])"
   ]
  },
  {
   "cell_type": "code",
   "execution_count": null,
   "metadata": {},
   "outputs": [],
   "source": []
  },
  {
   "cell_type": "code",
   "execution_count": null,
   "metadata": {},
   "outputs": [],
   "source": []
  },
  {
   "cell_type": "code",
   "execution_count": null,
   "metadata": {},
   "outputs": [],
   "source": []
  },
  {
   "cell_type": "code",
   "execution_count": null,
   "metadata": {},
   "outputs": [],
   "source": []
  },
  {
   "cell_type": "code",
   "execution_count": null,
   "metadata": {},
   "outputs": [],
   "source": []
  },
  {
   "cell_type": "code",
   "execution_count": null,
   "metadata": {},
   "outputs": [],
   "source": []
  }
 ],
 "metadata": {
  "kernelspec": {
   "display_name": "Python 3",
   "language": "python",
   "name": "python3"
  },
  "language_info": {
   "codemirror_mode": {
    "name": "ipython",
    "version": 3
   },
   "file_extension": ".py",
   "mimetype": "text/x-python",
   "name": "python",
   "nbconvert_exporter": "python",
   "pygments_lexer": "ipython3",
   "version": "3.7.6"
  }
 },
 "nbformat": 4,
 "nbformat_minor": 4
}
