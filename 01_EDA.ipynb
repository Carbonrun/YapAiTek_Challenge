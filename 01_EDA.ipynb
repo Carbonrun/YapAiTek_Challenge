{
 "cells": [
  {
   "cell_type": "code",
   "execution_count": 178,
   "metadata": {},
   "outputs": [],
   "source": [
    "# loading libraries\n",
    "import numpy as np\n",
    "import pandas as pd\n",
    "import matplotlib.pyplot as plt\n",
    "import seaborn as sns\n",
    "import os\n",
    "import pdb"
   ]
  },
  {
   "cell_type": "markdown",
   "metadata": {},
   "source": [
    "# **Exploratory Data Analysis**"
   ]
  },
  {
   "cell_type": "markdown",
   "metadata": {},
   "source": [
    "## Getting and exploring the data-set"
   ]
  },
  {
   "cell_type": "markdown",
   "metadata": {},
   "source": [
    "**Training data-set is provided [here](https://drive.google.com/open?id=1JNyXs8CPbqneo99rGRJswIM7G1-Zsldp)**"
   ]
  },
  {
   "cell_type": "code",
   "execution_count": 2,
   "metadata": {},
   "outputs": [
    {
     "data": {
      "text/plain": [
       "['data.csv']"
      ]
     },
     "execution_count": 2,
     "metadata": {},
     "output_type": "execute_result"
    }
   ],
   "source": [
    "# setting paths\n",
    "data_dir = os.path.abspath('./_data')\n",
    "train_data_fp = os.path.join(data_dir, 'data.csv')\n",
    "os.listdir(data_dir)"
   ]
  },
  {
   "cell_type": "code",
   "execution_count": 3,
   "metadata": {},
   "outputs": [
    {
     "data": {
      "text/html": [
       "<div>\n",
       "<style scoped>\n",
       "    .dataframe tbody tr th:only-of-type {\n",
       "        vertical-align: middle;\n",
       "    }\n",
       "\n",
       "    .dataframe tbody tr th {\n",
       "        vertical-align: top;\n",
       "    }\n",
       "\n",
       "    .dataframe thead th {\n",
       "        text-align: right;\n",
       "    }\n",
       "</style>\n",
       "<table border=\"1\" class=\"dataframe\">\n",
       "  <thead>\n",
       "    <tr style=\"text-align: right;\">\n",
       "      <th></th>\n",
       "      <th>Unnamed: 0</th>\n",
       "      <th>Episode</th>\n",
       "      <th>Station</th>\n",
       "      <th>Channel Type</th>\n",
       "      <th>Season</th>\n",
       "      <th>Year</th>\n",
       "      <th>Date</th>\n",
       "      <th>Day of week</th>\n",
       "      <th>Start_time</th>\n",
       "      <th>End_time</th>\n",
       "      <th>Length</th>\n",
       "      <th>Name of show</th>\n",
       "      <th>Name of episode</th>\n",
       "      <th>Genre</th>\n",
       "      <th>First time or rerun</th>\n",
       "      <th># of episode in the season</th>\n",
       "      <th>Movie?</th>\n",
       "      <th>Game of the Canadiens during episode?</th>\n",
       "      <th>Market Share_total</th>\n",
       "      <th>Temperature in Montreal during episode</th>\n",
       "    </tr>\n",
       "  </thead>\n",
       "  <tbody>\n",
       "    <tr>\n",
       "      <th>0</th>\n",
       "      <td>1</td>\n",
       "      <td>Vidéoclips V</td>\n",
       "      <td>V Total</td>\n",
       "      <td>General Channel</td>\n",
       "      <td>Fall</td>\n",
       "      <td>2016</td>\n",
       "      <td>2016-08-29</td>\n",
       "      <td>Monday</td>\n",
       "      <td>2016-08-29 06:00:00</td>\n",
       "      <td>2016-08-29 08:00:00</td>\n",
       "      <td>8</td>\n",
       "      <td>Vidéoclips V</td>\n",
       "      <td>NaN</td>\n",
       "      <td>Music Video Clips</td>\n",
       "      <td>No</td>\n",
       "      <td>Yes</td>\n",
       "      <td>No</td>\n",
       "      <td>No</td>\n",
       "      <td>0.9</td>\n",
       "      <td>20.400</td>\n",
       "    </tr>\n",
       "    <tr>\n",
       "      <th>1</th>\n",
       "      <td>2</td>\n",
       "      <td>Apollo dans l'frigo</td>\n",
       "      <td>V Total</td>\n",
       "      <td>General Channel</td>\n",
       "      <td>Fall</td>\n",
       "      <td>2016</td>\n",
       "      <td>2016-08-29</td>\n",
       "      <td>Monday</td>\n",
       "      <td>2016-08-29 08:00:00</td>\n",
       "      <td>2016-08-29 08:30:00</td>\n",
       "      <td>2</td>\n",
       "      <td>Apollo dans l'frigo</td>\n",
       "      <td>NaN</td>\n",
       "      <td>Informal Education and Recreation and Leisure</td>\n",
       "      <td>No</td>\n",
       "      <td>Yes</td>\n",
       "      <td>No</td>\n",
       "      <td>No</td>\n",
       "      <td>0.5</td>\n",
       "      <td>19.125</td>\n",
       "    </tr>\n",
       "    <tr>\n",
       "      <th>2</th>\n",
       "      <td>3</td>\n",
       "      <td>Infopublicité</td>\n",
       "      <td>V Total</td>\n",
       "      <td>General Channel</td>\n",
       "      <td>Fall</td>\n",
       "      <td>2016</td>\n",
       "      <td>2016-08-29</td>\n",
       "      <td>Monday</td>\n",
       "      <td>2016-08-29 08:30:00</td>\n",
       "      <td>2016-08-29 09:00:00</td>\n",
       "      <td>2</td>\n",
       "      <td>Infopublicité</td>\n",
       "      <td>NaN</td>\n",
       "      <td>Infomercials, Promotional and Corporate Videos</td>\n",
       "      <td>No</td>\n",
       "      <td>Yes</td>\n",
       "      <td>No</td>\n",
       "      <td>No</td>\n",
       "      <td>0.3</td>\n",
       "      <td>19.125</td>\n",
       "    </tr>\n",
       "    <tr>\n",
       "      <th>3</th>\n",
       "      <td>4</td>\n",
       "      <td>Infos, Les</td>\n",
       "      <td>V Total</td>\n",
       "      <td>General Channel</td>\n",
       "      <td>Fall</td>\n",
       "      <td>2016</td>\n",
       "      <td>2016-08-29</td>\n",
       "      <td>Monday</td>\n",
       "      <td>2016-08-29 09:00:00</td>\n",
       "      <td>2016-08-29 10:00:00</td>\n",
       "      <td>4</td>\n",
       "      <td>Infos, Les</td>\n",
       "      <td>NaN</td>\n",
       "      <td>News</td>\n",
       "      <td>No</td>\n",
       "      <td>Yes</td>\n",
       "      <td>No</td>\n",
       "      <td>No</td>\n",
       "      <td>1.7</td>\n",
       "      <td>18.125</td>\n",
       "    </tr>\n",
       "    <tr>\n",
       "      <th>4</th>\n",
       "      <td>5</td>\n",
       "      <td>Souper presque parfait, Un</td>\n",
       "      <td>V Total</td>\n",
       "      <td>General Channel</td>\n",
       "      <td>Fall</td>\n",
       "      <td>2016</td>\n",
       "      <td>2016-08-29</td>\n",
       "      <td>Monday</td>\n",
       "      <td>2016-08-29 10:00:00</td>\n",
       "      <td>2016-08-29 10:30:00</td>\n",
       "      <td>2</td>\n",
       "      <td>Souper presque parfait, Un</td>\n",
       "      <td>NaN</td>\n",
       "      <td>Reality Programs</td>\n",
       "      <td>No</td>\n",
       "      <td>Yes</td>\n",
       "      <td>No</td>\n",
       "      <td>No</td>\n",
       "      <td>2.2</td>\n",
       "      <td>18.250</td>\n",
       "    </tr>\n",
       "  </tbody>\n",
       "</table>\n",
       "</div>"
      ],
      "text/plain": [
       "   Unnamed: 0                     Episode  Station     Channel Type Season  \\\n",
       "0           1                Vidéoclips V  V Total  General Channel   Fall   \n",
       "1           2         Apollo dans l'frigo  V Total  General Channel   Fall   \n",
       "2           3               Infopublicité  V Total  General Channel   Fall   \n",
       "3           4                  Infos, Les  V Total  General Channel   Fall   \n",
       "4           5  Souper presque parfait, Un  V Total  General Channel   Fall   \n",
       "\n",
       "   Year        Date Day of week           Start_time             End_time  \\\n",
       "0  2016  2016-08-29      Monday  2016-08-29 06:00:00  2016-08-29 08:00:00   \n",
       "1  2016  2016-08-29      Monday  2016-08-29 08:00:00  2016-08-29 08:30:00   \n",
       "2  2016  2016-08-29      Monday  2016-08-29 08:30:00  2016-08-29 09:00:00   \n",
       "3  2016  2016-08-29      Monday  2016-08-29 09:00:00  2016-08-29 10:00:00   \n",
       "4  2016  2016-08-29      Monday  2016-08-29 10:00:00  2016-08-29 10:30:00   \n",
       "\n",
       "   Length                Name of show Name of episode  \\\n",
       "0       8                Vidéoclips V             NaN   \n",
       "1       2         Apollo dans l'frigo             NaN   \n",
       "2       2               Infopublicité             NaN   \n",
       "3       4                  Infos, Les             NaN   \n",
       "4       2  Souper presque parfait, Un             NaN   \n",
       "\n",
       "                                            Genre First time or rerun  \\\n",
       "0                               Music Video Clips                  No   \n",
       "1   Informal Education and Recreation and Leisure                  No   \n",
       "2  Infomercials, Promotional and Corporate Videos                  No   \n",
       "3                                            News                  No   \n",
       "4                                Reality Programs                  No   \n",
       "\n",
       "  # of episode in the season Movie? Game of the Canadiens during episode?  \\\n",
       "0                        Yes     No                                    No   \n",
       "1                        Yes     No                                    No   \n",
       "2                        Yes     No                                    No   \n",
       "3                        Yes     No                                    No   \n",
       "4                        Yes     No                                    No   \n",
       "\n",
       "   Market Share_total  Temperature in Montreal during episode  \n",
       "0                 0.9                                  20.400  \n",
       "1                 0.5                                  19.125  \n",
       "2                 0.3                                  19.125  \n",
       "3                 1.7                                  18.125  \n",
       "4                 2.2                                  18.250  "
      ]
     },
     "execution_count": 3,
     "metadata": {},
     "output_type": "execute_result"
    }
   ],
   "source": [
    "# loading data-set\n",
    "train_data = pd.read_csv(train_data_fp)\n",
    "train_data.head()"
   ]
  },
  {
   "cell_type": "code",
   "execution_count": 4,
   "metadata": {},
   "outputs": [
    {
     "name": "stdout",
     "output_type": "stream",
     "text": [
      "Training data-set consists of 616656 rows and 20 columns\n"
     ]
    }
   ],
   "source": [
    "print(f'Training data-set consists of {train_data.shape[0]} rows and {train_data.shape[1]} columns')"
   ]
  },
  {
   "cell_type": "markdown",
   "metadata": {},
   "source": [
    "**Rename column names for easier access:**"
   ]
  },
  {
   "cell_type": "code",
   "execution_count": 13,
   "metadata": {},
   "outputs": [
    {
     "data": {
      "text/html": [
       "<div>\n",
       "<style scoped>\n",
       "    .dataframe tbody tr th:only-of-type {\n",
       "        vertical-align: middle;\n",
       "    }\n",
       "\n",
       "    .dataframe tbody tr th {\n",
       "        vertical-align: top;\n",
       "    }\n",
       "\n",
       "    .dataframe thead th {\n",
       "        text-align: right;\n",
       "    }\n",
       "</style>\n",
       "<table border=\"1\" class=\"dataframe\">\n",
       "  <thead>\n",
       "    <tr style=\"text-align: right;\">\n",
       "      <th></th>\n",
       "      <th>unnamed</th>\n",
       "      <th>episode</th>\n",
       "      <th>station</th>\n",
       "      <th>ch_type</th>\n",
       "      <th>season</th>\n",
       "      <th>year</th>\n",
       "      <th>date</th>\n",
       "      <th>weekday</th>\n",
       "      <th>start_time</th>\n",
       "      <th>end_time</th>\n",
       "      <th>length</th>\n",
       "      <th>show_name</th>\n",
       "      <th>episode_name</th>\n",
       "      <th>genre</th>\n",
       "      <th>first_or_rerun</th>\n",
       "      <th>episodes_in_season</th>\n",
       "      <th>is_movie</th>\n",
       "      <th>overlaped_with_game</th>\n",
       "      <th>market_share</th>\n",
       "      <th>temperature</th>\n",
       "    </tr>\n",
       "  </thead>\n",
       "  <tbody>\n",
       "    <tr>\n",
       "      <th>0</th>\n",
       "      <td>1</td>\n",
       "      <td>Vidéoclips V</td>\n",
       "      <td>V Total</td>\n",
       "      <td>General Channel</td>\n",
       "      <td>Fall</td>\n",
       "      <td>2016</td>\n",
       "      <td>2016-08-29</td>\n",
       "      <td>Monday</td>\n",
       "      <td>2016-08-29 06:00:00</td>\n",
       "      <td>2016-08-29 08:00:00</td>\n",
       "      <td>8</td>\n",
       "      <td>Vidéoclips V</td>\n",
       "      <td>NaN</td>\n",
       "      <td>Music Video Clips</td>\n",
       "      <td>No</td>\n",
       "      <td>Yes</td>\n",
       "      <td>No</td>\n",
       "      <td>No</td>\n",
       "      <td>0.9</td>\n",
       "      <td>20.400</td>\n",
       "    </tr>\n",
       "    <tr>\n",
       "      <th>1</th>\n",
       "      <td>2</td>\n",
       "      <td>Apollo dans l'frigo</td>\n",
       "      <td>V Total</td>\n",
       "      <td>General Channel</td>\n",
       "      <td>Fall</td>\n",
       "      <td>2016</td>\n",
       "      <td>2016-08-29</td>\n",
       "      <td>Monday</td>\n",
       "      <td>2016-08-29 08:00:00</td>\n",
       "      <td>2016-08-29 08:30:00</td>\n",
       "      <td>2</td>\n",
       "      <td>Apollo dans l'frigo</td>\n",
       "      <td>NaN</td>\n",
       "      <td>Informal Education and Recreation and Leisure</td>\n",
       "      <td>No</td>\n",
       "      <td>Yes</td>\n",
       "      <td>No</td>\n",
       "      <td>No</td>\n",
       "      <td>0.5</td>\n",
       "      <td>19.125</td>\n",
       "    </tr>\n",
       "  </tbody>\n",
       "</table>\n",
       "</div>"
      ],
      "text/plain": [
       "   unnamed              episode  station          ch_type season  year  \\\n",
       "0        1         Vidéoclips V  V Total  General Channel   Fall  2016   \n",
       "1        2  Apollo dans l'frigo  V Total  General Channel   Fall  2016   \n",
       "\n",
       "         date weekday           start_time             end_time  length  \\\n",
       "0  2016-08-29  Monday  2016-08-29 06:00:00  2016-08-29 08:00:00       8   \n",
       "1  2016-08-29  Monday  2016-08-29 08:00:00  2016-08-29 08:30:00       2   \n",
       "\n",
       "             show_name episode_name  \\\n",
       "0         Vidéoclips V          NaN   \n",
       "1  Apollo dans l'frigo          NaN   \n",
       "\n",
       "                                           genre first_or_rerun  \\\n",
       "0                              Music Video Clips             No   \n",
       "1  Informal Education and Recreation and Leisure             No   \n",
       "\n",
       "  episodes_in_season is_movie overlaped_with_game  market_share  temperature  \n",
       "0                Yes       No                  No           0.9       20.400  \n",
       "1                Yes       No                  No           0.5       19.125  "
      ]
     },
     "execution_count": 13,
     "metadata": {},
     "output_type": "execute_result"
    }
   ],
   "source": [
    "# renaming columns\n",
    "original_col_names = list(train_data.columns)\n",
    "modified_col_names = ['unnamed', 'episode', 'station', 'ch_type', 'season', 'year', 'date', 'weekday',\n",
    "             'start_time', 'end_time', 'length', 'show_name', 'episode_name', 'genre', 'first_or_rerun', \n",
    "             'episodes_in_season', 'is_movie', 'overlaped_with_game', 'market_share', 'temperature']\n",
    "train_data.columns = modified_col_names\n",
    "train_data.head(2)"
   ]
  },
  {
   "cell_type": "markdown",
   "metadata": {},
   "source": [
    "## Exploratory Data Analysis"
   ]
  },
  {
   "cell_type": "markdown",
   "metadata": {},
   "source": [
    "### Get insight about the target feature"
   ]
  },
  {
   "cell_type": "code",
   "execution_count": 99,
   "metadata": {},
   "outputs": [
    {
     "data": {
      "text/plain": [
       "count    616656.000000\n",
       "mean          3.011562\n",
       "std           4.919562\n",
       "min           0.000000\n",
       "25%           0.400000\n",
       "50%           1.400000\n",
       "75%           3.400000\n",
       "max          89.500000\n",
       "Name: market_share, dtype: float64"
      ]
     },
     "execution_count": 99,
     "metadata": {},
     "output_type": "execute_result"
    }
   ],
   "source": [
    "train_data['market_share'].describe()"
   ]
  },
  {
   "cell_type": "code",
   "execution_count": 224,
   "metadata": {},
   "outputs": [
    {
     "data": {
      "image/png": "[encoded data removed]",
      "text/plain": [
       "<Figure size 432x288 with 1 Axes>"
      ]
     },
     "metadata": {
      "needs_background": "light"
     },
     "output_type": "display_data"
    }
   ],
   "source": [
    "plt.hist(train_data['market_share'], bins=10)\n",
    "plt.show()"
   ]
  },
  {
   "cell_type": "markdown",
   "metadata": {},
   "source": [
    "Since the traget feature ('market_share') is continues, I create a new categorical feature based on it's mean value to be able to research it's relation with other features ."
   ]
  },
  {
   "cell_type": "code",
   "execution_count": 109,
   "metadata": {},
   "outputs": [
    {
     "data": {
      "text/html": [
       "<div>\n",
       "<style scoped>\n",
       "    .dataframe tbody tr th:only-of-type {\n",
       "        vertical-align: middle;\n",
       "    }\n",
       "\n",
       "    .dataframe tbody tr th {\n",
       "        vertical-align: top;\n",
       "    }\n",
       "\n",
       "    .dataframe thead th {\n",
       "        text-align: right;\n",
       "    }\n",
       "</style>\n",
       "<table border=\"1\" class=\"dataframe\">\n",
       "  <thead>\n",
       "    <tr style=\"text-align: right;\">\n",
       "      <th></th>\n",
       "      <th>unnamed</th>\n",
       "      <th>episode</th>\n",
       "      <th>station</th>\n",
       "      <th>ch_type</th>\n",
       "      <th>season</th>\n",
       "      <th>year</th>\n",
       "      <th>date</th>\n",
       "      <th>weekday</th>\n",
       "      <th>start_time</th>\n",
       "      <th>end_time</th>\n",
       "      <th>...</th>\n",
       "      <th>show_name</th>\n",
       "      <th>episode_name</th>\n",
       "      <th>genre</th>\n",
       "      <th>first_or_rerun</th>\n",
       "      <th>episodes_in_season</th>\n",
       "      <th>is_movie</th>\n",
       "      <th>overlaped_with_game</th>\n",
       "      <th>market_share</th>\n",
       "      <th>temperature</th>\n",
       "      <th>market_share_gt_mean</th>\n",
       "    </tr>\n",
       "  </thead>\n",
       "  <tbody>\n",
       "    <tr>\n",
       "      <th>7</th>\n",
       "      <td>8</td>\n",
       "      <td>Révolution</td>\n",
       "      <td>V Total</td>\n",
       "      <td>General Channel</td>\n",
       "      <td>Fall</td>\n",
       "      <td>2016</td>\n",
       "      <td>2016-08-29</td>\n",
       "      <td>Monday</td>\n",
       "      <td>2016-08-29 11:30:00</td>\n",
       "      <td>2016-08-29 12:30:00</td>\n",
       "      <td>...</td>\n",
       "      <td>Révolution</td>\n",
       "      <td>NaN</td>\n",
       "      <td>Ongoing Dramatic Series</td>\n",
       "      <td>No</td>\n",
       "      <td>Yes</td>\n",
       "      <td>No</td>\n",
       "      <td>No</td>\n",
       "      <td>1.4</td>\n",
       "      <td>19.5500</td>\n",
       "      <td>0</td>\n",
       "    </tr>\n",
       "    <tr>\n",
       "      <th>8</th>\n",
       "      <td>9</td>\n",
       "      <td>CSI: Miami</td>\n",
       "      <td>V Total</td>\n",
       "      <td>General Channel</td>\n",
       "      <td>Fall</td>\n",
       "      <td>2016</td>\n",
       "      <td>2016-08-29</td>\n",
       "      <td>Monday</td>\n",
       "      <td>2016-08-29 12:30:00</td>\n",
       "      <td>2016-08-29 13:30:00</td>\n",
       "      <td>...</td>\n",
       "      <td>CSI: Miami</td>\n",
       "      <td>NaN</td>\n",
       "      <td>Ongoing Dramatic Series</td>\n",
       "      <td>No</td>\n",
       "      <td>Yes</td>\n",
       "      <td>No</td>\n",
       "      <td>No</td>\n",
       "      <td>7.5</td>\n",
       "      <td>20.4375</td>\n",
       "      <td>1</td>\n",
       "    </tr>\n",
       "    <tr>\n",
       "      <th>9</th>\n",
       "      <td>10</td>\n",
       "      <td>CSI: Miami</td>\n",
       "      <td>V Total</td>\n",
       "      <td>General Channel</td>\n",
       "      <td>Fall</td>\n",
       "      <td>2016</td>\n",
       "      <td>2016-08-29</td>\n",
       "      <td>Monday</td>\n",
       "      <td>2016-08-29 13:30:00</td>\n",
       "      <td>2016-08-29 14:30:00</td>\n",
       "      <td>...</td>\n",
       "      <td>CSI: Miami</td>\n",
       "      <td>NaN</td>\n",
       "      <td>Ongoing Dramatic Series</td>\n",
       "      <td>No</td>\n",
       "      <td>Yes</td>\n",
       "      <td>No</td>\n",
       "      <td>No</td>\n",
       "      <td>12.1</td>\n",
       "      <td>21.4000</td>\n",
       "      <td>1</td>\n",
       "    </tr>\n",
       "  </tbody>\n",
       "</table>\n",
       "<p>3 rows × 21 columns</p>\n",
       "</div>"
      ],
      "text/plain": [
       "   unnamed     episode  station          ch_type season  year        date  \\\n",
       "7        8  Révolution  V Total  General Channel   Fall  2016  2016-08-29   \n",
       "8        9  CSI: Miami  V Total  General Channel   Fall  2016  2016-08-29   \n",
       "9       10  CSI: Miami  V Total  General Channel   Fall  2016  2016-08-29   \n",
       "\n",
       "  weekday           start_time             end_time  ...   show_name  \\\n",
       "7  Monday  2016-08-29 11:30:00  2016-08-29 12:30:00  ...  Révolution   \n",
       "8  Monday  2016-08-29 12:30:00  2016-08-29 13:30:00  ...  CSI: Miami   \n",
       "9  Monday  2016-08-29 13:30:00  2016-08-29 14:30:00  ...  CSI: Miami   \n",
       "\n",
       "  episode_name                    genre first_or_rerun episodes_in_season  \\\n",
       "7          NaN  Ongoing Dramatic Series             No                Yes   \n",
       "8          NaN  Ongoing Dramatic Series             No                Yes   \n",
       "9          NaN  Ongoing Dramatic Series             No                Yes   \n",
       "\n",
       "  is_movie overlaped_with_game market_share  temperature  market_share_gt_mean  \n",
       "7       No                  No          1.4      19.5500                     0  \n",
       "8       No                  No          7.5      20.4375                     1  \n",
       "9       No                  No         12.1      21.4000                     1  \n",
       "\n",
       "[3 rows x 21 columns]"
      ]
     },
     "execution_count": 109,
     "metadata": {},
     "output_type": "execute_result"
    }
   ],
   "source": [
    "train_data['market_share_gt_mean'] = list(map(int, train_data['market_share'] > train_data['market_share'].mean()))  # store bool values as 0 and 1\n",
    "train_data[7:10]"
   ]
  },
  {
   "cell_type": "markdown",
   "metadata": {},
   "source": [
    "### Handeling the missing values"
   ]
  },
  {
   "cell_type": "code",
   "execution_count": 86,
   "metadata": {},
   "outputs": [
    {
     "data": {
      "text/plain": [
       "unnamed                     0\n",
       "episode                     0\n",
       "station                     0\n",
       "ch_type                     0\n",
       "season                      0\n",
       "year                        0\n",
       "date                        0\n",
       "weekday                     0\n",
       "start_time                 43\n",
       "end_time                   43\n",
       "length                      0\n",
       "show_name                   0\n",
       "episode_name           222579\n",
       "genre                       0\n",
       "first_or_rerun              0\n",
       "episodes_in_season          0\n",
       "is_movie                    0\n",
       "overlaped_with_game         0\n",
       "market_share                0\n",
       "temperature             83344\n",
       "dtype: int64"
      ]
     },
     "execution_count": 86,
     "metadata": {},
     "output_type": "execute_result"
    }
   ],
   "source": [
    "train_data.isnull().sum()"
   ]
  },
  {
   "cell_type": "code",
   "execution_count": 176,
   "metadata": {},
   "outputs": [],
   "source": [
    "def cols_with_null_values(dataframe):\n",
    "    r\"\"\"Helper function for identifying columns with NaN value\n",
    "    \n",
    "    Parameters:\n",
    "    -------------\n",
    "        dataframe: pandas.DataFrame\n",
    "    \n",
    "    Returns:\n",
    "    -------------\n",
    "        List containing the name of columns which have NaN value\n",
    "    \"\"\"\n",
    "    null_check = dataframe.isnull().sum()\n",
    "    null_check = null_check[null_check > 0]\n",
    "    \n",
    "    return list(dict(null_check).keys())"
   ]
  },
  {
   "cell_type": "code",
   "execution_count": 88,
   "metadata": {},
   "outputs": [
    {
     "data": {
      "text/plain": [
       "['start_time', 'end_time', 'episode_name', 'temperature']"
      ]
     },
     "execution_count": 88,
     "metadata": {},
     "output_type": "execute_result"
    }
   ],
   "source": [
    "null_cols = cols_with_null_values(dataframe=train_data)\n",
    "null_cols"
   ]
  },
  {
   "cell_type": "markdown",
   "metadata": {},
   "source": [
    "**'start_time' and 'end_time' features**<br>\n",
    "Since both features are related and exactly have 43 missing values, I should check to find out if both of them is missing on the same row or not.<br>\n",
    "So, the below script returns the number of rows where both features are missing simultaneously."
   ]
  },
  {
   "cell_type": "code",
   "execution_count": 94,
   "metadata": {},
   "outputs": [
    {
     "data": {
      "text/plain": [
       "43"
      ]
     },
     "execution_count": 94,
     "metadata": {},
     "output_type": "execute_result"
    }
   ],
   "source": [
    "len(train_data[train_data['start_time'].isnull() & train_data['end_time'].isnull()])"
   ]
  },
  {
   "cell_type": "markdown",
   "metadata": {},
   "source": [
    "The calculated value (43) confirms that both features are missing at the same time.<br>\n",
    "We can use `start_time` and `end_time` to calculate the show time. After that we can fill the missing values for `time` feature with the column's mean and then drop the `start_time` and `end_time` features."
   ]
  },
  {
   "cell_type": "code",
   "execution_count": 190,
   "metadata": {},
   "outputs": [],
   "source": [
    "def get_running_time(row):\n",
    "    r\"\"\"Helper function to calculate length of a show.\n",
    "    \n",
    "    Parameters:\n",
    "    -------------\n",
    "        row: a pandas.DataFrame row\n",
    "        \n",
    "    Returns:\n",
    "    -------------\n",
    "        int: show length\n",
    "    \"\"\"\n",
    "    start = pd.to_datetime(row['start_time'])\n",
    "    end = pd.to_datetime(row['end_time'])\n",
    "\n",
    "    return (end - start).seconds // 60"
   ]
  },
  {
   "cell_type": "code",
   "execution_count": 188,
   "metadata": {},
   "outputs": [],
   "source": [
    "# apply the helper function and store the values in a new column\n",
    "train_data['time'] = train_data.apply(lambda x: get_running_time(x), axis=1)"
   ]
  },
  {
   "cell_type": "code",
   "execution_count": 215,
   "metadata": {},
   "outputs": [],
   "source": [
    "# fill time feature missing value with the mean\n",
    "train_data['time'].fillna(value=train_data['time'].mean(), inplace=True)\n",
    "# drop 'start_time' and 'end_time' columns\n",
    "train_data.drop(columns=['start_time', 'end_time'], inplace=True, errors='ignore')"
   ]
  },
  {
   "cell_type": "code",
   "execution_count": 211,
   "metadata": {},
   "outputs": [],
   "source": [
    "# boolean indicator to know if a row had 'episode_name' or not\n",
    "train_data['episode_name'] = train_data['episode_name'].apply(lambda x: 0 if pd.isnull(x) else 1)"
   ]
  },
  {
   "cell_type": "markdown",
   "metadata": {},
   "source": [
    "Grouping data by temperature (instances which have temperature and instances that don't)"
   ]
  },
  {
   "cell_type": "code",
   "execution_count": 218,
   "metadata": {},
   "outputs": [
    {
     "data": {
      "text/html": [
       "<div>\n",
       "<style scoped>\n",
       "    .dataframe tbody tr th:only-of-type {\n",
       "        vertical-align: middle;\n",
       "    }\n",
       "\n",
       "    .dataframe tbody tr th {\n",
       "        vertical-align: top;\n",
       "    }\n",
       "\n",
       "    .dataframe thead th {\n",
       "        text-align: right;\n",
       "    }\n",
       "</style>\n",
       "<table border=\"1\" class=\"dataframe\">\n",
       "  <thead>\n",
       "    <tr style=\"text-align: right;\">\n",
       "      <th></th>\n",
       "      <th>unnamed</th>\n",
       "      <th>year</th>\n",
       "      <th>length</th>\n",
       "      <th>episode_name</th>\n",
       "      <th>market_share</th>\n",
       "      <th>temperature</th>\n",
       "      <th>market_share_gt_mean</th>\n",
       "      <th>time</th>\n",
       "    </tr>\n",
       "    <tr>\n",
       "      <th>temperature</th>\n",
       "      <th></th>\n",
       "      <th></th>\n",
       "      <th></th>\n",
       "      <th></th>\n",
       "      <th></th>\n",
       "      <th></th>\n",
       "      <th></th>\n",
       "      <th></th>\n",
       "    </tr>\n",
       "  </thead>\n",
       "  <tbody>\n",
       "    <tr>\n",
       "      <th>False</th>\n",
       "      <td>305174.562673</td>\n",
       "      <td>2017.371201</td>\n",
       "      <td>3.591995</td>\n",
       "      <td>0.628428</td>\n",
       "      <td>2.993039</td>\n",
       "      <td>6.707428</td>\n",
       "      <td>0.265818</td>\n",
       "      <td>54.945803</td>\n",
       "    </tr>\n",
       "    <tr>\n",
       "      <th>True</th>\n",
       "      <td>328510.308217</td>\n",
       "      <td>2017.446811</td>\n",
       "      <td>0.720976</td>\n",
       "      <td>0.707057</td>\n",
       "      <td>3.130089</td>\n",
       "      <td>NaN</td>\n",
       "      <td>0.330018</td>\n",
       "      <td>16.709907</td>\n",
       "    </tr>\n",
       "  </tbody>\n",
       "</table>\n",
       "</div>"
      ],
      "text/plain": [
       "                   unnamed         year    length  episode_name  market_share  \\\n",
       "temperature                                                                     \n",
       "False        305174.562673  2017.371201  3.591995      0.628428      2.993039   \n",
       "True         328510.308217  2017.446811  0.720976      0.707057      3.130089   \n",
       "\n",
       "             temperature  market_share_gt_mean       time  \n",
       "temperature                                                \n",
       "False           6.707428              0.265818  54.945803  \n",
       "True                 NaN              0.330018  16.709907  "
      ]
     },
     "execution_count": 218,
     "metadata": {},
     "output_type": "execute_result"
    }
   ],
   "source": [
    "train_data.groupby(train_data['temperature'].isnull()).mean()"
   ]
  },
  {
   "cell_type": "code",
   "execution_count": 235,
   "metadata": {},
   "outputs": [
    {
     "data": {
      "text/plain": [
       "55839"
      ]
     },
     "execution_count": 235,
     "metadata": {},
     "output_type": "execute_result"
    }
   ],
   "source": [
    "train_data[train_data['market_share_gt_mean'] == 0]['temperature'].isnull().sum()"
   ]
  },
  {
   "cell_type": "code",
   "execution_count": 236,
   "metadata": {},
   "outputs": [
    {
     "data": {
      "text/plain": [
       "27505"
      ]
     },
     "execution_count": 236,
     "metadata": {},
     "output_type": "execute_result"
    }
   ],
   "source": [
    "train_data[train_data['market_share_gt_mean'] == 1]['temperature'].isnull().sum()"
   ]
  },
  {
   "cell_type": "code",
   "execution_count": 244,
   "metadata": {},
   "outputs": [],
   "source": [
    "# boolean indicator to know if the row had 'temperature' or not\n",
    "train_data['temperature_recorded'] = train_data['temperature'].apply(lambda x: 0 if pd.isnull(x) else 1)\n",
    "# fill temperature feature missing values with the mean\n",
    "train_data['temperature'].fillna(train_data['temperature'].mean(), inplace=True)"
   ]
  },
  {
   "cell_type": "code",
   "execution_count": null,
   "metadata": {},
   "outputs": [],
   "source": []
  },
  {
   "cell_type": "code",
   "execution_count": null,
   "metadata": {},
   "outputs": [],
   "source": []
  },
  {
   "cell_type": "code",
   "execution_count": 242,
   "metadata": {},
   "outputs": [
    {
     "data": {
      "text/plain": [
       "153781"
      ]
     },
     "execution_count": 242,
     "metadata": {},
     "output_type": "execute_result"
    }
   ],
   "source": [
    "len(train_data[(train_data['market_share_gt_mean'] == 0) & (train_data['episode_name'] == 0)])"
   ]
  },
  {
   "cell_type": "code",
   "execution_count": 243,
   "metadata": {},
   "outputs": [
    {
     "data": {
      "text/plain": [
       "68798"
      ]
     },
     "execution_count": 243,
     "metadata": {},
     "output_type": "execute_result"
    }
   ],
   "source": [
    "len(train_data[(train_data['market_share_gt_mean'] == 1) & (train_data['episode_name'] == 0)])"
   ]
  },
  {
   "cell_type": "code",
   "execution_count": null,
   "metadata": {},
   "outputs": [],
   "source": []
  },
  {
   "cell_type": "code",
   "execution_count": null,
   "metadata": {},
   "outputs": [],
   "source": []
  },
  {
   "cell_type": "code",
   "execution_count": null,
   "metadata": {},
   "outputs": [],
   "source": []
  },
  {
   "cell_type": "code",
   "execution_count": null,
   "metadata": {},
   "outputs": [],
   "source": []
  },
  {
   "cell_type": "code",
   "execution_count": null,
   "metadata": {},
   "outputs": [],
   "source": []
  },
  {
   "cell_type": "code",
   "execution_count": null,
   "metadata": {},
   "outputs": [],
   "source": []
  }
 ],
 "metadata": {
  "kernelspec": {
   "display_name": "Python 3",
   "language": "python",
   "name": "python3"
  },
  "language_info": {
   "codemirror_mode": {
    "name": "ipython",
    "version": 3
   },
   "file_extension": ".py",
   "mimetype": "text/x-python",
   "name": "python",
   "nbconvert_exporter": "python",
   "pygments_lexer": "ipython3",
   "version": "3.7.6"
  }
 },
 "nbformat": 4,
 "nbformat_minor": 4
}
